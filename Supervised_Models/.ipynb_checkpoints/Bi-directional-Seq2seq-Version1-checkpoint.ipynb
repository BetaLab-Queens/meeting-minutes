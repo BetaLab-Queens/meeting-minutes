{
 "cells": [
  {
   "cell_type": "markdown",
   "metadata": {},
   "source": [
    "# Bi-directional seq2seq using GloVe embeddings, not working yet. "
   ]
  },
  {
   "cell_type": "code",
   "execution_count": 1,
   "metadata": {},
   "outputs": [
    {
     "name": "stderr",
     "output_type": "stream",
     "text": [
      "Using TensorFlow backend.\n"
     ]
    },
    {
     "name": "stdout",
     "output_type": "stream",
     "text": [
      "Using matplotlib backend: TkAgg\n"
     ]
    }
   ],
   "source": [
    "from attention import AttentionLayer\n",
    "import numpy as np  \n",
    "import pandas as pd \n",
    "import re           \n",
    "from bs4 import BeautifulSoup \n",
    "from keras.preprocessing.text import Tokenizer \n",
    "from keras.preprocessing.sequence import pad_sequences\n",
    "from nltk.corpus import stopwords   \n",
    "import warnings\n",
    "import matplotlib.pyplot as plt\n",
    "%matplotlib\n",
    "pd.set_option(\"display.max_colwidth\", 200)\n",
    "warnings.filterwarnings(\"ignore\")"
   ]
  },
  {
   "cell_type": "code",
   "execution_count": 2,
   "metadata": {},
   "outputs": [],
   "source": [
    "data=pd.read_csv(\"..\\\\Data\\\\model_training\\\\100000_samples_Reviews.csv\", nrows=5000)\n",
    "# data=pd.read_csv('../../BetaLab-meeting-minutes/Reviews.csv') #, nrows=50000)\n",
    "data.drop_duplicates(subset=['Text'],inplace=True)  #dropping duplicates\n",
    "data.dropna(axis=0,inplace=True)#dropping na rows"
   ]
  },
  {
   "cell_type": "code",
   "execution_count": 3,
   "metadata": {},
   "outputs": [],
   "source": [
    "contraction_mapping = {\"ain't\": \"is not\", \"aren't\": \"are not\",\"can't\": \"cannot\", \"'cause\": \"because\", \"could've\": \"could have\", \"couldn't\": \"could not\",\n",
    "\n",
    "                           \"didn't\": \"did not\", \"doesn't\": \"does not\", \"don't\": \"do not\", \"hadn't\": \"had not\", \"hasn't\": \"has not\", \"haven't\": \"have not\",\n",
    "\n",
    "                           \"he'd\": \"he would\",\"he'll\": \"he will\", \"he's\": \"he is\", \"how'd\": \"how did\", \"how'd'y\": \"how do you\", \"how'll\": \"how will\", \"how's\": \"how is\",\n",
    "\n",
    "                           \"I'd\": \"I would\", \"I'd've\": \"I would have\", \"I'll\": \"I will\", \"I'll've\": \"I will have\",\"I'm\": \"I am\", \"I've\": \"I have\", \"i'd\": \"i would\",\n",
    "\n",
    "                           \"i'd've\": \"i would have\", \"i'll\": \"i will\",  \"i'll've\": \"i will have\",\"i'm\": \"i am\", \"i've\": \"i have\", \"isn't\": \"is not\", \"it'd\": \"it would\",\n",
    "\n",
    "                           \"it'd've\": \"it would have\", \"it'll\": \"it will\", \"it'll've\": \"it will have\",\"it's\": \"it is\", \"let's\": \"let us\", \"ma'am\": \"madam\",\n",
    "\n",
    "                           \"mayn't\": \"may not\", \"might've\": \"might have\",\"mightn't\": \"might not\",\"mightn't've\": \"might not have\", \"must've\": \"must have\",\n",
    "\n",
    "                           \"mustn't\": \"must not\", \"mustn't've\": \"must not have\", \"needn't\": \"need not\", \"needn't've\": \"need not have\",\"o'clock\": \"of the clock\",\n",
    "\n",
    "                           \"oughtn't\": \"ought not\", \"oughtn't've\": \"ought not have\", \"shan't\": \"shall not\", \"sha'n't\": \"shall not\", \"shan't've\": \"shall not have\",\n",
    "\n",
    "                           \"she'd\": \"she would\", \"she'd've\": \"she would have\", \"she'll\": \"she will\", \"she'll've\": \"she will have\", \"she's\": \"she is\",\n",
    "\n",
    "                           \"should've\": \"should have\", \"shouldn't\": \"should not\", \"shouldn't've\": \"should not have\", \"so've\": \"so have\",\"so's\": \"so as\",\n",
    "\n",
    "                           \"this's\": \"this is\",\"that'd\": \"that would\", \"that'd've\": \"that would have\", \"that's\": \"that is\", \"there'd\": \"there would\",\n",
    "\n",
    "                           \"there'd've\": \"there would have\", \"there's\": \"there is\", \"here's\": \"here is\",\"they'd\": \"they would\", \"they'd've\": \"they would have\",\n",
    "\n",
    "                           \"they'll\": \"they will\", \"they'll've\": \"they will have\", \"they're\": \"they are\", \"they've\": \"they have\", \"to've\": \"to have\",\n",
    "\n",
    "                           \"wasn't\": \"was not\", \"we'd\": \"we would\", \"we'd've\": \"we would have\", \"we'll\": \"we will\", \"we'll've\": \"we will have\", \"we're\": \"we are\",\n",
    "\n",
    "                           \"we've\": \"we have\", \"weren't\": \"were not\", \"what'll\": \"what will\", \"what'll've\": \"what will have\", \"what're\": \"what are\",\n",
    "\n",
    "                           \"what's\": \"what is\", \"what've\": \"what have\", \"when's\": \"when is\", \"when've\": \"when have\", \"where'd\": \"where did\", \"where's\": \"where is\",\n",
    "\n",
    "                           \"where've\": \"where have\", \"who'll\": \"who will\", \"who'll've\": \"who will have\", \"who's\": \"who is\", \"who've\": \"who have\",\n",
    "\n",
    "                           \"why's\": \"why is\", \"why've\": \"why have\", \"will've\": \"will have\", \"won't\": \"will not\", \"won't've\": \"will not have\",\n",
    "\n",
    "                           \"would've\": \"would have\", \"wouldn't\": \"would not\", \"wouldn't've\": \"would not have\", \"y'all\": \"you all\",\n",
    "\n",
    "                           \"y'all'd\": \"you all would\",\"y'all'd've\": \"you all would have\",\"y'all're\": \"you all are\",\"y'all've\": \"you all have\",\n",
    "\n",
    "                           \"you'd\": \"you would\", \"you'd've\": \"you would have\", \"you'll\": \"you will\", \"you'll've\": \"you will have\",\n",
    "\n",
    "                           \"you're\": \"you are\", \"you've\": \"you have\"}"
   ]
  },
  {
   "cell_type": "code",
   "execution_count": 4,
   "metadata": {},
   "outputs": [
    {
     "data": {
      "text/html": [
       "<div>\n",
       "<style scoped>\n",
       "    .dataframe tbody tr th:only-of-type {\n",
       "        vertical-align: middle;\n",
       "    }\n",
       "\n",
       "    .dataframe tbody tr th {\n",
       "        vertical-align: top;\n",
       "    }\n",
       "\n",
       "    .dataframe thead th {\n",
       "        text-align: right;\n",
       "    }\n",
       "</style>\n",
       "<table border=\"1\" class=\"dataframe\">\n",
       "  <thead>\n",
       "    <tr style=\"text-align: right;\">\n",
       "      <th></th>\n",
       "      <th>Text</th>\n",
       "      <th>Summary</th>\n",
       "    </tr>\n",
       "  </thead>\n",
       "  <tbody>\n",
       "    <tr>\n",
       "      <th>0</th>\n",
       "      <td>I have bought several of the Vitality canned dog food products and have found them all to be of good quality. The product looks more like a stew than a processed meat and it smells better. My Labr...</td>\n",
       "      <td>Good Quality Dog Food</td>\n",
       "    </tr>\n",
       "    <tr>\n",
       "      <th>1</th>\n",
       "      <td>Product arrived labeled as Jumbo Salted Peanuts...the peanuts were actually small sized unsalted. Not sure if this was an error or if the vendor intended to represent the product as \"Jumbo\".</td>\n",
       "      <td>Not as Advertised</td>\n",
       "    </tr>\n",
       "    <tr>\n",
       "      <th>2</th>\n",
       "      <td>This is a confection that has been around a few centuries.  It is a light, pillowy citrus gelatin with nuts - in this case Filberts. And it is cut into tiny squares and then liberally coated with ...</td>\n",
       "      <td>\"Delight\" says it all</td>\n",
       "    </tr>\n",
       "    <tr>\n",
       "      <th>3</th>\n",
       "      <td>If you are looking for the secret ingredient in Robitussin I believe I have found it.  I got this in addition to the Root Beer Extract I ordered (which was good) and made some cherry soda.  The fl...</td>\n",
       "      <td>Cough Medicine</td>\n",
       "    </tr>\n",
       "    <tr>\n",
       "      <th>4</th>\n",
       "      <td>Great taffy at a great price.  There was a wide assortment of yummy taffy.  Delivery was very quick.  If your a taffy lover, this is a deal.</td>\n",
       "      <td>Great taffy</td>\n",
       "    </tr>\n",
       "  </tbody>\n",
       "</table>\n",
       "</div>"
      ],
      "text/plain": [
       "                                                                                                                                                                                                      Text  \\\n",
       "0  I have bought several of the Vitality canned dog food products and have found them all to be of good quality. The product looks more like a stew than a processed meat and it smells better. My Labr...   \n",
       "1           Product arrived labeled as Jumbo Salted Peanuts...the peanuts were actually small sized unsalted. Not sure if this was an error or if the vendor intended to represent the product as \"Jumbo\".   \n",
       "2  This is a confection that has been around a few centuries.  It is a light, pillowy citrus gelatin with nuts - in this case Filberts. And it is cut into tiny squares and then liberally coated with ...   \n",
       "3  If you are looking for the secret ingredient in Robitussin I believe I have found it.  I got this in addition to the Root Beer Extract I ordered (which was good) and made some cherry soda.  The fl...   \n",
       "4                                                             Great taffy at a great price.  There was a wide assortment of yummy taffy.  Delivery was very quick.  If your a taffy lover, this is a deal.   \n",
       "\n",
       "                 Summary  \n",
       "0  Good Quality Dog Food  \n",
       "1      Not as Advertised  \n",
       "2  \"Delight\" says it all  \n",
       "3         Cough Medicine  \n",
       "4            Great taffy  "
      ]
     },
     "execution_count": 4,
     "metadata": {},
     "output_type": "execute_result"
    }
   ],
   "source": [
    "# data=data.rename(columns = {'article': 'Text', 'title': 'Summary'})\n",
    "data.head()"
   ]
  },
  {
   "cell_type": "code",
   "execution_count": 5,
   "metadata": {},
   "outputs": [],
   "source": [
    "stop_words = set(stopwords.words('english')) \n",
    "def text_cleaner(text):\n",
    "    newString = text.lower()\n",
    "    newString = BeautifulSoup(newString, exclude_encodings=\"lxml\").text # removes html/xml taggs\n",
    "    newString = re.sub(r'\\([^)]*\\)', '', newString)\n",
    "    newString = re.sub('\"','', newString)\n",
    "    newString = ' '.join([contraction_mapping[t] if t in contraction_mapping else t for t in newString.split(\" \")])    \n",
    "    newString = re.sub(r\"'s\\b\",\"\",newString)\n",
    "    newString = re.sub(\"[^a-zA-Z]\", \" \", newString) \n",
    "    tokens = [w for w in newString.split() if not w in stop_words]\n",
    "    long_words=[]\n",
    "    for i in tokens:\n",
    "        if len(i)>=3:                  #removing short word\n",
    "            long_words.append(i)   \n",
    "    return (\" \".join(long_words)).strip()\n",
    "\n",
    "cleaned_text = []\n",
    "for t in data['Text']:\n",
    "    cleaned_text.append(text_cleaner(t))"
   ]
  },
  {
   "cell_type": "code",
   "execution_count": 6,
   "metadata": {},
   "outputs": [],
   "source": [
    "def summary_cleaner(text):\n",
    "    newString = re.sub('\"','', text)\n",
    "    newString = ' '.join([contraction_mapping[t] if t in contraction_mapping else t for t in newString.split(\" \")])    \n",
    "    newString = re.sub(r\"'s\\b\",\"\",newString)\n",
    "    newString = re.sub(\"[^a-zA-Z]\", \" \", newString)\n",
    "    newString = newString.lower()\n",
    "    tokens=newString.split()\n",
    "    newString=''\n",
    "    for i in tokens:\n",
    "        if len(i)>1:                                 \n",
    "            newString=newString+i+' '  \n",
    "    return newString\n",
    "\n",
    "#Call the above function\n",
    "cleaned_summary = []\n",
    "for t in data['Summary']:\n",
    "    cleaned_summary.append(summary_cleaner(t))\n",
    "\n",
    "data['cleaned_text']=cleaned_text\n",
    "data['cleaned_summary']=cleaned_summary\n",
    "data['cleaned_summary'].replace('', np.nan, inplace=True)\n",
    "data.dropna(axis=0,inplace=True)"
   ]
  },
  {
   "cell_type": "code",
   "execution_count": 7,
   "metadata": {},
   "outputs": [
    {
     "name": "stdout",
     "output_type": "stream",
     "text": [
      "Review: bought several vitality canned dog food products found good quality product looks like stew processed meat smells better labrador finicky appreciates product better\n",
      "Summary: good quality dog food \n",
      "\n",
      "Review: product arrived labeled jumbo salted peanuts peanuts actually small sized unsalted sure error vendor intended represent product jumbo\n",
      "Summary: not as advertised \n",
      "\n"
     ]
    }
   ],
   "source": [
    "for i in range(2):\n",
    "    print(\"Review:\",data['cleaned_text'][i])\n",
    "    print(\"Summary:\",data['cleaned_summary'][i])\n",
    "    print()"
   ]
  },
  {
   "cell_type": "code",
   "execution_count": 8,
   "metadata": {},
   "outputs": [
    {
     "data": {
      "image/png": "[encoded data removed]",
      "text/plain": [
       "<Figure size 432x288 with 2 Axes>"
      ]
     },
     "metadata": {
      "needs_background": "light"
     },
     "output_type": "display_data"
    }
   ],
   "source": [
    "text_word_count = []\n",
    "summary_word_count = []\n",
    "\n",
    "# populate the lists with sentence lengths\n",
    "for i in data['cleaned_text']:\n",
    "      text_word_count.append(len(i.split()))\n",
    "\n",
    "for i in data['cleaned_summary']:\n",
    "      summary_word_count.append(len(i.split()))\n",
    "\n",
    "length_df = pd.DataFrame({'text':text_word_count, 'summary':summary_word_count})\n",
    "length_df.hist(bins = 30)\n",
    "plt.show()"
   ]
  },
  {
   "cell_type": "code",
   "execution_count": 9,
   "metadata": {},
   "outputs": [],
   "source": [
    "max_len_text=30\n",
    "max_len_summary=8"
   ]
  },
  {
   "cell_type": "code",
   "execution_count": 10,
   "metadata": {},
   "outputs": [],
   "source": [
    "cleaned_text =np.array(data['cleaned_text'])\n",
    "cleaned_summary=np.array(data['cleaned_summary'])\n",
    "\n",
    "short_text=[]\n",
    "short_summary=[]\n",
    "\n",
    "for i in range(len(cleaned_text)):\n",
    "    if(len(cleaned_summary[i].split())<=max_len_summary and len(cleaned_text[i].split())<=max_len_text):\n",
    "        short_text.append(cleaned_text[i])\n",
    "        short_summary.append(cleaned_summary[i])\n",
    "        \n",
    "df=pd.DataFrame({'text':short_text,'summary':short_summary})"
   ]
  },
  {
   "cell_type": "code",
   "execution_count": 11,
   "metadata": {},
   "outputs": [
    {
     "data": {
      "text/html": [
       "<div>\n",
       "<style scoped>\n",
       "    .dataframe tbody tr th:only-of-type {\n",
       "        vertical-align: middle;\n",
       "    }\n",
       "\n",
       "    .dataframe tbody tr th {\n",
       "        vertical-align: top;\n",
       "    }\n",
       "\n",
       "    .dataframe thead th {\n",
       "        text-align: right;\n",
       "    }\n",
       "</style>\n",
       "<table border=\"1\" class=\"dataframe\">\n",
       "  <thead>\n",
       "    <tr style=\"text-align: right;\">\n",
       "      <th></th>\n",
       "      <th>text</th>\n",
       "      <th>summary</th>\n",
       "    </tr>\n",
       "  </thead>\n",
       "  <tbody>\n",
       "    <tr>\n",
       "      <th>0</th>\n",
       "      <td>bought several vitality canned dog food products found good quality product looks like stew processed meat smells better labrador finicky appreciates product better</td>\n",
       "      <td>sostok good quality dog food  eostok</td>\n",
       "    </tr>\n",
       "    <tr>\n",
       "      <th>1</th>\n",
       "      <td>product arrived labeled jumbo salted peanuts peanuts actually small sized unsalted sure error vendor intended represent product jumbo</td>\n",
       "      <td>sostok not as advertised  eostok</td>\n",
       "    </tr>\n",
       "    <tr>\n",
       "      <th>2</th>\n",
       "      <td>looking secret ingredient robitussin believe found got addition root beer extract ordered made cherry soda flavor medicinal</td>\n",
       "      <td>sostok cough medicine  eostok</td>\n",
       "    </tr>\n",
       "    <tr>\n",
       "      <th>3</th>\n",
       "      <td>great taffy great price wide assortment yummy taffy delivery quick taffy lover deal</td>\n",
       "      <td>sostok great taffy  eostok</td>\n",
       "    </tr>\n",
       "    <tr>\n",
       "      <th>4</th>\n",
       "      <td>saltwater taffy great flavors soft chewy candy individually wrapped well none candies stuck together happen expensive version fralinger would highly recommend candy served beach themed party every...</td>\n",
       "      <td>sostok great just as good as the expensive brands  eostok</td>\n",
       "    </tr>\n",
       "    <tr>\n",
       "      <th>...</th>\n",
       "      <td>...</td>\n",
       "      <td>...</td>\n",
       "    </tr>\n",
       "    <tr>\n",
       "      <th>2878</th>\n",
       "      <td>best ever add hot water mix yummy anything even add cream sauces soups add sausage heaven yummy yum cannot wrong ordering product</td>\n",
       "      <td>sostok best gravy ever  eostok</td>\n",
       "    </tr>\n",
       "    <tr>\n",
       "      <th>2879</th>\n",
       "      <td>pioneer brand gravy mix country ounce packets gravy breakfast buffet motel branson good waitress told name looked internet found amazon give excellent rating</td>\n",
       "      <td>sostok pioneer brand peppered gravy mix  eostok</td>\n",
       "    </tr>\n",
       "    <tr>\n",
       "      <th>2880</th>\n",
       "      <td>really excellent breakfast bars note previous reviewer nutrigrain bars last checked artificial color also taste good third order amazon daughter misses</td>\n",
       "      <td>sostok yummy  eostok</td>\n",
       "    </tr>\n",
       "    <tr>\n",
       "      <th>2881</th>\n",
       "      <td>flavor fruit enclosed outstanding drawback blanket encloses fruit bit thick pastry textured flavored cane syrup cal per bar low fat carbs bad considering great taste</td>\n",
       "      <td>sostok healthy surprise  eostok</td>\n",
       "    </tr>\n",
       "    <tr>\n",
       "      <th>2882</th>\n",
       "      <td>keep box desk work make wonderful snack great time breakfast</td>\n",
       "      <td>sostok wonderful  eostok</td>\n",
       "    </tr>\n",
       "  </tbody>\n",
       "</table>\n",
       "<p>2883 rows × 2 columns</p>\n",
       "</div>"
      ],
      "text/plain": [
       "                                                                                                                                                                                                         text  \\\n",
       "0                                        bought several vitality canned dog food products found good quality product looks like stew processed meat smells better labrador finicky appreciates product better   \n",
       "1                                                                       product arrived labeled jumbo salted peanuts peanuts actually small sized unsalted sure error vendor intended represent product jumbo   \n",
       "2                                                                                 looking secret ingredient robitussin believe found got addition root beer extract ordered made cherry soda flavor medicinal   \n",
       "3                                                                                                                         great taffy great price wide assortment yummy taffy delivery quick taffy lover deal   \n",
       "4     saltwater taffy great flavors soft chewy candy individually wrapped well none candies stuck together happen expensive version fralinger would highly recommend candy served beach themed party every...   \n",
       "...                                                                                                                                                                                                       ...   \n",
       "2878                                                                        best ever add hot water mix yummy anything even add cream sauces soups add sausage heaven yummy yum cannot wrong ordering product   \n",
       "2879                                            pioneer brand gravy mix country ounce packets gravy breakfast buffet motel branson good waitress told name looked internet found amazon give excellent rating   \n",
       "2880                                                  really excellent breakfast bars note previous reviewer nutrigrain bars last checked artificial color also taste good third order amazon daughter misses   \n",
       "2881                                    flavor fruit enclosed outstanding drawback blanket encloses fruit bit thick pastry textured flavored cane syrup cal per bar low fat carbs bad considering great taste   \n",
       "2882                                                                                                                                             keep box desk work make wonderful snack great time breakfast   \n",
       "\n",
       "                                                        summary  \n",
       "0                          sostok good quality dog food  eostok  \n",
       "1                              sostok not as advertised  eostok  \n",
       "2                                 sostok cough medicine  eostok  \n",
       "3                                    sostok great taffy  eostok  \n",
       "4     sostok great just as good as the expensive brands  eostok  \n",
       "...                                                         ...  \n",
       "2878                             sostok best gravy ever  eostok  \n",
       "2879            sostok pioneer brand peppered gravy mix  eostok  \n",
       "2880                                       sostok yummy  eostok  \n",
       "2881                            sostok healthy surprise  eostok  \n",
       "2882                                   sostok wonderful  eostok  \n",
       "\n",
       "[2883 rows x 2 columns]"
      ]
     },
     "execution_count": 11,
     "metadata": {},
     "output_type": "execute_result"
    }
   ],
   "source": [
    "# Apply start of sentence/ end of sentence tokens to summary, used for \n",
    "df['summary'] = df['summary'].apply(lambda x : 'sostok '+ x + ' eostok')\n",
    "df"
   ]
  },
  {
   "cell_type": "markdown",
   "metadata": {},
   "source": [
    "# Version 1: Preprocessing.\n",
    "Do the train test split before hand, then tokenize etc. "
   ]
  },
  {
   "cell_type": "code",
   "execution_count": 12,
   "metadata": {},
   "outputs": [],
   "source": [
    "from sklearn.model_selection import train_test_split\n",
    "x_tr,x_val,y_tr,y_val=train_test_split(np.array(df['text']),np.array(df['summary']),test_size=0.2)"
   ]
  },
  {
   "cell_type": "code",
   "execution_count": 13,
   "metadata": {},
   "outputs": [
    {
     "data": {
      "text/plain": [
       "array(['sostok strange flavor  eostok', 'sostok great snack  eostok',\n",
       "       'sostok makes nice pakcake  eostok', 'sostok yummy  eostok',\n",
       "       'sostok bent in delivery  eostok', 'sostok jerky strips  eostok',\n",
       "       'sostok huge fan of these chips  eostok',\n",
       "       'sostok kettle organic chipotle potato chips  eostok',\n",
       "       'sostok great pancakes  eostok',\n",
       "       'sostok for box it is okay  eostok'], dtype=object)"
      ]
     },
     "execution_count": 13,
     "metadata": {},
     "output_type": "execute_result"
    }
   ],
   "source": [
    "y_val[0:10]"
   ]
  },
  {
   "cell_type": "markdown",
   "metadata": {},
   "source": [
    "## X: Text tokenizer"
   ]
  },
  {
   "cell_type": "code",
   "execution_count": 14,
   "metadata": {},
   "outputs": [
    {
     "name": "stdout",
     "output_type": "stream",
     "text": [
      "% of rare words in vocabulary: 70.04150875293269\n",
      "Total Coverage of rare words: 13.136355999327943\n"
     ]
    }
   ],
   "source": [
    "#prepare a tokenizer for reviews on training data\n",
    "x_tokenizer = Tokenizer()\n",
    "x_tokenizer.fit_on_texts(list(x_tr))\n",
    "\n",
    "thresh=4 # threshold = 4. Word whose count is below 4 is considered as a rare word\n",
    "cnt=0\n",
    "tot_cnt=0\n",
    "freq=0\n",
    "tot_freq=0\n",
    "\n",
    "for key,value in x_tokenizer.word_counts.items():\n",
    "    tot_cnt=tot_cnt+1\n",
    "    tot_freq=tot_freq+value\n",
    "    if(value<thresh):\n",
    "        cnt=cnt+1\n",
    "        freq=freq+value\n",
    "    \n",
    "print(\"% of rare words in vocabulary:\",(cnt/tot_cnt)*100)\n",
    "print(\"Total Coverage of rare words:\",(freq/tot_freq)*100)"
   ]
  },
  {
   "cell_type": "code",
   "execution_count": 15,
   "metadata": {},
   "outputs": [
    {
     "data": {
      "text/plain": [
       "1660"
      ]
     },
     "execution_count": 15,
     "metadata": {},
     "output_type": "execute_result"
    }
   ],
   "source": [
    "tot_cnt-cnt"
   ]
  },
  {
   "cell_type": "code",
   "execution_count": 16,
   "metadata": {},
   "outputs": [],
   "source": [
    "#prepare a tokenizer for reviews on training data\n",
    "# x_tokenizer = Tokenizer(num_words=tot_cnt-cnt) # for the vocabulary\n",
    "x_tokenizer = Tokenizer(tot_cnt-cnt)\n",
    "x_tokenizer.fit_on_texts(list(x_tr))\n",
    "\n",
    "#convert text sequences into integer sequences\n",
    "x_tr_seq    =   x_tokenizer.texts_to_sequences(x_tr) \n",
    "x_val_seq   =   x_tokenizer.texts_to_sequences(x_val)\n",
    "\n",
    "#padding zero upto maximum length\n",
    "x_tr    =   pad_sequences(x_tr_seq,  maxlen=max_len_text, padding='post')\n",
    "x_val   =   pad_sequences(x_val_seq, maxlen=max_len_text, padding='post')\n",
    "\n",
    "#size of vocabulary ( +1 for padding token)\n",
    "# x_voc   =  x_tokenizer.num_words + 1\n",
    "# x_voc"
   ]
  },
  {
   "cell_type": "code",
   "execution_count": 17,
   "metadata": {},
   "outputs": [
    {
     "data": {
      "text/plain": [
       "array([[  64, 1180,   30, ...,    0,    0,    0],\n",
       "       [   2,  203,  257, ...,    0,    0,    0],\n",
       "       [   3,   21,   64, ...,    0,    0,    0],\n",
       "       ...,\n",
       "       [   2,  192,  297, ...,    0,    0,    0],\n",
       "       [  58,    3,  288, ...,    0,    0,    0],\n",
       "       [ 367,  166,  105, ...,    0,    0,    0]])"
      ]
     },
     "execution_count": 17,
     "metadata": {},
     "output_type": "execute_result"
    }
   ],
   "source": [
    "x_tr"
   ]
  },
  {
   "cell_type": "code",
   "execution_count": 18,
   "metadata": {},
   "outputs": [
    {
     "data": {
      "text/plain": [
       "(2306, 30)"
      ]
     },
     "execution_count": 18,
     "metadata": {},
     "output_type": "execute_result"
    }
   ],
   "source": [
    "x_tr.shape"
   ]
  },
  {
   "cell_type": "markdown",
   "metadata": {},
   "source": [
    "## Y: Summary Tokenizer"
   ]
  },
  {
   "cell_type": "code",
   "execution_count": 19,
   "metadata": {},
   "outputs": [
    {
     "name": "stdout",
     "output_type": "stream",
     "text": [
      "% of rare words in vocabulary: 87.87158145065398\n",
      "Total Coverage of rare words: 20.061497548408543\n"
     ]
    }
   ],
   "source": [
    "#prepare a tokenizer for reviews on training data\n",
    "y_tokenizer = Tokenizer()   \n",
    "y_tokenizer.fit_on_texts(list(y_tr))\n",
    "\n",
    "thresh=6 # threshold = 6. Word whose count is below 6 is considered as a rare word, since summaries are less.\n",
    "cnt=0\n",
    "tot_cnt=0\n",
    "freq=0\n",
    "tot_freq=0\n",
    "\n",
    "for key,value in y_tokenizer.word_counts.items():\n",
    "    tot_cnt=tot_cnt+1\n",
    "    tot_freq=tot_freq+value\n",
    "    if(value<thresh):\n",
    "        cnt=cnt+1\n",
    "        freq=freq+value\n",
    "    \n",
    "print(\"% of rare words in vocabulary:\",(cnt/tot_cnt)*100)\n",
    "print(\"Total Coverage of rare words:\",(freq/tot_freq)*100)"
   ]
  },
  {
   "cell_type": "code",
   "execution_count": 20,
   "metadata": {},
   "outputs": [
    {
     "data": {
      "text/plain": [
       "204"
      ]
     },
     "execution_count": 20,
     "metadata": {},
     "output_type": "execute_result"
    }
   ],
   "source": [
    "tot_cnt-cnt"
   ]
  },
  {
   "cell_type": "code",
   "execution_count": 21,
   "metadata": {},
   "outputs": [
    {
     "data": {
      "text/plain": [
       "205"
      ]
     },
     "execution_count": 21,
     "metadata": {},
     "output_type": "execute_result"
    }
   ],
   "source": [
    "#prepare a tokenizer for reviews on training data\n",
    "# y_tokenizer = Tokenizer(num_words=tot_cnt-cnt) \n",
    "y_tokenizer = Tokenizer(num_words=tot_cnt-cnt)\n",
    "y_tokenizer.fit_on_texts(list(y_tr))\n",
    "\n",
    "#convert text sequences into integer sequences\n",
    "y_tr_seq    =   y_tokenizer.texts_to_sequences(y_tr) \n",
    "y_val_seq   =   y_tokenizer.texts_to_sequences(y_val) \n",
    "\n",
    "#padding zero upto maximum length\n",
    "y_tr    =   pad_sequences(y_tr_seq, maxlen=max_len_summary, padding='post')\n",
    "y_val   =   pad_sequences(y_val_seq, maxlen=max_len_summary, padding='post')\n",
    "\n",
    "#size of vocabulary\n",
    "y_voc  =   y_tokenizer.num_words +1\n",
    "y_voc"
   ]
  },
  {
   "cell_type": "code",
   "execution_count": 22,
   "metadata": {},
   "outputs": [
    {
     "data": {
      "text/plain": [
       "0"
      ]
     },
     "execution_count": 22,
     "metadata": {},
     "output_type": "execute_result"
    }
   ],
   "source": [
    "y_tokenizer.word_counts['sostok']-len(y_tr) # should be 0, check if there are any sostok's in the word list. "
   ]
  },
  {
   "cell_type": "code",
   "execution_count": 23,
   "metadata": {},
   "outputs": [
    {
     "name": "stdout",
     "output_type": "stream",
     "text": [
      "(2306, 8) (2306, 30)\n"
     ]
    }
   ],
   "source": [
    "print(y_tr.shape, x_tr.shape)"
   ]
  },
  {
   "cell_type": "code",
   "execution_count": 24,
   "metadata": {},
   "outputs": [],
   "source": [
    "# delete repeated reviews\n",
    "ind=[]\n",
    "for i in range(len(y_tr)):\n",
    "    cnt=0\n",
    "    for j in y_tr[i]:\n",
    "        if j!=0:\n",
    "            cnt=cnt+1\n",
    "    if(cnt==2):\n",
    "        ind.append(i)\n",
    "\n",
    "y_tr=np.delete(y_tr,ind, axis=0)\n",
    "x_tr=np.delete(x_tr,ind, axis=0)"
   ]
  },
  {
   "cell_type": "code",
   "execution_count": 25,
   "metadata": {},
   "outputs": [
    {
     "name": "stdout",
     "output_type": "stream",
     "text": [
      "(2046, 8) (2046, 30)\n"
     ]
    }
   ],
   "source": [
    "print(y_tr.shape, x_tr.shape)"
   ]
  },
  {
   "cell_type": "code",
   "execution_count": 26,
   "metadata": {},
   "outputs": [
    {
     "name": "stdout",
     "output_type": "stream",
     "text": [
      "(577, 8) (577, 30)\n"
     ]
    }
   ],
   "source": [
    "print(y_val.shape, x_val.shape)"
   ]
  },
  {
   "cell_type": "code",
   "execution_count": 27,
   "metadata": {},
   "outputs": [],
   "source": [
    "ind=[]\n",
    "for i in range(len(y_val)):\n",
    "    cnt=0\n",
    "    for j in y_val[i]:\n",
    "        if j!=0:\n",
    "            cnt=cnt+1\n",
    "    if(cnt==2):\n",
    "        ind.append(i)\n",
    "\n",
    "y_val=np.delete(y_val,ind, axis=0)\n",
    "x_val=np.delete(x_val,ind, axis=0)"
   ]
  },
  {
   "cell_type": "code",
   "execution_count": 28,
   "metadata": {},
   "outputs": [
    {
     "name": "stdout",
     "output_type": "stream",
     "text": [
      "(509, 8) (509, 30)\n"
     ]
    }
   ],
   "source": [
    "print(y_val.shape, x_val.shape)"
   ]
  },
  {
   "cell_type": "markdown",
   "metadata": {},
   "source": [
    "# Version 2: Preprocessing,\n",
    "uses a smaller VOCAB_SIZE instead of finding the \"right\" number of words.\n",
    "\n",
    "trains using all data instead of train/validation. Gives lower loss results."
   ]
  },
  {
   "cell_type": "code",
   "execution_count": 29,
   "metadata": {},
   "outputs": [],
   "source": [
    "# # np.array(df['text']),np.array(df['summary']),test_size=0.2\n",
    "# VOCAB_SIZE=999\n",
    "\n",
    "# # Text\n",
    "# text_tokenizer = Tokenizer(num_words=VOCAB_SIZE) # for the vocabulary\n",
    "# text_tokenizer.fit_on_texts(list(df.text))\n",
    "# text_sequences=text_tokenizer.texts_to_sequences(list(df.text))\n",
    "# text_word_index=text_tokenizer.word_index\n",
    "\n",
    "# text_word_index_vocab={}\n",
    "# counter = 0\n",
    "# for word in text_word_index.keys():\n",
    "#     if text_word_index[word] == 0:\n",
    "#         print(\"found 0!\")\n",
    "#         break\n",
    "#     if text_word_index[word] > VOCAB_SIZE:\n",
    "#         continue\n",
    "#     else:\n",
    "#         text_word_index_vocab[word] = text_word_index[word]\n",
    "#         counter += 1\n",
    "# print(counter)\n",
    "\n",
    "# # Summaries\n",
    "# sum_tokenizer = Tokenizer(num_words=VOCAB_SIZE) # for the vocabulary\n",
    "# sum_tokenizer.fit_on_texts(list(df.summary))\n",
    "# sum_word_index=sum_tokenizer.word_index\n",
    "\n",
    "# sum_word_index_vocab={}\n",
    "# counter = 0\n",
    "# for word in sum_word_index.keys():\n",
    "#     if sum_word_index[word] == 0:\n",
    "#         print(\"found 0!\")\n",
    "#         break\n",
    "#     if sum_word_index[word] > VOCAB_SIZE:\n",
    "#         continue\n",
    "#     else:\n",
    "#         sum_word_index_vocab[word] = sum_word_index[word]\n",
    "#         counter += 1\n",
    "# print(counter)\n",
    "# # should produce counter=VOCAB_SIZE=299 twice. "
   ]
  },
  {
   "cell_type": "code",
   "execution_count": 30,
   "metadata": {},
   "outputs": [],
   "source": [
    "# from itertools import islice\n",
    "# dict(islice(sum_word_index_vocab.items(), 10))"
   ]
  },
  {
   "cell_type": "markdown",
   "metadata": {},
   "source": [
    "## Pad sequences"
   ]
  },
  {
   "cell_type": "code",
   "execution_count": 31,
   "metadata": {},
   "outputs": [],
   "source": [
    "# from keras.preprocessing.sequence import pad_sequences\n",
    "# max_len_text=30\n",
    "# max_len_summary=8\n",
    "# MAX_LEN=20\n",
    "# text_sequences=text_tokenizer.texts_to_sequences(list(df.text))\n",
    "# sum_sequences=sum_tokenizer.texts_to_sequences(list(df.summary))\n",
    "\n",
    "# pad_text_sequences = pad_sequences(text_sequences, maxlen=MAX_LEN, padding='post', truncating='post')\n",
    "# pad_sum_sequences = pad_sequences(sum_sequences, maxlen=MAX_LEN, padding='post', truncating='post')\n",
    "# print(len(text_sequences[1]), len(pad_text_sequences[1]))\n",
    "# print(pad_text_sequences.shape)\n",
    "# pad_text_sequences"
   ]
  },
  {
   "cell_type": "markdown",
   "metadata": {},
   "source": [
    "## GloVe embeddings"
   ]
  },
  {
   "cell_type": "code",
   "execution_count": 32,
   "metadata": {},
   "outputs": [
    {
     "name": "stdout",
     "output_type": "stream",
     "text": [
      "Found 400000 word vectors.\n",
      "Creating embeddings_index took 42.2 seconds.\n"
     ]
    }
   ],
   "source": [
    "from load_glove_embeddings import load_glove_embeddings # local function from .py file\n",
    "glove_dimension = 200\n",
    "import time\n",
    "timer_start = time.time()\n",
    "# word2index, embedding_matrix = load_glove_embeddings('Data/word_embeddings/glove.6B.'+str(glove_dimension)+'d.txt', embedding_dim=glove_dimension, include_empty_char=False)\n",
    "word2index, embedding_matrix = load_glove_embeddings('../Data/word_embeddings/glove.6B.'+str(glove_dimension)+'d.txt', embedding_dim=glove_dimension, include_empty_char=False)\n",
    "\n",
    "print('Found %s word vectors.' % len(word2index))\n",
    "print(\"Creating embeddings_index took\", round(time.time() - timer_start, 1), \"seconds.\")\n",
    "del timer_start"
   ]
  },
  {
   "cell_type": "code",
   "execution_count": 33,
   "metadata": {},
   "outputs": [
    {
     "data": {
      "text/plain": [
       "array([[-0.071549  ,  0.093459  ,  0.023738  , ...,  0.33616999,\n",
       "         0.030591  ,  0.25577   ],\n",
       "       [ 0.17651001,  0.29207999, -0.0020768 , ..., -0.20773999,\n",
       "        -0.23188999, -0.10814   ],\n",
       "       [ 0.12289   ,  0.58037001, -0.069635  , ..., -0.039174  ,\n",
       "        -0.16236   , -0.096652  ],\n",
       "       ...,\n",
       "       [ 0.17931999, -0.22      ,  0.080188  , ..., -0.26853999,\n",
       "        -0.51296997, -0.40487   ],\n",
       "       [-0.44606999,  0.025024  ,  0.10755   , ..., -0.19955   ,\n",
       "        -0.17528   , -0.31097001],\n",
       "       [-0.51112998, -0.47518   ,  0.22871   , ..., -0.0057218 ,\n",
       "         0.16466001, -0.39074001]])"
      ]
     },
     "execution_count": 33,
     "metadata": {},
     "output_type": "execute_result"
    }
   ],
   "source": [
    "embedding_matrix"
   ]
  },
  {
   "cell_type": "code",
   "execution_count": 34,
   "metadata": {},
   "outputs": [
    {
     "data": {
      "text/plain": [
       "[('the', 0),\n",
       " (',', 1),\n",
       " ('.', 2),\n",
       " ('of', 3),\n",
       " ('to', 4),\n",
       " ('and', 5),\n",
       " ('in', 6),\n",
       " ('a', 7),\n",
       " ('\"', 8),\n",
       " (\"'s\", 9)]"
      ]
     },
     "execution_count": 34,
     "metadata": {},
     "output_type": "execute_result"
    }
   ],
   "source": [
    "from itertools import islice\n",
    "list(islice(word2index.items(), 10))"
   ]
  },
  {
   "cell_type": "code",
   "execution_count": 35,
   "metadata": {},
   "outputs": [],
   "source": [
    "def embedding_matrix_creater(embedding_dimention, word_index): \n",
    "    \"\"\"\n",
    "    Uses GloVe as a global word embedding. \n",
    "    \n",
    "    embedding_dimention: usually in the title of glove.6D.'embedding_dimention', in this notebook use 50. \n",
    "    word_index: the input word embeddings\n",
    "    \n",
    "    returns: a local embedding matrix, to be input as weights [embedding] for the constructor\n",
    "        for keras' Embedding object. \n",
    "    \"\"\"\n",
    "    local_embedding_matrix = np.zeros((len(word_index) + 1, embedding_dimention))\n",
    "    for word, i in word_index.items():\n",
    "        embedding_vector = word2index.get(word) # from cell above, from glove.\n",
    "        if embedding_vector is not None:\n",
    "          # words not found in embedding index will be all-zeros.\n",
    "            local_embedding_matrix[i] = embedding_vector\n",
    "    return local_embedding_matrix"
   ]
  },
  {
   "cell_type": "code",
   "execution_count": 36,
   "metadata": {},
   "outputs": [
    {
     "data": {
      "text/plain": [
       "5541"
      ]
     },
     "execution_count": 36,
     "metadata": {},
     "output_type": "execute_result"
    }
   ],
   "source": [
    "len(x_tokenizer.word_index)"
   ]
  },
  {
   "cell_type": "code",
   "execution_count": 87,
   "metadata": {},
   "outputs": [
    {
     "name": "stdout",
     "output_type": "stream",
     "text": [
      "(1662, 200)\n",
      "(206, 200)\n"
     ]
    }
   ],
   "source": [
    "from tensorflow.keras.layers import Embedding\n",
    "text_embedding_matrix = embedding_matrix_creater(glove_dimension, \n",
    "        word_index=dict(islice(x_tokenizer.word_index.items(), x_tokenizer.num_words+1)))\n",
    "print(text_embedding_matrix.shape)\n",
    "\n",
    "sum_embedding_matrix = embedding_matrix_creater(glove_dimension, \n",
    "        word_index=dict(islice(y_tokenizer.word_index.items(), y_tokenizer.num_words+1)))\n",
    "print(sum_embedding_matrix.shape)\n",
    "\n",
    "encoder_embedding_layer = Embedding(input_dim = text_embedding_matrix.shape[0], # vocab size\n",
    "                                    output_dim = text_embedding_matrix.shape[1], # embedding dimension\n",
    "                                    input_length = max_len_text, # sequence length\n",
    "                                    weights = [text_embedding_matrix],\n",
    "                                    trainable = False) # False because these embeddings have already been trained. \n",
    "\n",
    "decoder_embedding_layer = Embedding(input_dim = sum_embedding_matrix.shape[0],\n",
    "                                    output_dim = sum_embedding_matrix.shape[1],\n",
    "                                    input_length = max_len_summary,\n",
    "                                    weights = [sum_embedding_matrix],\n",
    "                                    trainable = False) # False because these embeddings have already been trained. "
   ]
  },
  {
   "cell_type": "code",
   "execution_count": 88,
   "metadata": {},
   "outputs": [],
   "source": [
    "# from tensorflow.keras.layers import Embedding\n",
    "# text_embedding_matrix = embedding_matrix_creater(glove_dimension, \n",
    "#         word_index=text_word_index_vocab)\n",
    "# print(text_embedding_matrix.shape)\n",
    "\n",
    "# sum_embedding_matrix = embedding_matrix_creater(glove_dimension, \n",
    "#         word_index=sum_word_index_vocab)\n",
    "# print(sum_embedding_matrix.shape)\n",
    "\n",
    "# encoder_embedding_layer = Embedding(input_dim = text_embedding_matrix.shape[0], # vocab size\n",
    "#                                     output_dim = text_embedding_matrix.shape[1], # embedding dimension\n",
    "#                                     input_length = MAX_LEN, # sequence length\n",
    "#                                     weights = [text_embedding_matrix],\n",
    "#                                     trainable = False) # False because these embeddings have already been trained. \n",
    "\n",
    "# decoder_embedding_layer = Embedding(input_dim = sum_embedding_matrix.shape[0],\n",
    "#                                     output_dim = sum_embedding_matrix.shape[1],\n",
    "#                                     input_length = MAX_LEN,\n",
    "#                                     weights = [sum_embedding_matrix],\n",
    "#                                     trainable = False) # False because these embeddings have already been trained. "
   ]
  },
  {
   "cell_type": "code",
   "execution_count": 89,
   "metadata": {},
   "outputs": [],
   "source": [
    "# sum_embedding_matrix"
   ]
  },
  {
   "cell_type": "code",
   "execution_count": 90,
   "metadata": {},
   "outputs": [],
   "source": [
    "# text_embedding_matrix"
   ]
  },
  {
   "cell_type": "markdown",
   "metadata": {},
   "source": [
    "## Base model, inference doesn't need to be compiled, this does. "
   ]
  },
  {
   "cell_type": "code",
   "execution_count": 91,
   "metadata": {},
   "outputs": [
    {
     "data": {
      "text/plain": [
       "()"
      ]
     },
     "execution_count": 91,
     "metadata": {},
     "output_type": "execute_result"
    }
   ],
   "source": [
    "np.shape(data[\"Text\"][0])"
   ]
  },
  {
   "cell_type": "code",
   "execution_count": 92,
   "metadata": {
    "scrolled": false
   },
   "outputs": [
    {
     "data": {
      "image/png": "[encoded data removed]",
      "text/plain": [
       "<IPython.core.display.Image object>"
      ]
     },
     "execution_count": 92,
     "metadata": {},
     "output_type": "execute_result"
    }
   ],
   "source": [
    "\"\"\"\n",
    "Bidirectional LSTM: Others Inspired Encoder-Decoder-seq2seq\n",
    "\"\"\"\n",
    "from tensorflow.keras.layers import Input, LSTM, Embedding, Dropout,  Dense, Activation,Add, Concatenate, TimeDistributed, Bidirectional\n",
    "from tensorflow.keras.models import Model\n",
    "from tensorflow.keras.callbacks import EarlyStopping\n",
    "# MAX_LEN = 20\n",
    "HIDDEN_UNITS=300\n",
    "encoder_inputs = Input(shape=(max_len_text,), dtype='int32', name='encoder_inputs')\n",
    "encoder_embedding = encoder_embedding_layer(encoder_inputs)\n",
    "encoder_LSTM = LSTM(HIDDEN_UNITS, return_state=True)\n",
    "encoder_LSTM_R = LSTM(HIDDEN_UNITS, return_state=True, go_backwards=True)\n",
    "encoder_outputs_R, state_h_R, state_c_R = encoder_LSTM_R(encoder_embedding)\n",
    "encoder_outputs, state_h, state_c = encoder_LSTM(encoder_embedding)\n",
    "\n",
    "final_h = Add()([state_h, state_h_R])\n",
    "final_c = Add()([state_c, state_c_R])\n",
    "encoder_states = [final_h, final_c]\n",
    "\n",
    "\"\"\"\n",
    "decoder\n",
    "\"\"\"\n",
    "decoder_inputs = Input(shape=(None,), dtype='int32', name='decoder_inputs') # may be either (max_len_summary,) or (None,)\n",
    "decoder_embedding = decoder_embedding_layer(decoder_inputs)\n",
    "decoder_LSTM = LSTM(HIDDEN_UNITS, return_sequences=True, return_state=True)\n",
    "decoder_outputs, _, _ = decoder_LSTM(decoder_embedding, initial_state=encoder_states) \n",
    "decoder_dense = Dense(sum_embedding_matrix.shape[0]-1, activation='linear') # sum_embedding_matrix.shape[0] -1 = VOCAB_SIZE\n",
    "decoder_outputs = decoder_dense(decoder_outputs)\n",
    "\n",
    "model= Model(inputs=[encoder_inputs,decoder_inputs], outputs=decoder_outputs)\n",
    "# plot the model\n",
    "import os\n",
    "os.environ[\"PATH\"] += os.pathsep + 'C:/Program Files (x86)/Graphviz2.38/bin/'\n",
    "import tensorflow as tf\n",
    "tf.keras.utils.plot_model(model, to_file='model.png', show_shapes=True)"
   ]
  },
  {
   "cell_type": "markdown",
   "metadata": {},
   "source": [
    "## Compile + Train Model"
   ]
  },
  {
   "cell_type": "code",
   "execution_count": 62,
   "metadata": {},
   "outputs": [],
   "source": [
    "# from keras.optimizers import RMSprop\n",
    "# rmsprop = RMSprop(lr=0.002, clipnorm=1.0)\n",
    "# model.compile(optimizer='rmsprop', loss=\"mse\", metrics=[\"accuracy\"])"
   ]
  },
  {
   "cell_type": "code",
   "execution_count": 63,
   "metadata": {},
   "outputs": [
    {
     "name": "stdout",
     "output_type": "stream",
     "text": [
      "Train on 2046 samples, validate on 509 samples\n",
      "2046/2046 [==============================] - 20s 10ms/sample - loss: 5.1141 - val_loss: 4.1033\n"
     ]
    }
   ],
   "source": [
    "# model.compile(optimizer=\"adam\", loss=\"categorical_crossentropy\", metrics=[\"accuracy\"])\n",
    "# model.compile(optimizer='rmsprop', loss=\"mse\", metrics=[\"accuracy\"])\n",
    "model.compile(optimizer='rmsprop', loss='sparse_categorical_crossentropy')\n",
    "# es = EarlyStopping(monitor='val_loss', mode='min', verbose=1,patience=2)\n",
    "history=model.fit([x_tr,y_tr],\n",
    "                  y_tr.reshape(y_tr.shape[0],y_tr.shape[1], 1),\n",
    "                  epochs=1,\n",
    "#                   callbacks=[es],\n",
    "                  batch_size=64,\n",
    "                  validation_data=([x_val,y_val],\n",
    "                            y_val.reshape(y_val.shape[0],y_val.shape[1], 1)))"
   ]
  },
  {
   "cell_type": "markdown",
   "metadata": {},
   "source": [
    "## Inference Model. The loss above is very high."
   ]
  },
  {
   "cell_type": "code",
   "execution_count": 64,
   "metadata": {},
   "outputs": [
    {
     "data": {
      "image/png": "[encoded data removed]",
      "text/plain": [
       "<IPython.core.display.Image object>"
      ]
     },
     "execution_count": 64,
     "metadata": {},
     "output_type": "execute_result"
    }
   ],
   "source": [
    "# define encoder inference model\n",
    "encoder_model = Model(inputs=encoder_inputs, outputs=[encoder_outputs, state_h, state_c])\n",
    "tf.keras.utils.plot_model(encoder_model, to_file='encoder_model_bi.png', show_shapes=True)"
   ]
  },
  {
   "cell_type": "code",
   "execution_count": 65,
   "metadata": {},
   "outputs": [
    {
     "data": {
      "text/plain": [
       "<tf.Tensor 'embedding_1_2/Identity:0' shape=(None, None, 200) dtype=float32>"
      ]
     },
     "execution_count": 65,
     "metadata": {},
     "output_type": "execute_result"
    }
   ],
   "source": [
    "decoder_embedding"
   ]
  },
  {
   "cell_type": "code",
   "execution_count": 66,
   "metadata": {},
   "outputs": [
    {
     "data": {
      "image/png": "[encoded data removed]",
      "text/plain": [
       "<IPython.core.display.Image object>"
      ]
     },
     "execution_count": 66,
     "metadata": {},
     "output_type": "execute_result"
    }
   ],
   "source": [
    "# define decoder inference model\n",
    "decoder_state_input_h = Input(shape=(HIDDEN_UNITS,), name='dec_h')\n",
    "decoder_state_input_c = Input(shape=(HIDDEN_UNITS,), name='dec_c')\n",
    "decoder_hidden_state_input = Input(shape=(None,HIDDEN_UNITS), name='dec_hidden_state') # encoder output\n",
    "# NOTE\n",
    "# decoder_hidden_state_input = Input(shape=(max_text_len,latent_dim))\n",
    "\n",
    "decoder_outputs, state_h, state_c = decoder_LSTM(decoder_embedding, \n",
    "                                initial_state=[decoder_state_input_h, decoder_state_input_c])\n",
    "decoder_outputs = decoder_dense(decoder_outputs)\n",
    "decoder_model = Model(\n",
    "    [decoder_inputs] + [decoder_hidden_state_input,decoder_state_input_h,decoder_state_input_c], \n",
    "    [decoder_outputs] + [state_h, state_c])\n",
    "tf.keras.utils.plot_model(decoder_model, to_file='decoder_model_bi.png', show_shapes=True)"
   ]
  },
  {
   "cell_type": "code",
   "execution_count": 67,
   "metadata": {},
   "outputs": [],
   "source": [
    "reverse_target_word_index=y_tokenizer.index_word\n",
    "reverse_source_word_index=x_tokenizer.index_word\n",
    "target_word_index=y_tokenizer.word_index"
   ]
  },
  {
   "cell_type": "code",
   "execution_count": 68,
   "metadata": {},
   "outputs": [],
   "source": [
    "def seq2summary(input_seq):\n",
    "    newString=''\n",
    "    for i in input_seq:\n",
    "        if((i!=0 and i!=target_word_index['sostok']) and i!=target_word_index['eostok']):\n",
    "            newString=newString+reverse_target_word_index[i]+' '\n",
    "    return newString\n",
    "\n",
    "def seq2text(input_seq):\n",
    "    newString=''\n",
    "    for i in input_seq:\n",
    "        if(i!=0):\n",
    "            newString=newString+reverse_source_word_index[i]+' '\n",
    "    return newString"
   ]
  },
  {
   "cell_type": "code",
   "execution_count": 69,
   "metadata": {},
   "outputs": [],
   "source": [
    "def decode_sequence(input_seq):\n",
    "    # Encode the input as state vectors.\n",
    "    print('input_seq:', input_seq)\n",
    "    print('input_seq.shape:', input_seq.shape)\n",
    "    e_out, e_h, e_c = encoder_model.predict(input_seq)\n",
    "    e_out=e_out.reshape(1,1,HIDDEN_UNITS)\n",
    "    print('e_out:', e_out[0][0][0])\n",
    "    print('e_h:', e_h[0][0])\n",
    "    print('e_c:', e_c[0][0])\n",
    "    \n",
    "    # Generate empty target sequence of length 1.\n",
    "    target_seq = np.zeros((1,1))\n",
    "    \n",
    "    # Chose the 'start' word as the first word of the target sequence\n",
    "    target_seq[0,0] = target_word_index['sostok']\n",
    "    # works fine\n",
    "    print('target_seq.shape:', target_seq.shape)\n",
    "    stop_condition = False\n",
    "    decoded_sentence = ''\n",
    "    while not stop_condition:\n",
    "        output_tokens, h, c = decoder_model.predict([target_seq] + [e_out, e_h, e_c])\n",
    "    \n",
    "        # Sample a token\n",
    "        sampled_token_index = np.argmax(output_tokens[0, -1, :])\n",
    "#         print(sampled_token_index)\n",
    "#         if sampled_token_index != 0: # loops here too many times, shouldn't have an index of 0, but consistently does. \n",
    "        sampled_token = reverse_target_word_index[sampled_token_index]\n",
    "        \n",
    "        if(sampled_token!='eostok'):\n",
    "            decoded_sentence += ' '+sampled_token\n",
    "\n",
    "        # Exit condition: either hit max length or find stop word.\n",
    "        if (sampled_token == 'eostok' or len(decoded_sentence.split()) >= (max_len_summary-1)):\n",
    "            stop_condition = True\n",
    "\n",
    "        # Update the target sequence (of length 1).\n",
    "        target_seq = np.zeros((1,1))\n",
    "        target_seq[0, 0] = sampled_token_index\n",
    "        \n",
    "        # Update internal states\n",
    "        e_h, e_c = h, c\n",
    "\n",
    "    return decoded_sentence"
   ]
  },
  {
   "cell_type": "code",
   "execution_count": 70,
   "metadata": {},
   "outputs": [
    {
     "name": "stdout",
     "output_type": "stream",
     "text": [
      "Review: great work pop instant bag minute make coffee best tasting coffee easy make without mess \n",
      "Original summary: great taste \n",
      "\n",
      "input_seq: [[  2 203 257 465  39 605  29  10  12 166  10  61  29  82 766   0   0   0\n",
      "    0   0   0   0   0   0   0   0   0   0   0   0]]\n",
      "input_seq.shape: (1, 30)\n",
      "e_out: 0.6046757\n",
      "e_h: 0.6046757\n",
      "e_c: 2.0261116\n",
      "target_seq.shape: (1, 1)\n",
      "Predicted summary:  well of of of of of of\n",
      "________________________________________________________\n",
      "\n",
      "\n",
      "Review: like better regular even would better like \n",
      "Original summary: nice little but \n",
      "\n",
      "input_seq: [[ 3 21 64 37 11 21  3  0  0  0  0  0  0  0  0  0  0  0  0  0  0  0  0  0\n",
      "   0  0  0  0  0  0]]\n",
      "input_seq.shape: (1, 30)\n",
      "e_out: 0.5743238\n",
      "e_h: 0.5743238\n",
      "e_c: 1.7396989\n",
      "target_seq.shape: (1, 1)\n",
      "Predicted summary:  green of of of of of of\n",
      "________________________________________________________\n",
      "\n",
      "\n",
      "Review: made used sauce dipping sauce great love fact msg right amount sweetness little spicy right amount \n",
      "Original summary: really good sauce \n",
      "\n",
      "input_seq: [[ 50  52 108 844 108   2   5 271 933  89 184 845  25 177  89 184   0   0\n",
      "    0   0   0   0   0   0   0   0   0   0   0   0]]\n",
      "input_seq.shape: (1, 30)\n",
      "e_out: 0.6077088\n",
      "e_h: 0.6077088\n",
      "e_c: 2.0333323\n",
      "target_seq.shape: (1, 1)\n",
      "Predicted summary:  well of of of of of of\n",
      "________________________________________________________\n",
      "\n",
      "\n",
      "Review: peanut lover much larger peanuts six people christmas gift list ask every year \n",
      "Original summary: the best \n",
      "\n",
      "input_seq: [[387 846  23 443 563 645 211 291 204 646 701  91 187   0   0   0   0   0\n",
      "    0   0   0   0   0   0   0   0   0   0   0   0]]\n",
      "input_seq.shape: (1, 30)\n",
      "e_out: 0.5975423\n",
      "e_h: 0.5975423\n",
      "e_c: 1.9765189\n",
      "target_seq.shape: (1, 1)\n",
      "Predicted summary:  well of of of of of of\n",
      "________________________________________________________\n",
      "\n",
      "\n",
      "Review: would never heard brand cheap amazon extremely surprised good dark chocolate hot cocoa absolutely worth trying really quite good \n",
      "Original summary: delicious \n",
      "\n",
      "input_seq: [[ 11  88 564  77 351  22 444 388   1 167  24  20  69 238 134 328  14 218\n",
      "    1   0   0   0   0   0   0   0   0   0   0   0]]\n",
      "input_seq.shape: (1, 30)\n",
      "e_out: 0.6131743\n",
      "e_h: 0.6131743\n",
      "e_c: 1.9526927\n",
      "target_seq.shape: (1, 1)\n",
      "Predicted summary:  well of of of of of of\n",
      "________________________________________________________\n",
      "\n",
      "\n",
      "Review: ordered amazon recommended along popcorn popper got hey actually pop small kernels get popper absolute waste money \n",
      "Original summary: but \n",
      "\n",
      "input_seq: [[  54   22  314  369  155  647   70 1399  168  257   97  565   15  647\n",
      "   648  566  159    0    0    0    0    0    0    0    0    0    0    0\n",
      "     0    0]]\n",
      "input_seq.shape: (1, 30)\n",
      "e_out: 0.61017936\n",
      "e_h: 0.61017936\n",
      "e_c: 2.0250103\n",
      "target_seq.shape: (1, 1)\n",
      "Predicted summary:  well of of of of of of\n",
      "________________________________________________________\n",
      "\n",
      "\n",
      "Review: got supposed eat gluten flavors taste great seem much healthier regular potato chips looking gluten free snack highly recommend popchips \n",
      "Original summary: great gluten free snack and healthy \n",
      "\n",
      "input_seq: [[ 70 767  31  68  46   4   2 281  23 370  64 105   8 117  68  35  65 102\n",
      "   45 212   0   0   0   0   0   0   0   0   0   0]]\n",
      "input_seq.shape: (1, 30)\n",
      "e_out: 0.6131743\n",
      "e_h: 0.6131743\n",
      "e_c: 1.9526927\n",
      "target_seq.shape: (1, 1)\n",
      "Predicted summary:  well of of of of of of\n",
      "________________________________________________________\n",
      "\n",
      "\n",
      "Review: love fact turkey offered son favorite dish issues good balance \n",
      "Original summary: favorite \n",
      "\n",
      "input_seq: [[   5  271  934 1030  178   38  768  769    1  702    0    0    0    0\n",
      "     0    0    0    0    0    0    0    0    0    0    0    0    0    0\n",
      "     0    0]]\n",
      "input_seq.shape: (1, 30)\n",
      "e_out: 0.58586603\n",
      "e_h: 0.58586603\n",
      "e_c: 1.8590074\n",
      "target_seq.shape: (1, 1)\n",
      "Predicted summary:  green of of of of of of\n",
      "________________________________________________________\n",
      "\n",
      "\n",
      "Review: dark coffee bitterness smooth silk always use quality water clean coffee maker want great brew \n",
      "Original summary: dark but smooth \n",
      "\n",
      "input_seq: [[ 167   10  770  213 1181   74   27   83   78  445   10  523  125    2\n",
      "   352    0    0    0    0    0    0    0    0    0    0    0    0    0\n",
      "     0    0]]\n",
      "input_seq.shape: (1, 30)\n",
      "e_out: 0.6046757\n",
      "e_h: 0.6046757\n",
      "e_c: 2.0261116\n",
      "target_seq.shape: (1, 1)\n",
      "Predicted summary:  well of of of of of of\n",
      "________________________________________________________\n",
      "\n",
      "\n",
      "Review: almost pops less cents great children trip \n",
      "Original summary: could no to pop \n",
      "\n",
      "input_seq: [[ 188  567  156 1031    2  649  771    0    0    0    0    0    0    0\n",
      "     0    0    0    0    0    0    0    0    0    0    0    0    0    0\n",
      "     0    0]]\n",
      "input_seq.shape: (1, 30)\n",
      "e_out: 0.5743238\n",
      "e_h: 0.5743238\n",
      "e_c: 1.7396989\n",
      "target_seq.shape: (1, 1)\n",
      "Predicted summary:  green of of of of of of\n",
      "________________________________________________________\n",
      "\n",
      "\n",
      "Review: daughter baby food still eat tried foods like texture really good likes keep buying \n",
      "Original summary: favorite \n",
      "\n",
      "input_seq: [[179 302  26  93  31  19 239   3 219  14   1 272 123  94   0   0   0   0\n",
      "    0   0   0   0   0   0   0   0   0   0   0   0]]\n",
      "input_seq.shape: (1, 30)\n",
      "e_out: 0.6012352\n",
      "e_h: 0.6012352\n",
      "e_c: 2.0061345\n",
      "target_seq.shape: (1, 1)\n",
      "Predicted summary:  well of of of of of of\n",
      "________________________________________________________\n",
      "\n",
      "\n",
      "Review: gum absolute favorite purchasing amazon get large good price highly recommend gum plus enjoy peppermint flavor breath teeth time \n",
      "Original summary: white is the best \n",
      "\n",
      "input_seq: [[ 703  648   38  704   22   15  303    1   17  102   45  703  292   79\n",
      "   334    7 1033  848   28    0    0    0    0    0    0    0    0    0\n",
      "     0    0]]\n",
      "input_seq.shape: (1, 30)\n",
      "e_out: 0.6131743\n",
      "e_h: 0.6131743\n",
      "e_c: 1.9526927\n",
      "target_seq.shape: (1, 1)\n",
      "Predicted summary:  well of of of of of of\n",
      "________________________________________________________\n",
      "\n",
      "\n",
      "Review: popchips something wanted try baked barbeque ones okay rest terrible \n",
      "Original summary: chips \n",
      "\n",
      "input_seq: [[ 212  144  371   33  372 1182  164  446  705  650    0    0    0    0\n",
      "     0    0    0    0    0    0    0    0    0    0    0    0    0    0\n",
      "     0    0]]\n",
      "input_seq.shape: (1, 30)\n",
      "e_out: 0.5846\n",
      "e_h: 0.5846\n",
      "e_c: 1.8442774\n",
      "target_seq.shape: (1, 1)\n",
      "Predicted summary:  green of of of of of of\n",
      "________________________________________________________\n",
      "\n",
      "\n",
      "Review: local stocking pleased buy line make french soup stars since quality much bob red mill products star \n",
      "Original summary: great to be to get this \n",
      "\n",
      "input_seq: [[118 849 282  13 568  29 488 353 315 119  83  23 936 354 850 137 524   0\n",
      "    0   0   0   0   0   0   0   0   0   0   0   0]]\n",
      "input_seq.shape: (1, 30)\n",
      "e_out: 0.61017936\n",
      "e_h: 0.61017936\n",
      "e_c: 2.0250103\n",
      "target_seq.shape: (1, 1)\n",
      "Predicted summary:  well of of of of of of\n",
      "________________________________________________________\n",
      "\n",
      "\n",
      "Review: found chips store kind natural yet type grocery store never seen different regular chips oily taste flavorful know could get ordered case \n",
      "Original summary: yum \n",
      "\n",
      "input_seq: [[ 42   8  66 273 225 251 427 180  66  88 706 149  64   8 937   4 316 115\n",
      "   48  15  54 157   0   0   0   0   0   0   0   0]]\n",
      "input_seq.shape: (1, 30)\n",
      "e_out: 0.6215621\n",
      "e_h: 0.6215621\n",
      "e_c: 1.6989961\n",
      "target_seq.shape: (1, 1)\n",
      "Predicted summary:  well of of of of of of\n",
      "________________________________________________________\n",
      "\n",
      "\n",
      "Review: like animal crackers eat price great little guy loves \n",
      "Original summary: great price \n",
      "\n",
      "input_seq: [[   3 1400  409   31   17    2   25 1401   67    0    0    0    0    0\n",
      "     0    0    0    0    0    0    0    0    0    0    0    0    0    0\n",
      "     0    0]]\n",
      "input_seq.shape: (1, 30)\n",
      "e_out: 0.5819476\n",
      "e_h: 0.5819476\n",
      "e_c: 1.8176967\n",
      "target_seq.shape: (1, 1)\n",
      "Predicted summary:  green of of of of of of\n",
      "________________________________________________________\n",
      "\n",
      "\n",
      "Review: got cocoa cups based sister law great flavor inexpensive quite good combination ordering soon \n",
      "Original summary: great cocoa \n",
      "\n",
      "input_seq: [[ 70  69 145 651 707 938   2   7 851 218   1 772 160 466   0   0   0   0\n",
      "    0   0   0   0   0   0   0   0   0   0   0   0]]\n",
      "input_seq.shape: (1, 30)\n",
      "e_out: 0.6012352\n",
      "e_h: 0.6012352\n",
      "e_c: 2.0061345\n",
      "target_seq.shape: (1, 1)\n",
      "Predicted summary:  well of of of of of of\n",
      "________________________________________________________\n",
      "\n",
      "\n",
      "Review: far best cup hot cocoa tried nice rich flavor added convenience cup easy cup anytime like highly recommend \n",
      "Original summary: excellent hot cocoa \n",
      "\n",
      "input_seq: [[  84   12   41   20   69   19   57  259    7  329  525   41   61   41\n",
      "  1183    3  102   45    0    0    0    0    0    0    0    0    0    0\n",
      "     0    0]]\n",
      "input_seq.shape: (1, 30)\n"
     ]
    },
    {
     "name": "stdout",
     "output_type": "stream",
     "text": [
      "e_out: 0.6119857\n",
      "e_h: 0.6119857\n",
      "e_c: 1.9987755\n",
      "target_seq.shape: (1, 1)\n",
      "Predicted summary:  well of of of of of of\n",
      "________________________________________________________\n",
      "\n",
      "\n",
      "Review: love delicious subscription option ship times received two week one supposed shipped \n",
      "Original summary: does not work well \n",
      "\n",
      "input_seq: [[  5  30 852 389 489 252 158 111 447   9 767 317   0   0   0   0   0   0\n",
      "    0   0   0   0   0   0   0   0   0   0   0   0]]\n",
      "input_seq.shape: (1, 30)\n",
      "e_out: 0.59370804\n",
      "e_h: 0.59370804\n",
      "e_c: 1.9403728\n",
      "target_seq.shape: (1, 1)\n",
      "Predicted summary:  well of of of of of of\n",
      "________________________________________________________\n",
      "\n",
      "\n"
     ]
    }
   ],
   "source": [
    "for i in range(1,20):\n",
    "    print(\"Review:\",seq2text(x_tr[i]))\n",
    "    print(\"Original summary:\",seq2summary(y_tr[i]))\n",
    "    print()\n",
    "    print(\"Predicted summary:\",decode_sequence(x_tr[i].reshape(1,max_len_text)))\n",
    "    print(\"________________________________________________________\")\n",
    "    print(\"\\n\")"
   ]
  },
  {
   "cell_type": "markdown",
   "metadata": {},
   "source": [
    "# The inference encoder doesn't work^ (e_out etc. are relatively the same for each input)\n",
    "# The inference decoder may work, but cant be tested since the encoder doesn't work"
   ]
  },
  {
   "cell_type": "code",
   "execution_count": 71,
   "metadata": {},
   "outputs": [],
   "source": [
    "# en_shape = np.shape(train_data[\"article\"][0])\n",
    "# den_shape = np.shape(train_data[\"summary\"][0])"
   ]
  },
  {
   "cell_type": "code",
   "execution_count": 72,
   "metadata": {},
   "outputs": [],
   "source": [
    "# encoder_inputs = Input(shape=en_shape[1])\n",
    "# encoder_LSTM = LSTM(HIDDEN_UNITS, dropout_U = 0.2, dropout_W = 0.2 ,return_state=True)\n",
    "# rev_encoder_LSTM = LSTM(HIDDEN_UNITS, return_state=True, go_backwards=True)\n",
    "# #\n",
    "# encoder_outputs, state_h, state_c = encoder_LSTM(encoder_inputs)\n",
    "# rev_encoder_outputs, rev_state_h, rev_state_c = rev_encoder_LSTM(encoder_inputs)\n",
    "# #\n",
    "# final_state_h = Add()([state_h, rev_state_h])\n",
    "# final_state_c = Add()([state_c, rev_state_c])\n",
    "\n",
    "# encoder_states = [final_state_h, final_state_c]\n",
    "\n",
    "# # decoder\n",
    "# decoder_inputs = Input(shape=(None, de_shape[1]))\n",
    "# decoder_LSTM = LSTM(HIDDEN_UNITS, return_sequences=True, return_state=True)\n",
    "# decoder_outputs, _, _, = decoder_LSTM(decoder_inputs, initial_state=encoder_states)\n",
    "# decoder_dense = Dense(units=de_shape[1], activation=\"linear\")\n",
    "# decoder_outputs = decoder_dense(decoder_outputs)\n",
    "\n",
    "# # modeling\n",
    "# model = Model([encoder_inputs,decoder_inputs], decoder_outputs)\n",
    "# model.compile(optimizer=rmsprop, loss=\"mse\", metrics=[\"accuracy\"])\n",
    "\n",
    "# # return model\n",
    "# print(model.summary())\n",
    "\n",
    "# x_train, x_test, y_train, y_test = train_test_split(data[\"article\"], data[\"summaries\"], test_size=0.2)\n",
    "# model.fit([x_train, y_train], y_train, batch_size=BATCH_SIZE,\n",
    "#           epochs=EPOCHS, verbose=1, validation_data=([x_test, y_test], y_test))"
   ]
  },
  {
   "cell_type": "markdown",
   "metadata": {},
   "source": [
    "## Used to complile the model without using sparse-categorical entropy, for a better compilation with lower loss"
   ]
  },
  {
   "cell_type": "code",
   "execution_count": null,
   "metadata": {},
   "outputs": [],
   "source": [
    "num_samples = len(pad_sum_sequences)\n",
    "decoder_output_data = np.zeros((num_samples, MAX_LEN, VOCAB_SIZE), dtype=\"int32\")\n",
    "for i, seqs in enumerate(pad_sum_sequences):\n",
    "    for j, seq in enumerate(seqs):\n",
    "        if j > 0:\n",
    "            decoder_output_data[i][j][seq] = 1"
   ]
  },
  {
   "cell_type": "code",
   "execution_count": null,
   "metadata": {},
   "outputs": [],
   "source": [
    "train_num = art_train.shape[0]\n",
    "train_num"
   ]
  },
  {
   "cell_type": "code",
   "execution_count": null,
   "metadata": {},
   "outputs": [],
   "source": [
    "target_train = decoder_output_data[:train_num]\n",
    "target_test = decoder_output_data[train_num:]\n",
    "target_train.shape"
   ]
  },
  {
   "cell_type": "code",
   "execution_count": 74,
   "metadata": {},
   "outputs": [],
   "source": [
    "def decoder_output_creater(decoder_input_data, num_samples, MAX_LEN, VOCAB_SIZE):\n",
    "\n",
    "    decoder_output_data = np.zeros((num_samples, MAX_LEN, VOCAB_SIZE), dtype=\"float32\")\n",
    "\n",
    "    for i, seqs in enumerate(decoder_input_data):\n",
    "        for j, seq in enumerate(seqs):\n",
    "            if j > 0:\n",
    "                decoder_output_data[i][j][seq] = 1.\n",
    "    print(decoder_output_data.shape)\n",
    "\n",
    "    return decoder_output_data"
   ]
  },
  {
   "cell_type": "code",
   "execution_count": 76,
   "metadata": {},
   "outputs": [
    {
     "name": "stdout",
     "output_type": "stream",
     "text": [
      "(2046, 30, 1661)\n"
     ]
    },
    {
     "data": {
      "text/plain": [
       "(2046, 30, 1661)"
      ]
     },
     "execution_count": 76,
     "metadata": {},
     "output_type": "execute_result"
    }
   ],
   "source": [
    "# num_samples, MAX_LEN, VOCAB_SIZE\n",
    "decoder_output_creater(x_tr, x_tr.shape[0], max_len_text, x_tokenizer.num_words+1).shape"
   ]
  },
  {
   "cell_type": "code",
   "execution_count": null,
   "metadata": {},
   "outputs": [],
   "source": []
  },
  {
   "cell_type": "code",
   "execution_count": null,
   "metadata": {},
   "outputs": [],
   "source": []
  },
  {
   "cell_type": "code",
   "execution_count": null,
   "metadata": {},
   "outputs": [],
   "source": []
  },
  {
   "cell_type": "code",
   "execution_count": null,
   "metadata": {},
   "outputs": [],
   "source": []
  },
  {
   "cell_type": "code",
   "execution_count": null,
   "metadata": {},
   "outputs": [],
   "source": []
  },
  {
   "cell_type": "code",
   "execution_count": null,
   "metadata": {},
   "outputs": [],
   "source": []
  },
  {
   "cell_type": "code",
   "execution_count": null,
   "metadata": {},
   "outputs": [],
   "source": []
  },
  {
   "cell_type": "code",
   "execution_count": null,
   "metadata": {},
   "outputs": [],
   "source": []
  }
 ],
 "metadata": {
  "kernelspec": {
   "display_name": "Python 3",
   "language": "python",
   "name": "python3"
  },
  "language_info": {
   "codemirror_mode": {
    "name": "ipython",
    "version": 3
   },
   "file_extension": ".py",
   "mimetype": "text/x-python",
   "name": "python",
   "nbconvert_exporter": "python",
   "pygments_lexer": "ipython3",
   "version": "3.7.3"
  }
 },
 "nbformat": 4,
 "nbformat_minor": 2
}
