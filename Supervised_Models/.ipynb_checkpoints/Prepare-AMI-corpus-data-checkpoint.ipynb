{
 "cells": [
  {
   "cell_type": "code",
   "execution_count": 1,
   "metadata": {},
   "outputs": [],
   "source": [
    "# Data cloned from https://github.com/gcunhase/AMICorpusXML/tree/master/data\n",
    "path_summary=r'C:\\Users\\R-k-l\\Documents\\AA Fouth Year\\BetaLab\\AMICorpusXML\\data\\ami-summary\\abstractive'\n",
    "path_meeting=r'C:\\Users\\R-k-l\\Documents\\AA Fouth Year\\BetaLab\\AMICorpusXML\\data\\ami-transcripts'"
   ]
  },
  {
   "cell_type": "code",
   "execution_count": 2,
   "metadata": {},
   "outputs": [],
   "source": [
    "import os\n",
    "from os import listdir\n",
    "from os.path import isfile, join\n",
    "names_summary = [f for f in listdir(path_summary) if isfile(join(path_summary, f))]\n",
    "names_text = [f for f in listdir(path_meeting) if isfile(join(path_meeting, f))]"
   ]
  },
  {
   "cell_type": "code",
   "execution_count": 3,
   "metadata": {},
   "outputs": [
    {
     "name": "stdout",
     "output_type": "stream",
     "text": [
      "['ES2002a.abssumm.txt', 'ES2002b.abssumm.txt', 'ES2002c.abssumm.txt']\n",
      "['EN2001a.transcript.txt', 'EN2001b.transcript.txt', 'EN2001d.transcript.txt']\n"
     ]
    }
   ],
   "source": [
    "print(names_summary[:3])\n",
    "print(names_text[:3])"
   ]
  },
  {
   "cell_type": "markdown",
   "metadata": {},
   "source": [
    "### Keep only the files that overlap, to align the summaries and textfiles. "
   ]
  },
  {
   "cell_type": "markdown",
   "metadata": {},
   "source": [
    "The format is XX20YYZ."
   ]
  },
  {
   "cell_type": "code",
   "execution_count": 4,
   "metadata": {},
   "outputs": [
    {
     "data": {
      "text/plain": [
       "'ES2002a'"
      ]
     },
     "execution_count": 4,
     "metadata": {},
     "output_type": "execute_result"
    }
   ],
   "source": [
    "# The first 7 characters allign to each other. Use this to create a dataframe with columns Text and Summary\n",
    "names_summary[0][:7]"
   ]
  },
  {
   "cell_type": "markdown",
   "metadata": {},
   "source": [
    "### If names_summary[i] == names_text[i], keep. Else, discard."
   ]
  },
  {
   "cell_type": "code",
   "execution_count": 5,
   "metadata": {},
   "outputs": [],
   "source": [
    "aligned_summaries=[]\n",
    "aligned_meetings=[]\n",
    "for summ in names_summary:\n",
    "    for text in names_text:\n",
    "        if summ[:7]==text[:7]:\n",
    "            aligned_summaries.append(summ)\n",
    "            aligned_meetings.append(text)"
   ]
  },
  {
   "cell_type": "code",
   "execution_count": 6,
   "metadata": {},
   "outputs": [
    {
     "name": "stdout",
     "output_type": "stream",
     "text": [
      "['ES2002a.abssumm.txt', 'ES2002b.abssumm.txt', 'ES2002c.abssumm.txt', 'ES2002d.abssumm.txt', 'ES2003a.abssumm.txt']\n",
      "['ES2002a.transcript.txt', 'ES2002b.transcript.txt', 'ES2002c.transcript.txt', 'ES2002d.transcript.txt', 'ES2003a.transcript.txt']\n",
      "142 142\n"
     ]
    }
   ],
   "source": [
    "print(aligned_summaries[:5])\n",
    "print(aligned_meetings[:5])\n",
    "print(len(aligned_summaries), len(aligned_meetings))"
   ]
  },
  {
   "cell_type": "code",
   "execution_count": 7,
   "metadata": {},
   "outputs": [
    {
     "name": "stdout",
     "output_type": "stream",
     "text": [
      "C:\\Users\\R-k-l\\Documents\\AA Fouth Year\\BetaLab\\AMICorpusXML\\data\\ami-transcripts\n"
     ]
    }
   ],
   "source": [
    "os.chdir(path_meeting)\n",
    "print(os.getcwd())\n",
    "import pandas as pd\n",
    "df=pd.DataFrame()\n",
    "meetings=[]\n",
    "for i in range(len(aligned_meetings)):\n",
    "    with open(file=aligned_meetings[i], mode='r') as f:\n",
    "        meetings.append(f.read())\n",
    "        f.close()\n",
    "df['Text']=meetings"
   ]
  },
  {
   "cell_type": "code",
   "execution_count": 8,
   "metadata": {},
   "outputs": [
    {
     "name": "stdout",
     "output_type": "stream",
     "text": [
      "C:\\Users\\R-k-l\\Documents\\AA Fouth Year\\BetaLab\\AMICorpusXML\\data\\ami-summary\\abstractive\n"
     ]
    }
   ],
   "source": [
    "os.chdir(path_summary)\n",
    "print(os.getcwd())\n",
    "summaries=[]\n",
    "for i in range(len(aligned_summaries)):\n",
    "    with open(file=aligned_summaries[i], mode='r') as f:\n",
    "        summaries.append(f.read())\n",
    "        f.close()\n",
    "df['Summary']=summaries"
   ]
  },
  {
   "cell_type": "code",
   "execution_count": 9,
   "metadata": {},
   "outputs": [
    {
     "data": {
      "text/html": [
       "<div>\n",
       "<style scoped>\n",
       "    .dataframe tbody tr th:only-of-type {\n",
       "        vertical-align: middle;\n",
       "    }\n",
       "\n",
       "    .dataframe tbody tr th {\n",
       "        vertical-align: top;\n",
       "    }\n",
       "\n",
       "    .dataframe thead th {\n",
       "        text-align: right;\n",
       "    }\n",
       "</style>\n",
       "<table border=\"1\" class=\"dataframe\">\n",
       "  <thead>\n",
       "    <tr style=\"text-align: right;\">\n",
       "      <th></th>\n",
       "      <th>Text</th>\n",
       "      <th>Summary</th>\n",
       "    </tr>\n",
       "  </thead>\n",
       "  <tbody>\n",
       "    <tr>\n",
       "      <th>0</th>\n",
       "      <td>Um I'm Craig and I'm User Interface. Yeah. Wel...</td>\n",
       "      <td>The project manager introduced the upcoming pr...</td>\n",
       "    </tr>\n",
       "    <tr>\n",
       "      <th>1</th>\n",
       "      <td>Mm yeah. Nope, we're all set. Which which is t...</td>\n",
       "      <td>The project manager briefed the team on some n...</td>\n",
       "    </tr>\n",
       "    <tr>\n",
       "      <th>2</th>\n",
       "      <td>Yeah. Yeah, sure. It kinda does make sense, do...</td>\n",
       "      <td>The project manager recapped the decisions mad...</td>\n",
       "    </tr>\n",
       "    <tr>\n",
       "      <th>3</th>\n",
       "      <td>No. Ninja Homer, made in Japan. And there isn'...</td>\n",
       "      <td>The project manager recapped the decisions mad...</td>\n",
       "    </tr>\n",
       "    <tr>\n",
       "      <th>4</th>\n",
       "      <td>Okay, well I think we're ready to begin. Right...</td>\n",
       "      <td>The team members introduced themselves to each...</td>\n",
       "    </tr>\n",
       "    <tr>\n",
       "      <th>...</th>\n",
       "      <td>...</td>\n",
       "      <td>...</td>\n",
       "    </tr>\n",
       "    <tr>\n",
       "      <th>137</th>\n",
       "      <td>Okay. Could could I see the scroll bar as uh a...</td>\n",
       "      <td>The UI and ID presented a prototype drawing of...</td>\n",
       "    </tr>\n",
       "    <tr>\n",
       "      <th>138</th>\n",
       "      <td>Okay, good morning. This is our first team mee...</td>\n",
       "      <td>The goal of the project is to design an origin...</td>\n",
       "    </tr>\n",
       "    <tr>\n",
       "      <th>139</th>\n",
       "      <td>Okay, we Mm. Okay, that's fine. Um. Okay, now ...</td>\n",
       "      <td>Customers are willing to pay more for fancier ...</td>\n",
       "    </tr>\n",
       "    <tr>\n",
       "      <th>140</th>\n",
       "      <td>Hello. So, are you d what were j you guys disc...</td>\n",
       "      <td>For the conceptual design, the ID suggested to...</td>\n",
       "    </tr>\n",
       "    <tr>\n",
       "      <th>141</th>\n",
       "      <td>Uh we don't have any changes, do we? So no. It...</td>\n",
       "      <td>The UI and ID presented a prototype drawing of...</td>\n",
       "    </tr>\n",
       "  </tbody>\n",
       "</table>\n",
       "<p>142 rows × 2 columns</p>\n",
       "</div>"
      ],
      "text/plain": [
       "                                                  Text  \\\n",
       "0    Um I'm Craig and I'm User Interface. Yeah. Wel...   \n",
       "1    Mm yeah. Nope, we're all set. Which which is t...   \n",
       "2    Yeah. Yeah, sure. It kinda does make sense, do...   \n",
       "3    No. Ninja Homer, made in Japan. And there isn'...   \n",
       "4    Okay, well I think we're ready to begin. Right...   \n",
       "..                                                 ...   \n",
       "137  Okay. Could could I see the scroll bar as uh a...   \n",
       "138  Okay, good morning. This is our first team mee...   \n",
       "139  Okay, we Mm. Okay, that's fine. Um. Okay, now ...   \n",
       "140  Hello. So, are you d what were j you guys disc...   \n",
       "141  Uh we don't have any changes, do we? So no. It...   \n",
       "\n",
       "                                               Summary  \n",
       "0    The project manager introduced the upcoming pr...  \n",
       "1    The project manager briefed the team on some n...  \n",
       "2    The project manager recapped the decisions mad...  \n",
       "3    The project manager recapped the decisions mad...  \n",
       "4    The team members introduced themselves to each...  \n",
       "..                                                 ...  \n",
       "137  The UI and ID presented a prototype drawing of...  \n",
       "138  The goal of the project is to design an origin...  \n",
       "139  Customers are willing to pay more for fancier ...  \n",
       "140  For the conceptual design, the ID suggested to...  \n",
       "141  The UI and ID presented a prototype drawing of...  \n",
       "\n",
       "[142 rows x 2 columns]"
      ]
     },
     "execution_count": 9,
     "metadata": {},
     "output_type": "execute_result"
    }
   ],
   "source": [
    "df"
   ]
  },
  {
   "cell_type": "code",
   "execution_count": 10,
   "metadata": {},
   "outputs": [],
   "source": [
    "path=r'C:\\Users\\R-k-l\\AppData\\Local\\Programs\\Python\\Python37\\Scripts\\meeting-minutes\\Data\\model_training'\n",
    "df.to_csv(path+'/AMI.csv' , index=False)"
   ]
  },
  {
   "cell_type": "code",
   "execution_count": null,
   "metadata": {},
   "outputs": [],
   "source": []
  }
 ],
 "metadata": {
  "kernelspec": {
   "display_name": "Python 3",
   "language": "python",
   "name": "python3"
  },
  "language_info": {
   "codemirror_mode": {
    "name": "ipython",
    "version": 3
   },
   "file_extension": ".py",
   "mimetype": "text/x-python",
   "name": "python",
   "nbconvert_exporter": "python",
   "pygments_lexer": "ipython3",
   "version": "3.7.3"
  }
 },
 "nbformat": 4,
 "nbformat_minor": 2
}
