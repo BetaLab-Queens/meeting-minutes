{
 "cells": [
  {
   "cell_type": "code",
   "execution_count": 1,
   "metadata": {},
   "outputs": [
    {
     "name": "stderr",
     "output_type": "stream",
     "text": [
      "Using TensorFlow backend.\n"
     ]
    }
   ],
   "source": [
    "import numpy as np  \n",
    "import pandas as pd \n",
    "import re           \n",
    "import os\n",
    "from bs4 import BeautifulSoup \n",
    "from keras.preprocessing.text import Tokenizer \n",
    "from keras.preprocessing.sequence import pad_sequences\n",
    "from nltk.corpus import stopwords   \n",
    "from tensorflow.keras.layers import Input, LSTM, Embedding, Dense, Concatenate, TimeDistributed, Bidirectional\n",
    "from tensorflow.keras.models import Model\n",
    "from tensorflow.keras.callbacks import EarlyStopping\n",
    "import warnings\n",
    "pd.set_option(\"display.max_colwidth\", 200)\n",
    "warnings.filterwarnings(\"ignore\")\n",
    "import nltk"
   ]
  },
  {
   "cell_type": "code",
   "execution_count": 2,
   "metadata": {},
   "outputs": [
    {
     "data": {
      "text/html": [
       "<div>\n",
       "<style scoped>\n",
       "    .dataframe tbody tr th:only-of-type {\n",
       "        vertical-align: middle;\n",
       "    }\n",
       "\n",
       "    .dataframe tbody tr th {\n",
       "        vertical-align: top;\n",
       "    }\n",
       "\n",
       "    .dataframe thead th {\n",
       "        text-align: right;\n",
       "    }\n",
       "</style>\n",
       "<table border=\"1\" class=\"dataframe\">\n",
       "  <thead>\n",
       "    <tr style=\"text-align: right;\">\n",
       "      <th></th>\n",
       "      <th>Text</th>\n",
       "      <th>Summary</th>\n",
       "    </tr>\n",
       "  </thead>\n",
       "  <tbody>\n",
       "    <tr>\n",
       "      <th>219741</th>\n",
       "      <td>the indonesian police said a grenade was found inside the area of hilton hotel here on monday morning , a week after the australian government warned about possible attacks targeting hilton hotel .</td>\n",
       "      <td>grenade found at hilton hotel in jakarta</td>\n",
       "    </tr>\n",
       "    <tr>\n",
       "      <th>271006</th>\n",
       "      <td>the judge who previously silenced zacarias moussaoui released one of his pleadings wednesday , after concluding the accused sept. ## conspirator had avoided threats , racial slurs and calls to act...</td>\n",
       "      <td>absent threats and racial slurs moussaoui motion released to public</td>\n",
       "    </tr>\n",
       "    <tr>\n",
       "      <th>294352</th>\n",
       "      <td>algeria will pardon or reduce sentences for more than #,### convicted or suspected islamic militants , the justice ministry said thursday , moving ahead with a government effort to turn the page o...</td>\n",
       "      <td>algeria pardoning reducing sentences for more than #,### islamic militants</td>\n",
       "    </tr>\n",
       "    <tr>\n",
       "      <th>27039</th>\n",
       "      <td>after nearly ## years of battlefield service around the globe , the m-## may be on its way out as the standard u.s. army assault rifle because of flaws highlighted during the invasion and occupati...</td>\n",
       "      <td>the vietnam-era m## rifle shows its weaknesses in iraq combat ; may face earlier retirement</td>\n",
       "    </tr>\n",
       "    <tr>\n",
       "      <th>163602</th>\n",
       "      <td>although bill gates ' massive philanthropic foundation tends to get the most attention for its efforts to transform education , the company he co-founded also is paying close attention to the worl...</td>\n",
       "      <td>microsoft looks to academia for talent business</td>\n",
       "    </tr>\n",
       "  </tbody>\n",
       "</table>\n",
       "</div>"
      ],
      "text/plain": [
       "                                                                                                                                                                                                           Text  \\\n",
       "219741    the indonesian police said a grenade was found inside the area of hilton hotel here on monday morning , a week after the australian government warned about possible attacks targeting hilton hotel .   \n",
       "271006  the judge who previously silenced zacarias moussaoui released one of his pleadings wednesday , after concluding the accused sept. ## conspirator had avoided threats , racial slurs and calls to act...   \n",
       "294352  algeria will pardon or reduce sentences for more than #,### convicted or suspected islamic militants , the justice ministry said thursday , moving ahead with a government effort to turn the page o...   \n",
       "27039   after nearly ## years of battlefield service around the globe , the m-## may be on its way out as the standard u.s. army assault rifle because of flaws highlighted during the invasion and occupati...   \n",
       "163602  although bill gates ' massive philanthropic foundation tends to get the most attention for its efforts to transform education , the company he co-founded also is paying close attention to the worl...   \n",
       "\n",
       "                                                                                            Summary  \n",
       "219741                                                     grenade found at hilton hotel in jakarta  \n",
       "271006                          absent threats and racial slurs moussaoui motion released to public  \n",
       "294352                   algeria pardoning reducing sentences for more than #,### islamic militants  \n",
       "27039   the vietnam-era m## rifle shows its weaknesses in iraq combat ; may face earlier retirement  \n",
       "163602                                              microsoft looks to academia for talent business  "
      ]
     },
     "execution_count": 2,
     "metadata": {},
     "output_type": "execute_result"
    }
   ],
   "source": [
    "# data=pd.read_csv(\"..\\\\Data\\\\model_training\\\\100000_samples_Reviews.csv\")\n",
    "data=pd.read_csv(\"..\\\\Data\\\\model_training\\\\1_million_samples_giga.csv\", nrows=300000)\n",
    "data[['Text','Summary']].sample(5)"
   ]
  },
  {
   "cell_type": "code",
   "execution_count": 3,
   "metadata": {},
   "outputs": [
    {
     "data": {
      "text/html": [
       "<div>\n",
       "<style scoped>\n",
       "    .dataframe tbody tr th:only-of-type {\n",
       "        vertical-align: middle;\n",
       "    }\n",
       "\n",
       "    .dataframe tbody tr th {\n",
       "        vertical-align: top;\n",
       "    }\n",
       "\n",
       "    .dataframe thead th {\n",
       "        text-align: right;\n",
       "    }\n",
       "</style>\n",
       "<table border=\"1\" class=\"dataframe\">\n",
       "  <thead>\n",
       "    <tr style=\"text-align: right;\">\n",
       "      <th></th>\n",
       "      <th>Text</th>\n",
       "      <th>Summary</th>\n",
       "    </tr>\n",
       "  </thead>\n",
       "  <tbody>\n",
       "    <tr>\n",
       "      <th>0</th>\n",
       "      <td>vice president joe biden pledged us support thursday for georgia as russia warned it would not allow `` &lt;unk&gt; '' of the strategic ex-soviet state following a war there a year ago .</td>\n",
       "      <td>biden pledges us loyalty to georgia</td>\n",
       "    </tr>\n",
       "    <tr>\n",
       "      <th>1</th>\n",
       "      <td>the pakistani taliban claimed responsibility wednesday for a bombing against a shiite muslim procession in the southern city of karachi earlier in the week that killed ## people .</td>\n",
       "      <td>pakistani taliban claim karachi bombing</td>\n",
       "    </tr>\n",
       "    <tr>\n",
       "      <th>2</th>\n",
       "      <td>lawmakers in brazil voted wednesday to keep abortion a crime , disappointing groups seeking to decriminalize an operation estimated to be carried out three million times a year in the country with...</td>\n",
       "      <td>brazilian lawmakers vote to keep abortion a crime</td>\n",
       "    </tr>\n",
       "    <tr>\n",
       "      <th>3</th>\n",
       "      <td>four west african leaders arrived in the northern togolese town of kara monday where they are due to discuss ivory coast 's three-month conflict with president gnassingbe eyadema , the regional me...</td>\n",
       "      <td>west african leaders in togo for summit on ivory coast conflict</td>\n",
       "    </tr>\n",
       "    <tr>\n",
       "      <th>4</th>\n",
       "      <td>brendon mccullum completed a stylish double-century tuesday to help new zealand draw the second test against india , leaving the series locked at #-# going into the final test .</td>\n",
       "      <td>new zealand-india second test ends in a draw</td>\n",
       "    </tr>\n",
       "    <tr>\n",
       "      <th>...</th>\n",
       "      <td>...</td>\n",
       "      <td>...</td>\n",
       "    </tr>\n",
       "    <tr>\n",
       "      <th>299995</th>\n",
       "      <td>a car carrying south african education minister kader asmal home from a function in durban drove though gunfire , with two of five shots hitting the front of his car , a police spokesman said sund...</td>\n",
       "      <td>south african education minister in shooting incident</td>\n",
       "    </tr>\n",
       "    <tr>\n",
       "      <th>299996</th>\n",
       "      <td>denmark and norway evacuated their citizens from lebanon amid escalating violence in the middle east , reports reaching here said on monday .</td>\n",
       "      <td>denmark norway evacuate citizens from lebanon</td>\n",
       "    </tr>\n",
       "    <tr>\n",
       "      <th>299997</th>\n",
       "      <td>spanish police said friday they had smashed an illegal cuban immigration network providing false identities in spain , germany and austria .</td>\n",
       "      <td>spanish police break illegal cuban immigration ring</td>\n",
       "    </tr>\n",
       "    <tr>\n",
       "      <th>299998</th>\n",
       "      <td>the u.s. economy bound back from a winter stumble to grow at an annual rate of the #.# percent this spring even as the housing slump appeared for the first time to take a toll on consumer spending .</td>\n",
       "      <td>economy stumbles to improved growth</td>\n",
       "    </tr>\n",
       "    <tr>\n",
       "      <th>299999</th>\n",
       "      <td>hungarian authorities on wednesday again ruled out that israel 's president was the intended target of a bombing plot as he praised his hosts for `` doing everything against anti-semitism .</td>\n",
       "      <td>israeli president praises relationship with hungary</td>\n",
       "    </tr>\n",
       "  </tbody>\n",
       "</table>\n",
       "<p>295539 rows × 2 columns</p>\n",
       "</div>"
      ],
      "text/plain": [
       "                                                                                                                                                                                                           Text  \\\n",
       "0                          vice president joe biden pledged us support thursday for georgia as russia warned it would not allow `` <unk> '' of the strategic ex-soviet state following a war there a year ago .   \n",
       "1                           the pakistani taliban claimed responsibility wednesday for a bombing against a shiite muslim procession in the southern city of karachi earlier in the week that killed ## people .   \n",
       "2       lawmakers in brazil voted wednesday to keep abortion a crime , disappointing groups seeking to decriminalize an operation estimated to be carried out three million times a year in the country with...   \n",
       "3       four west african leaders arrived in the northern togolese town of kara monday where they are due to discuss ivory coast 's three-month conflict with president gnassingbe eyadema , the regional me...   \n",
       "4                             brendon mccullum completed a stylish double-century tuesday to help new zealand draw the second test against india , leaving the series locked at #-# going into the final test .   \n",
       "...                                                                                                                                                                                                         ...   \n",
       "299995  a car carrying south african education minister kader asmal home from a function in durban drove though gunfire , with two of five shots hitting the front of his car , a police spokesman said sund...   \n",
       "299996                                                            denmark and norway evacuated their citizens from lebanon amid escalating violence in the middle east , reports reaching here said on monday .   \n",
       "299997                                                             spanish police said friday they had smashed an illegal cuban immigration network providing false identities in spain , germany and austria .   \n",
       "299998   the u.s. economy bound back from a winter stumble to grow at an annual rate of the #.# percent this spring even as the housing slump appeared for the first time to take a toll on consumer spending .   \n",
       "299999            hungarian authorities on wednesday again ruled out that israel 's president was the intended target of a bombing plot as he praised his hosts for `` doing everything against anti-semitism .   \n",
       "\n",
       "                                                                Summary  \n",
       "0                                   biden pledges us loyalty to georgia  \n",
       "1                               pakistani taliban claim karachi bombing  \n",
       "2                     brazilian lawmakers vote to keep abortion a crime  \n",
       "3       west african leaders in togo for summit on ivory coast conflict  \n",
       "4                          new zealand-india second test ends in a draw  \n",
       "...                                                                 ...  \n",
       "299995            south african education minister in shooting incident  \n",
       "299996                    denmark norway evacuate citizens from lebanon  \n",
       "299997              spanish police break illegal cuban immigration ring  \n",
       "299998                              economy stumbles to improved growth  \n",
       "299999              israeli president praises relationship with hungary  \n",
       "\n",
       "[295539 rows x 2 columns]"
      ]
     },
     "execution_count": 3,
     "metadata": {},
     "output_type": "execute_result"
    }
   ],
   "source": [
    "data.drop_duplicates(subset=['Text'],inplace=True)  #dropping duplicates\n",
    "data.dropna(axis=0,inplace=True)\n",
    "data"
   ]
  },
  {
   "cell_type": "code",
   "execution_count": 4,
   "metadata": {},
   "outputs": [],
   "source": [
    "contraction_mapping = {\"ain't\": \"is not\", \"aren't\": \"are not\",\"can't\": \"cannot\", \"'cause\": \"because\", \"could've\": \"could have\", \"couldn't\": \"could not\",\n",
    "\n",
    "                           \"didn't\": \"did not\", \"doesn't\": \"does not\", \"don't\": \"do not\", \"hadn't\": \"had not\", \"hasn't\": \"has not\", \"haven't\": \"have not\",\n",
    "\n",
    "                           \"he'd\": \"he would\",\"he'll\": \"he will\", \"he's\": \"he is\", \"how'd\": \"how did\", \"how'd'y\": \"how do you\", \"how'll\": \"how will\", \"how's\": \"how is\",\n",
    "\n",
    "                           \"I'd\": \"I would\", \"I'd've\": \"I would have\", \"I'll\": \"I will\", \"I'll've\": \"I will have\",\"I'm\": \"I am\", \"I've\": \"I have\", \"i'd\": \"i would\",\n",
    "\n",
    "                           \"i'd've\": \"i would have\", \"i'll\": \"i will\",  \"i'll've\": \"i will have\",\"i'm\": \"i am\", \"i've\": \"i have\", \"isn't\": \"is not\", \"it'd\": \"it would\",\n",
    "\n",
    "                           \"it'd've\": \"it would have\", \"it'll\": \"it will\", \"it'll've\": \"it will have\",\"it's\": \"it is\", \"let's\": \"let us\", \"ma'am\": \"madam\",\n",
    "\n",
    "                           \"mayn't\": \"may not\", \"might've\": \"might have\",\"mightn't\": \"might not\",\"mightn't've\": \"might not have\", \"must've\": \"must have\",\n",
    "\n",
    "                           \"mustn't\": \"must not\", \"mustn't've\": \"must not have\", \"needn't\": \"need not\", \"needn't've\": \"need not have\",\"o'clock\": \"of the clock\",\n",
    "\n",
    "                           \"oughtn't\": \"ought not\", \"oughtn't've\": \"ought not have\", \"shan't\": \"shall not\", \"sha'n't\": \"shall not\", \"shan't've\": \"shall not have\",\n",
    "\n",
    "                           \"she'd\": \"she would\", \"she'd've\": \"she would have\", \"she'll\": \"she will\", \"she'll've\": \"she will have\", \"she's\": \"she is\",\n",
    "\n",
    "                           \"should've\": \"should have\", \"shouldn't\": \"should not\", \"shouldn't've\": \"should not have\", \"so've\": \"so have\",\"so's\": \"so as\",\n",
    "\n",
    "                           \"this's\": \"this is\",\"that'd\": \"that would\", \"that'd've\": \"that would have\", \"that's\": \"that is\", \"there'd\": \"there would\",\n",
    "\n",
    "                           \"there'd've\": \"there would have\", \"there's\": \"there is\", \"here's\": \"here is\",\"they'd\": \"they would\", \"they'd've\": \"they would have\",\n",
    "\n",
    "                           \"they'll\": \"they will\", \"they'll've\": \"they will have\", \"they're\": \"they are\", \"they've\": \"they have\", \"to've\": \"to have\",\n",
    "\n",
    "                           \"wasn't\": \"was not\", \"we'd\": \"we would\", \"we'd've\": \"we would have\", \"we'll\": \"we will\", \"we'll've\": \"we will have\", \"we're\": \"we are\",\n",
    "\n",
    "                           \"we've\": \"we have\", \"weren't\": \"were not\", \"what'll\": \"what will\", \"what'll've\": \"what will have\", \"what're\": \"what are\",\n",
    "\n",
    "                           \"what's\": \"what is\", \"what've\": \"what have\", \"when's\": \"when is\", \"when've\": \"when have\", \"where'd\": \"where did\", \"where's\": \"where is\",\n",
    "\n",
    "                           \"where've\": \"where have\", \"who'll\": \"who will\", \"who'll've\": \"who will have\", \"who's\": \"who is\", \"who've\": \"who have\",\n",
    "\n",
    "                           \"why's\": \"why is\", \"why've\": \"why have\", \"will've\": \"will have\", \"won't\": \"will not\", \"won't've\": \"will not have\",\n",
    "\n",
    "                           \"would've\": \"would have\", \"wouldn't\": \"would not\", \"wouldn't've\": \"would not have\", \"y'all\": \"you all\",\n",
    "\n",
    "                           \"y'all'd\": \"you all would\",\"y'all'd've\": \"you all would have\",\"y'all're\": \"you all are\",\"y'all've\": \"you all have\",\n",
    "\n",
    "                           \"you'd\": \"you would\", \"you'd've\": \"you would have\", \"you'll\": \"you will\", \"you'll've\": \"you will have\",\n",
    "\n",
    "                           \"you're\": \"you are\", \"you've\": \"you have\"}"
   ]
  },
  {
   "cell_type": "code",
   "execution_count": 5,
   "metadata": {},
   "outputs": [
    {
     "name": "stderr",
     "output_type": "stream",
     "text": [
      "[nltk_data] Downloading package stopwords to\n",
      "[nltk_data]     C:\\Users\\R-k-l\\AppData\\Roaming\\nltk_data...\n",
      "[nltk_data]   Package stopwords is already up-to-date!\n"
     ]
    }
   ],
   "source": [
    "nltk.download('stopwords')\n",
    "stop_words = set(stopwords.words('english')) \n",
    "def text_cleaner(text):\n",
    "    newString = text.lower()\n",
    "    newString = BeautifulSoup(newString, exclude_encodings=\"lxml\").text # removes html/xml taggs\n",
    "    newString = re.sub(r'\\([^)]*\\)', '', newString)\n",
    "    newString = re.sub('\"','', newString)\n",
    "    newString = ' '.join([contraction_mapping[t] if t in contraction_mapping else t for t in newString.split(\" \")])    \n",
    "    newString = re.sub(r\"'s\\b\",\"\",newString)\n",
    "    newString = re.sub(\"[^a-zA-Z]\", \" \", newString) \n",
    "    tokens = [w for w in newString.split() if not w in stop_words]\n",
    "    long_words=[]\n",
    "    for i in tokens:\n",
    "        if len(i)>=3:                  #removing short word\n",
    "            long_words.append(i)   \n",
    "    return (\" \".join(long_words)).strip()\n",
    "\n",
    "cleaned_text = []\n",
    "for t in data['Text']:\n",
    "    cleaned_text.append(text_cleaner(t))"
   ]
  },
  {
   "cell_type": "code",
   "execution_count": 6,
   "metadata": {},
   "outputs": [],
   "source": [
    "def summary_cleaner(text):\n",
    "    newString = re.sub('\"','', text)\n",
    "    newString = ' '.join([contraction_mapping[t] if t in contraction_mapping else t for t in newString.split(\" \")])    \n",
    "    newString = re.sub(r\"'s\\b\",\"\",newString)\n",
    "    newString = re.sub(\"[^a-zA-Z]\", \" \", newString)\n",
    "    newString = newString.lower()\n",
    "    tokens=newString.split()\n",
    "    newString=''\n",
    "    for i in tokens:\n",
    "        if len(i)>1:                                 \n",
    "            newString=newString+i+' '  \n",
    "    return newString\n",
    "\n",
    "#Call the above function\n",
    "cleaned_summary = []\n",
    "for t in data['Summary']:\n",
    "    cleaned_summary.append(summary_cleaner(t))\n",
    "\n",
    "data['cleaned_text']=cleaned_text\n",
    "data['cleaned_summary']=cleaned_summary\n",
    "data['cleaned_summary'].replace('', np.nan, inplace=True)\n",
    "data.dropna(axis=0,inplace=True)"
   ]
  },
  {
   "cell_type": "code",
   "execution_count": 7,
   "metadata": {},
   "outputs": [],
   "source": [
    "data['cleaned_summary'] = data['cleaned_summary'].apply(lambda x : '_START_ '+ x + ' _END_')"
   ]
  },
  {
   "cell_type": "code",
   "execution_count": 8,
   "metadata": {},
   "outputs": [
    {
     "name": "stdout",
     "output_type": "stream",
     "text": [
      "Review: vice president joe biden pledged support thursday georgia russia warned would allow strategic soviet state following war year ago\n",
      "Summary: _START_ biden pledges us loyalty to georgia  _END_\n",
      "\n",
      "\n",
      "Review: pakistani taliban claimed responsibility wednesday bombing shiite muslim procession southern city karachi earlier week killed people\n",
      "Summary: _START_ pakistani taliban claim karachi bombing  _END_\n",
      "\n",
      "\n",
      "Review: lawmakers brazil voted wednesday keep abortion crime disappointing groups seeking decriminalize operation estimated carried three million times year country world largest catholic population\n",
      "Summary: _START_ brazilian lawmakers vote to keep abortion crime  _END_\n",
      "\n",
      "\n",
      "Review: four west african leaders arrived northern togolese town kara monday due discuss ivory coast three month conflict president gnassingbe eyadema regional mediator crisis\n",
      "Summary: _START_ west african leaders in togo for summit on ivory coast conflict  _END_\n",
      "\n",
      "\n",
      "Review: brendon mccullum completed stylish double century tuesday help new zealand draw second test india leaving series locked going final test\n",
      "Summary: _START_ new zealand india second test ends in draw  _END_\n",
      "\n",
      "\n"
     ]
    }
   ],
   "source": [
    "for i in range(5):\n",
    "    print(\"Review:\",data['cleaned_text'][i])\n",
    "    print(\"Summary:\",data['cleaned_summary'][i])\n",
    "    print(\"\\n\")"
   ]
  },
  {
   "cell_type": "code",
   "execution_count": 9,
   "metadata": {},
   "outputs": [
    {
     "data": {
      "text/plain": [
       "<Figure size 640x480 with 2 Axes>"
      ]
     },
     "metadata": {},
     "output_type": "display_data"
    }
   ],
   "source": [
    "\n",
    "import matplotlib.pyplot as plt\n",
    "text_word_count = []\n",
    "summary_word_count = []\n",
    "\n",
    "# populate the lists with sentence lengths\n",
    "for i in data['cleaned_text']:\n",
    "      text_word_count.append(len(i.split()))\n",
    "\n",
    "for i in data['cleaned_summary']:\n",
    "      summary_word_count.append(len(i.split()))\n",
    "\n",
    "length_df = pd.DataFrame({'text':text_word_count, 'summary':summary_word_count})\n",
    "length_df.hist(bins = 30)\n",
    "plt.show()"
   ]
  },
  {
   "cell_type": "code",
   "execution_count": 10,
   "metadata": {},
   "outputs": [],
   "source": [
    "max_len_text=35 \n",
    "max_len_summary=16\n",
    "from sklearn.model_selection import train_test_split\n",
    "x_tr,x_val,y_tr,y_val=train_test_split(data['cleaned_text'],data['cleaned_summary'],test_size=0.1,random_state=0,shuffle=True)"
   ]
  },
  {
   "cell_type": "code",
   "execution_count": 11,
   "metadata": {},
   "outputs": [
    {
     "data": {
      "text/plain": [
       "72065"
      ]
     },
     "execution_count": 11,
     "metadata": {},
     "output_type": "execute_result"
    }
   ],
   "source": [
    "\n",
    "#prepare a tokenizer for reviews on training data\n",
    "x_tokenizer = Tokenizer()\n",
    "x_tokenizer.fit_on_texts(list(x_tr))\n",
    "\n",
    "#convert text sequences into integer sequences\n",
    "x_tr    =   x_tokenizer.texts_to_sequences(x_tr) \n",
    "x_val   =   x_tokenizer.texts_to_sequences(x_val)\n",
    "\n",
    "#padding zero upto maximum length\n",
    "x_tr    =   pad_sequences(x_tr,  maxlen=max_len_text, padding='post') \n",
    "x_val   =   pad_sequences(x_val, maxlen=max_len_text, padding='post')\n",
    "\n",
    "x_voc_size   =  len(x_tokenizer.word_index) +1\n",
    "x_voc_size"
   ]
  },
  {
   "cell_type": "code",
   "execution_count": 12,
   "metadata": {},
   "outputs": [
    {
     "data": {
      "text/plain": [
       "43555"
      ]
     },
     "execution_count": 12,
     "metadata": {},
     "output_type": "execute_result"
    }
   ],
   "source": [
    "#preparing a tokenizer for summary on training data \n",
    "y_tokenizer = Tokenizer()\n",
    "y_tokenizer.fit_on_texts(list(y_tr))\n",
    "\n",
    "#convert summary sequences into integer sequences\n",
    "y_tr    =   y_tokenizer.texts_to_sequences(y_tr) \n",
    "y_val   =   y_tokenizer.texts_to_sequences(y_val) \n",
    "\n",
    "#padding zero upto maximum length\n",
    "y_tr    =   pad_sequences(y_tr, maxlen=max_len_summary, padding='post')\n",
    "y_val   =   pad_sequences(y_val, maxlen=max_len_summary, padding='post')\n",
    "\n",
    "y_voc_size  =   len(y_tokenizer.word_index) +1\n",
    "y_voc_size"
   ]
  },
  {
   "cell_type": "code",
   "execution_count": 13,
   "metadata": {},
   "outputs": [],
   "source": [
    "# # GLOVE_DIR = path for glove.6B.100d.txt\n",
    "# def glove_dictionary(GLOVE_DIR, glove_dimension):\n",
    "#     embeddings_index = {}\n",
    "#     f = open(os.path.join(GLOVE_DIR, 'glove.6B.'+str(glove_dimension)+'d.txt'))\n",
    "#     for line in f:\n",
    "#         values = line.split()\n",
    "#         word = values[0]\n",
    "#         coefs = np.asarray(values[1:], dtype='float32')\n",
    "#         embeddings_index[word] = coefs\n",
    "#     f.close()\n",
    "#     return embeddings_index"
   ]
  },
  {
   "cell_type": "code",
   "execution_count": 14,
   "metadata": {},
   "outputs": [],
   "source": [
    "# GLOVE_DIR='..\\\\Data\\\\word_embeddings'\n",
    "# glove_dimension=200\n",
    "# embeddings_index = glove_dictionary(GLOVE_DIR=GLOVE_DIR, glove_dimension=glove_dimension)\n",
    "# print('Found %s word vectors.' % len(embeddings_index))"
   ]
  },
  {
   "cell_type": "code",
   "execution_count": 15,
   "metadata": {},
   "outputs": [
    {
     "name": "stdout",
     "output_type": "stream",
     "text": [
      "Found 400000 word vectors.\n"
     ]
    }
   ],
   "source": [
    "glove_dir='..\\\\Data\\\\word_embeddings'\n",
    "glove_dimension=200\n",
    "embeddings_index = {}\n",
    "with open(os.path.join(glove_dir, 'glove.6B.'+str(glove_dimension)+'d.txt'), encoding=\"utf8\") as f:\n",
    "    for line in f:\n",
    "        values = line.split()\n",
    "        word = values[0]\n",
    "        coefs = np.asarray(values[1:], dtype='float32')\n",
    "        embeddings_index[word] = coefs\n",
    "    f.close()\n",
    "\n",
    "print('Found %s word vectors.' % len(embeddings_index))"
   ]
  },
  {
   "cell_type": "code",
   "execution_count": 16,
   "metadata": {},
   "outputs": [],
   "source": [
    "# from load_glove_embeddings import load_glove_embeddings # local function from .py file\n",
    "# glove_dimension = 100\n",
    "# import time\n",
    "# timer_start = time.time()\n",
    "# # word2index, embedding_matrix = load_glove_embeddings('Data/word_embeddings/glove.6B.'+str(glove_dimension)+'d.txt', embedding_dim=glove_dimension, include_empty_char=False)\n",
    "# word2index, embedding_matrix = load_glove_embeddings('../Data/word_embeddings/glove.6B.'+str(glove_dimension)+'d.txt', embedding_dim=glove_dimension, include_empty_char=False)\n",
    "# del embedding_matrix\n",
    "# print('Found %s word vectors.' % len(word2index))\n",
    "# print(\"Creating embeddings_index took\", round(time.time() - timer_start, 1), \"seconds.\")\n",
    "# del timer_start\n",
    "# embeddings_index=word2index\n",
    "# del word2index"
   ]
  },
  {
   "cell_type": "code",
   "execution_count": 17,
   "metadata": {},
   "outputs": [
    {
     "data": {
      "text/plain": [
       "[('the',\n",
       "  array([-0.038194, -0.24487 ,  0.72812 , -0.39961 ,  0.083172,  0.043953,\n",
       "         -0.39141 ,  0.3344  , -0.57545 ,  0.087459,  0.28787 , -0.06731 ,\n",
       "          0.30906 , -0.26384 , -0.13231 , -0.20757 ,  0.33395 , -0.33848 ,\n",
       "         -0.31743 , -0.48336 ,  0.1464  , -0.37304 ,  0.34577 ,  0.052041,\n",
       "          0.44946 , -0.46971 ,  0.02628 , -0.54155 , -0.15518 , -0.14107 ,\n",
       "         -0.039722,  0.28277 ,  0.14393 ,  0.23464 , -0.31021 ,  0.086173,\n",
       "          0.20397 ,  0.52624 ,  0.17164 , -0.082378, -0.71787 , -0.41531 ,\n",
       "          0.20335 , -0.12763 ,  0.41367 ,  0.55187 ,  0.57908 , -0.33477 ,\n",
       "         -0.36559 , -0.54857 , -0.062892,  0.26584 ,  0.30205 ,  0.99775 ,\n",
       "         -0.80481 , -3.0243  ,  0.01254 , -0.36942 ,  2.2167  ,  0.72201 ,\n",
       "         -0.24978 ,  0.92136 ,  0.034514,  0.46745 ,  1.1079  , -0.19358 ,\n",
       "         -0.074575,  0.23353 , -0.052062, -0.22044 ,  0.057162, -0.15806 ,\n",
       "         -0.30798 , -0.41625 ,  0.37972 ,  0.15006 , -0.53212 , -0.2055  ,\n",
       "         -1.2526  ,  0.071624,  0.70565 ,  0.49744 , -0.42063 ,  0.26148 ,\n",
       "         -1.538   , -0.30223 , -0.073438, -0.28312 ,  0.37104 , -0.25217 ,\n",
       "          0.016215, -0.017099, -0.38984 ,  0.87424 , -0.72569 , -0.51058 ,\n",
       "         -0.52028 , -0.1459  ,  0.8278  ,  0.27062 ], dtype=float32))]"
      ]
     },
     "execution_count": 17,
     "metadata": {},
     "output_type": "execute_result"
    }
   ],
   "source": [
    "from itertools import islice\n",
    "list(islice(embeddings_index.items(), 1))"
   ]
  },
  {
   "cell_type": "code",
   "execution_count": 18,
   "metadata": {},
   "outputs": [
    {
     "data": {
      "text/plain": [
       "(72065, 100)"
      ]
     },
     "execution_count": 18,
     "metadata": {},
     "output_type": "execute_result"
    }
   ],
   "source": [
    "word_index = x_tokenizer.word_index\n",
    "local_embedding_matrix = np.zeros((len(word_index) + 1, glove_dimension))\n",
    "for word, i in word_index.items():\n",
    "    embedding_vector = embeddings_index.get(word)\n",
    "    if embedding_vector is not None:\n",
    "        # words not found in embedding index will be all-zeros.\n",
    "        local_embedding_matrix[i] = embedding_vector\n",
    "local_embedding_matrix.shape"
   ]
  },
  {
   "cell_type": "code",
   "execution_count": 19,
   "metadata": {},
   "outputs": [
    {
     "data": {
      "text/plain": [
       "array([[0., 0., 0., 0., 0., 0., 0., 0., 0., 0., 0., 0., 0., 0., 0., 0.,\n",
       "        0., 0., 0., 0., 0., 0., 0., 0., 0., 0., 0., 0., 0., 0., 0., 0.,\n",
       "        0., 0., 0., 0., 0., 0., 0., 0., 0., 0., 0., 0., 0., 0., 0., 0.,\n",
       "        0., 0., 0., 0., 0., 0., 0., 0., 0., 0., 0., 0., 0., 0., 0., 0.,\n",
       "        0., 0., 0., 0., 0., 0., 0., 0., 0., 0., 0., 0., 0., 0., 0., 0.,\n",
       "        0., 0., 0., 0., 0., 0., 0., 0., 0., 0., 0., 0., 0., 0., 0., 0.,\n",
       "        0., 0., 0., 0.]])"
      ]
     },
     "execution_count": 19,
     "metadata": {},
     "output_type": "execute_result"
    }
   ],
   "source": [
    "local_embedding_matrix[:1]"
   ]
  },
  {
   "cell_type": "code",
   "execution_count": 20,
   "metadata": {},
   "outputs": [
    {
     "name": "stdout",
     "output_type": "stream",
     "text": [
      "Model: \"model\"\n",
      "__________________________________________________________________________________________________\n",
      "Layer (type)                    Output Shape         Param #     Connected to                     \n",
      "==================================================================================================\n",
      "input_1 (InputLayer)            [(None, 35)]         0                                            \n",
      "__________________________________________________________________________________________________\n",
      "embedding (Embedding)           (None, 35, 100)      7206500     input_1[0][0]                    \n",
      "__________________________________________________________________________________________________\n",
      "lstm (LSTM)                     [(None, 35, 400), (N 801600      embedding[0][0]                  \n",
      "__________________________________________________________________________________________________\n",
      "input_2 (InputLayer)            [(None, None)]       0                                            \n",
      "__________________________________________________________________________________________________\n",
      "lstm_1 (LSTM)                   [(None, 35, 400), (N 1281600     lstm[0][0]                       \n",
      "__________________________________________________________________________________________________\n",
      "embedding_1 (Embedding)         (None, None, 100)    7206500     input_2[0][0]                    \n",
      "__________________________________________________________________________________________________\n",
      "lstm_2 (LSTM)                   [(None, 35, 400), (N 1281600     lstm_1[0][0]                     \n",
      "__________________________________________________________________________________________________\n",
      "lstm_3 (LSTM)                   [(None, None, 400),  801600      embedding_1[0][0]                \n",
      "                                                                 lstm_2[0][1]                     \n",
      "                                                                 lstm_2[0][2]                     \n",
      "__________________________________________________________________________________________________\n",
      "attention_layer (AttentionLayer ((None, None, 400),  320400      lstm_2[0][0]                     \n",
      "                                                                 lstm_3[0][0]                     \n",
      "__________________________________________________________________________________________________\n",
      "concat_layer (Concatenate)      (None, None, 800)    0           lstm_3[0][0]                     \n",
      "                                                                 attention_layer[0][0]            \n",
      "__________________________________________________________________________________________________\n",
      "time_distributed (TimeDistribut (None, None, 43555)  34887555    concat_layer[0][0]               \n",
      "==================================================================================================\n",
      "Total params: 53,787,355\n",
      "Trainable params: 39,374,355\n",
      "Non-trainable params: 14,413,000\n",
      "__________________________________________________________________________________________________\n"
     ]
    },
    {
     "data": {
      "image/png": "[encoded data removed]",
      "text/plain": [
       "<IPython.core.display.Image object>"
      ]
     },
     "execution_count": 20,
     "metadata": {},
     "output_type": "execute_result"
    }
   ],
   "source": [
    "from attention import AttentionLayer\n",
    "from keras import backend as K\n",
    "K.clear_session()\n",
    "latent_dim = 400\n",
    "\n",
    "# Encoder \n",
    "encoder_inputs = Input(shape=(max_len_text,))\n",
    "enc_emb = Embedding(x_voc_size, glove_dimension, \n",
    "                    weights=[local_embedding_matrix],input_length=max_len_text, trainable=False)(encoder_inputs) \n",
    "\n",
    "#LSTM 1 \n",
    "encoder_lstm1 = LSTM(latent_dim,return_sequences=True,return_state=True) \n",
    "encoder_output1, state_h1, state_c1 = encoder_lstm1(enc_emb) \n",
    "\n",
    "#LSTM 2 \n",
    "encoder_lstm2 = LSTM(latent_dim,return_sequences=True,return_state=True) \n",
    "encoder_output2, state_h2, state_c2 = encoder_lstm2(encoder_output1) \n",
    "\n",
    "#LSTM 3 \n",
    "encoder_lstm3=LSTM(latent_dim, return_state=True, return_sequences=True) \n",
    "encoder_outputs, state_h, state_c= encoder_lstm3(encoder_output2) \n",
    "\n",
    "# Set up the decoder. \n",
    "decoder_inputs = Input(shape=(None,)) \n",
    "dec_emb_layer = Embedding(x_voc_size, glove_dimension, \n",
    "                          weights=[local_embedding_matrix],input_length=max_len_text, trainable=False) \n",
    "\n",
    "dec_emb = dec_emb_layer(decoder_inputs) \n",
    "\n",
    "#LSTM using encoder_states as initial state\n",
    "decoder_lstm = LSTM(latent_dim, return_sequences=True, return_state=True) \n",
    "decoder_outputs,decoder_fwd_state, decoder_back_state = decoder_lstm(dec_emb,initial_state=[state_h, state_c]) \n",
    "\n",
    "#Attention Layer\n",
    "attn_layer = AttentionLayer(name='attention_layer') \n",
    "attn_out, attn_states = attn_layer([encoder_outputs, decoder_outputs]) \n",
    "\n",
    "# Concat attention output and decoder LSTM output \n",
    "decoder_concat_input = Concatenate(axis=-1, name='concat_layer')([decoder_outputs, attn_out])\n",
    "\n",
    "#Dense layer\n",
    "decoder_dense = TimeDistributed(Dense(y_voc_size, activation='softmax'))\n",
    "decoder_outputs = decoder_dense(decoder_concat_input)\n",
    "\n",
    "# Define the model\n",
    "model = Model([encoder_inputs, decoder_inputs], decoder_outputs)\n",
    "model.summary()\n",
    "# plot the model\n",
    "import os\n",
    "os.environ[\"PATH\"] += os.pathsep + 'C:/Program Files (x86)/Graphviz2.38/bin/'\n",
    "import tensorflow as tf\n",
    "tf.keras.utils.plot_model(model, to_file='model.png', show_shapes=True)"
   ]
  },
  {
   "cell_type": "code",
   "execution_count": 21,
   "metadata": {},
   "outputs": [
    {
     "name": "stdout",
     "output_type": "stream",
     "text": [
      "Train on 265985 samples, validate on 29554 samples\n",
      "265985/265985 [==============================] - 16401s 62ms/sample - loss: 3.6740 - val_loss: 3.3616\n"
     ]
    }
   ],
   "source": [
    "model.compile(optimizer='rmsprop', loss='sparse_categorical_crossentropy')\n",
    "# es = EarlyStopping(monitor='val_loss', mode='min', verbose=1)\n",
    "history=model.fit([x_tr,y_tr[:,:-1]], \n",
    "                  y_tr.reshape(y_tr.shape[0],y_tr.shape[1], 1)[:,1:],\n",
    "                  epochs=3,\n",
    "#                   callbacks=[es],\n",
    "                  batch_size=128,\n",
    "                  validation_data=([x_val,y_val[:,:-1]],\n",
    "                  y_val.reshape(y_val.shape[0],y_val.shape[1], 1)[:,1:]))"
   ]
  },
  {
   "cell_type": "code",
   "execution_count": 22,
   "metadata": {},
   "outputs": [],
   "source": [
    "# from matplotlib import pyplot \n",
    "# pyplot.plot(history.history['loss'], label='train') \n",
    "# pyplot.plot(history.history['val_loss'], label='test') \n",
    "# pyplot.legend() \n",
    "# pyplot.show()"
   ]
  },
  {
   "cell_type": "code",
   "execution_count": 23,
   "metadata": {},
   "outputs": [],
   "source": [
    "reverse_target_word_index=y_tokenizer.index_word \n",
    "reverse_source_word_index=x_tokenizer.index_word \n",
    "target_word_index=y_tokenizer.word_index"
   ]
  },
  {
   "cell_type": "code",
   "execution_count": 24,
   "metadata": {},
   "outputs": [
    {
     "data": {
      "image/png": "[encoded data removed]",
      "text/plain": [
       "<IPython.core.display.Image object>"
      ]
     },
     "execution_count": 24,
     "metadata": {},
     "output_type": "execute_result"
    }
   ],
   "source": [
    "# encoder inference\n",
    "encoder_model = Model(inputs=encoder_inputs,outputs=[encoder_outputs, state_h, state_c])\n",
    "tf.keras.utils.plot_model(encoder_model, to_file='model.png', show_shapes=True)\n"
   ]
  },
  {
   "cell_type": "code",
   "execution_count": 25,
   "metadata": {},
   "outputs": [
    {
     "data": {
      "image/png": "[encoded data removed]",
      "text/plain": [
       "<IPython.core.display.Image object>"
      ]
     },
     "execution_count": 25,
     "metadata": {},
     "output_type": "execute_result"
    }
   ],
   "source": [
    "# decoder inference\n",
    "# Below tensors will hold the states of the previous time step\n",
    "decoder_state_input_h = Input(shape=(latent_dim,))\n",
    "decoder_state_input_c = Input(shape=(latent_dim,))\n",
    "decoder_hidden_state_input = Input(shape=(max_len_text,latent_dim))\n",
    "\n",
    "# Get the embeddings of the decoder sequence\n",
    "dec_emb2= dec_emb_layer(decoder_inputs)\n",
    "\n",
    "# To predict the next word in the sequence, set the initial states to the states from the previous time step\n",
    "decoder_outputs2, state_h2, state_c2 = decoder_lstm(dec_emb2, initial_state=[decoder_state_input_h, decoder_state_input_c])\n",
    "\n",
    "#attention inference\n",
    "attn_out_inf, attn_states_inf = attn_layer([decoder_hidden_state_input, decoder_outputs2])\n",
    "decoder_inf_concat = Concatenate(axis=-1, name='concat')([decoder_outputs2, attn_out_inf])\n",
    "\n",
    "# A dense softmax layer to generate prob dist. over the target vocabulary\n",
    "decoder_outputs2 = decoder_dense(decoder_inf_concat)\n",
    "\n",
    "# Final decoder model\n",
    "decoder_model = Model(\n",
    "[decoder_inputs] + [decoder_hidden_state_input,decoder_state_input_h, decoder_state_input_c],\n",
    "[decoder_outputs2] + [state_h2, state_c2])\n",
    "tf.keras.utils.plot_model(decoder_model, to_file='model.png', show_shapes=True)"
   ]
  },
  {
   "cell_type": "code",
   "execution_count": 26,
   "metadata": {},
   "outputs": [],
   "source": [
    "def decode_sequence(input_seq):\n",
    "    # Encode the input as state vectors.\n",
    "    e_out, e_h, e_c = encoder_model.predict(input_seq)\n",
    "    # print('input_seq: {}, e_out: {} '.format(input_seq,e_out))\n",
    "    # Generate empty target sequence of length 1.\n",
    "    target_seq = np.zeros((1,1))\n",
    "\n",
    "    # Chose the 'start' word as the first word of the target sequence\n",
    "    target_seq[0, 0] = target_word_index['start']\n",
    "\n",
    "    stop_condition = False\n",
    "    decoded_sentence = ''\n",
    "    while not stop_condition:\n",
    "        output_tokens, h, c = decoder_model.predict([target_seq] + [e_out, e_h, e_c])\n",
    "\n",
    "        # Sample a token\n",
    "        sampled_token_index = np.argmax(output_tokens[0, -1, :])\n",
    "        sampled_token = reverse_target_word_index[sampled_token_index]\n",
    "        # print(\"sampled_token:\",sampled_token)\n",
    "        if(sampled_token!='end'):\n",
    "            decoded_sentence += ' '+sampled_token\n",
    "\n",
    "            # Exit condition: either hit max length or find stop word.\n",
    "        if (sampled_token == 'end' or len(decoded_sentence.split()) >= (max_len_summary-1)):\n",
    "                stop_condition = True\n",
    "\n",
    "        # Update the target sequence (of length 1).\n",
    "        target_seq = np.zeros((1,1))\n",
    "        target_seq[0, 0] = sampled_token_index\n",
    "        # stop_condition = True\n",
    "        # Update internal states\n",
    "        e_h, e_c = h, c\n",
    "\n",
    "    return decoded_sentence"
   ]
  },
  {
   "cell_type": "code",
   "execution_count": 27,
   "metadata": {},
   "outputs": [],
   "source": [
    "def seq2summary(input_seq):\n",
    "    newString=''\n",
    "    for i in input_seq:\n",
    "        if((i!=0 and i!=target_word_index['start']) and i!=target_word_index['end']):\n",
    "            newString=newString+reverse_target_word_index[i]+' '\n",
    "    return newString\n",
    "\n",
    "def seq2text(input_seq):\n",
    "    newString=''\n",
    "    for i in input_seq:\n",
    "        if(i!=0):\n",
    "            newString=newString+reverse_source_word_index[i]+' '\n",
    "    return newString"
   ]
  },
  {
   "cell_type": "code",
   "execution_count": 29,
   "metadata": {
    "scrolled": false
   },
   "outputs": [
    {
     "name": "stdout",
     "output_type": "stream",
     "text": [
      "Review: book caused former montgomery county police chief charles moose leave job three weeks october manhunt serial sniper stores monday \n",
      "Original summary: moose sniper book makes its bow \n",
      "Predicted summary:  new york city to the new york\n",
      "\n",
      "\n",
      "Review: china shanghai shares closed half percent lower wednesday early buying petered dealers said \n",
      "Original summary: shanghai shares down half percent in thin trade \n",
      "Predicted summary:  shanghai shares up percent\n",
      "\n",
      "\n",
      "Review: first chicago nbd corporation opened beijing branch today raising number overseas bank branches chinese capital seven \n",
      "Original summary: beijing foreign bank branches rise to seven \n",
      "Predicted summary:  shanghai shanghai to shanghai up in shanghai\n",
      "\n",
      "\n",
      "Review: leader qaida linked terror group may hiding violent southern philippine island pose threat troops hold joint military exercises filipino soldiers next month officials said monday \n",
      "Original summary: al qaida linked leader in philippines may pose threat to exercises official says \n",
      "Predicted summary:  al qaida leader says al qaida leader in afghanistan\n",
      "\n",
      "\n",
      "Review: air force said monday reviewing every procedure might played role crash military plane dubrovnik croatia last week carrying commerce secretary ron brown \n",
      "Original summary: review of croatia air crash brings no change in policy \n",
      "Predicted summary:  air force force to plane crash in plane crash\n",
      "\n",
      "\n",
      "Review: italy inflation rate july dropped slightly percent lowest past two years central institute statistics lrb istat rrb said today \n",
      "Original summary: italy inflation rate slightly down in july \n",
      "Predicted summary:  italy unemployment rate to percent in second quarter\n",
      "\n",
      "\n",
      "Review: united states continue assisting tajikistan protecting border afghanistan due growing threats drug trafficking terrorism senior diplomat said wednesday \n",
      "Original summary: ambassador pledges continued aid to tajikistan to secure afghan border \n",
      "Predicted summary:  us to send afghan border to afghanistan\n",
      "\n",
      "\n",
      "Review: teenage palestinian suicide bomber killed three israelis tel aviv market initially planned attack city french embassy prime minister ariel sharon office said statement tuesday \n",
      "Original summary: israelis say teen bomber considered french american targets \n",
      "Predicted summary:  suicide bomber bomber in tel aviv\n",
      "\n",
      "\n",
      "Review: pakistani president pervez musharraf declared state emergency saturday saying judges interfering government islamic militancy posed grave threat country \n",
      "Original summary: pakistan musharraf declares emergency rule \n",
      "Predicted summary:  musharraf president calls for pakistan to stop terror\n",
      "\n",
      "\n",
      "Review: frozen liquid two vials inside battered styrofoam box written black marker return panda house \n",
      "Original summary: national zoo officials wait hope for panda pregnancy \n",
      "Predicted summary:  ancient of the chinese of the unk\n",
      "\n",
      "\n",
      "Review: washington suspected years myanmar secret nuclear program supported north korea witnesses reporting suspicious activity far back leaked memos show \n",
      "Original summary: leaked us memos highlight myanmar nuclear fears \n",
      "Predicted summary:  pakistani says it will be held in north korea\n",
      "\n",
      "\n",
      "Review: vaccine shortage hits home long lines queue around supermarket handful states threatening doctors nurses fines even jail give flu shots healthy low risk people \n",
      "Original summary: some states crack down on flu shots amid shortage \n",
      "Predicted summary:  new zealand to help food to help food\n",
      "\n",
      "\n",
      "Review: indian leaders reacted concern saturday pakistani military ruler president gen pervez musharraf declared state emergency calling speedy return normalcy nuclear armed neighbor \n",
      "Original summary: india calls for normalcy in pakistan after islamabad declares state of emergency \n",
      "Predicted summary:  indian leaders leaders to meet in pakistan\n",
      "\n",
      "\n",
      "Review: authorities raised official death toll los angeles commuter rail disaster certain number rise \n",
      "Original summary: death toll in la commuter rail crash reaches \n",
      "Predicted summary:  death toll rises to death toll rises to\n",
      "\n",
      "\n",
      "Review: moody investors service tuesday downgraded outlook several philippine key foreign currency ratings negative stable citing political risks ahead presidential polls may next year \n",
      "Original summary: moody downgrades outlook on philippine foreign currency ratings \n",
      "Predicted summary:  stocks fall as investors of new zealand\n",
      "\n",
      "\n",
      "Review: daylong blackout czech television programming back air thursday order country broadcasting council seeking end newsroom revolt station director \n",
      "Original summary: czech council orders state tv on \n",
      "Predicted summary:  new zealand to open new york to new york\n",
      "\n",
      "\n",
      "Review: government india western maharashtra state came fire saturday hindu right handling bomb attack bombay commuter train killed people \n",
      "Original summary: far right blasts indian government after deadly train blast \n",
      "Predicted summary:  indian state indian indian state station in india\n",
      "\n",
      "\n",
      "Review: turkish foreign minister ismail cem held phone talks israeli counterpart shimon peres palestinian leader yasser arafat latest development middle east region \n",
      "Original summary: turkish fm phones israeli palestinian leaders over mideast situation \n",
      "Predicted summary:  turkish pm fm talks with israel\n",
      "\n",
      "\n",
      "Review: bulgaria sunday denied troops iraq left shiite holy city karbala diwaniyah south baghdad saying redeployment would completed wednesday \n",
      "Original summary: bulgaria denies its troops have left karbala \n",
      "Predicted summary:  bulgaria to send iraq war iraq war iraq\n",
      "\n",
      "\n",
      "Review: agents honolulu division federal bureau investigation lrb fbi rrb went kashmir week help indian police case american islamic militants took hostage july \n",
      "Original summary: fbi agents helping investigate holding of hostage \n",
      "Predicted summary:  fbi police arrest in indian kashmir\n",
      "\n",
      "\n",
      "Review: fiercest battle arizona huge wildfire shifted east town forest lakes residents show low evacuated week ago allowed back homes saturday \n",
      "Original summary: residents of one arizona town get to return home \n",
      "Predicted summary:  heavy rains in california in california\n",
      "\n",
      "\n",
      "Review: slain man videotaped posthumously broadcast accusation president alvaro colom ordered murder threw guatemala uproar tuesday prompted government calls agency fbi investigate killing \n",
      "Original summary: guatemala asks for un probe into lawyer killing \n",
      "Predicted summary:  former woman of death of slain in death\n",
      "\n",
      "\n",
      "Review: dilma rousseff elected country first female president sunday brazilians voted strongly favor continuing economic social policies popular president luiz inacio lula silva \n",
      "Original summary: brazil elects first female president contributed reporting \n",
      "Predicted summary:  presidential candidate to hold presidential candidate\n",
      "\n",
      "\n",
      "Review: military official iranian backed hezbollah killed israeli helicopter destroyed car rocket attack south lebanon friday organization said \n",
      "Original summary: israelis kill hezbollah official in raid two soldiers wounded \n",
      "Predicted summary:  iraqi forces killed in israeli blast\n",
      "\n",
      "\n",
      "Review: russian police sunday said jewish high school teacher murdered saint petersburg sending shockwaves throughout community fears hate crime \n",
      "Original summary: russian jewish teacher murder sparks hate crime fears \n",
      "Predicted summary:  police say police say in paris church in paris\n",
      "\n",
      "\n",
      "Review: canadian auto workers announced tentative deal general motors sunday freeze employees retirees wages pensions part north america restructuring \n",
      "Original summary: gm canadian union agree to wage pension freeze \n",
      "Predicted summary:  canadian to cut jobs to cut jobs\n",
      "\n",
      "\n",
      "Review: centuries desperately poor mothers came church naples push newborns dark slot within wooden turntable embedded convent wall \n",
      "Original summary: europe reviving idea of allowing mothers to leave babies at churches hospitals \n",
      "Predicted summary:  in the year old in the world of the world\n",
      "\n",
      "\n",
      "Review: consummate campaigner thrilled fans odyssey arena belfast latest symbol modernity urging audience raise sights many squabbles fights work together peace process \n",
      "Original summary: belfast tribute to old friend and peacemaker clinton \n",
      "Predicted summary:  the unk of the day of the day\n",
      "\n",
      "\n",
      "Review: people specializing disaster rescue relief marching toward quake hit sichuan province expected arrive tuesday evening china seismological bureau lrb csb rrb said tuesday \n",
      "Original summary: special rescue forces to gather in china quake hit sichuan \n"
     ]
    },
    {
     "name": "stdout",
     "output_type": "stream",
     "text": [
      "Predicted summary:  quake victims quake victims quake victims\n",
      "\n",
      "\n",
      "Review: indian president pratibha patil monday returned home week long visit spain poland reported semi official press trust india \n",
      "Original summary: indian president returns home after nation european tour \n",
      "Predicted summary:  indian president to visit italy in italy\n",
      "\n",
      "\n"
     ]
    }
   ],
   "source": [
    "for i in range(30):\n",
    "  print(\"Review:\",seq2text(x_val[i]))\n",
    "  print(\"Original summary:\",seq2summary(y_val[i]))\n",
    "  print(\"Predicted summary:\",decode_sequence(x_val[i].reshape(1,max_len_text)))\n",
    "  print(\"\\n\")"
   ]
  },
  {
   "cell_type": "code",
   "execution_count": null,
   "metadata": {},
   "outputs": [],
   "source": []
  }
 ],
 "metadata": {
  "kernelspec": {
   "display_name": "Python 3",
   "language": "python",
   "name": "python3"
  },
  "language_info": {
   "codemirror_mode": {
    "name": "ipython",
    "version": 3
   },
   "file_extension": ".py",
   "mimetype": "text/x-python",
   "name": "python",
   "nbconvert_exporter": "python",
   "pygments_lexer": "ipython3",
   "version": "3.7.3"
  }
 },
 "nbformat": 4,
 "nbformat_minor": 2
}
