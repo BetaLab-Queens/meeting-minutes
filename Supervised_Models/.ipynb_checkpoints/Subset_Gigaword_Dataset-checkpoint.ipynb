{
 "cells": [
  {
   "cell_type": "code",
   "execution_count": 1,
   "metadata": {},
   "outputs": [],
   "source": [
    "import pandas as pd"
   ]
  },
  {
   "cell_type": "code",
   "execution_count": null,
   "metadata": {},
   "outputs": [],
   "source": [
    "# Change local path, download using the link below. \n",
    "# https://drive.google.com/file/d/0B6N7tANPyVeBNmlSX19Ld2xDU1E/view\n",
    "path='C:/Users/R-k-l/Documents/AA Fouth Year/BetaLab/textfiles/summarycsv/sumdata/train/'\n",
    "df = pd.concat([pd.read_csv(path+'train.article.txt', sep='\\n'), \n",
    "                  pd.read_csv(path+'train.title.txt', sep='\\n')], axis=1)\n",
    "df.columns = ['Text', 'Summary']"
   ]
  },
  {
   "cell_type": "code",
   "execution_count": null,
   "metadata": {},
   "outputs": [],
   "source": [
    "# join validation sentence pairs together into dataframe\n",
    "val = pd.concat([pd.read_csv(path+'valid.article.filter.txt', sep=\"\\n\"), \n",
    "                  pd.read_csv(path+'valid.title.filter.txt', sep=\"\\n\")], axis=1)\n",
    "val.columns = ['Text', 'Summary']"
   ]
  },
  {
   "cell_type": "code",
   "execution_count": null,
   "metadata": {},
   "outputs": [],
   "source": [
    "len(df), len(val)"
   ]
  },
  {
   "cell_type": "markdown",
   "metadata": {},
   "source": [
    "## Show some sample articles and titles"
   ]
  },
  {
   "cell_type": "code",
   "execution_count": null,
   "metadata": {},
   "outputs": [],
   "source": [
    "import random\n",
    "for i in range(5):\n",
    "    r = random.randint(0,50)\n",
    "    display(val.iloc[r]['Text'])\n",
    "    display(val.iloc[r]['Summary'])\n",
    "    print('______________________')"
   ]
  },
  {
   "cell_type": "markdown",
   "metadata": {},
   "source": [
    "## Export as a .csv file to be used and modeled. "
   ]
  },
  {
   "cell_type": "code",
   "execution_count": null,
   "metadata": {},
   "outputs": [],
   "source": [
    "sample = df.sample(100000)\n",
    "sample"
   ]
  },
  {
   "cell_type": "code",
   "execution_count": null,
   "metadata": {},
   "outputs": [],
   "source": [
    "path='C:\\\\Users\\\\R-k-l\\\\AppData\\\\Local\\\\Programs\\\\Python\\\\Python37\\\\Scripts\\\\meeting-minutes\\\\Data\\\\model_training\\\\'\n",
    "sample.to_csv(path+'100000_samples_giga.csv', index=None)"
   ]
  },
  {
   "cell_type": "code",
   "execution_count": null,
   "metadata": {},
   "outputs": [],
   "source": []
  }
 ],
 "metadata": {
  "kernelspec": {
   "display_name": "Python 3",
   "language": "python",
   "name": "python3"
  },
  "language_info": {
   "codemirror_mode": {
    "name": "ipython",
    "version": 3
   },
   "file_extension": ".py",
   "mimetype": "text/x-python",
   "name": "python",
   "nbconvert_exporter": "python",
   "pygments_lexer": "ipython3",
   "version": "3.7.3"
  }
 },
 "nbformat": 4,
 "nbformat_minor": 2
}
