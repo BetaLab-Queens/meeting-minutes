{
 "cells": [
  {
   "cell_type": "markdown",
   "metadata": {},
   "source": [
    "# Bi-directional seq2seq using GloVe embeddings, not working yet. "
   ]
  },
  {
   "cell_type": "code",
   "execution_count": 1,
   "metadata": {},
   "outputs": [
    {
     "name": "stderr",
     "output_type": "stream",
     "text": [
      "Using TensorFlow backend.\n"
     ]
    },
    {
     "name": "stdout",
     "output_type": "stream",
     "text": [
      "Using matplotlib backend: TkAgg\n"
     ]
    }
   ],
   "source": [
    "from attention import AttentionLayer\n",
    "import numpy as np  \n",
    "import pandas as pd \n",
    "import re           \n",
    "from bs4 import BeautifulSoup \n",
    "from keras.preprocessing.text import Tokenizer \n",
    "from keras.preprocessing.sequence import pad_sequences\n",
    "from nltk.corpus import stopwords   \n",
    "import warnings\n",
    "import matplotlib.pyplot as plt\n",
    "%matplotlib\n",
    "pd.set_option(\"display.max_colwidth\", 200)\n",
    "warnings.filterwarnings(\"ignore\")"
   ]
  },
  {
   "cell_type": "code",
   "execution_count": 2,
   "metadata": {},
   "outputs": [],
   "source": [
    "data=pd.read_csv(\"..\\\\Data\\\\model_training\\\\100000_samples_Reviews.csv\", nrows=9000)\n",
    "# data=pd.read_csv('../../BetaLab-meeting-minutes/Reviews.csv', nrows=50000)\n",
    "data.drop_duplicates(subset=['Text'],inplace=True)  #dropping duplicates\n",
    "data.dropna(axis=0,inplace=True)#dropping na rows"
   ]
  },
  {
   "cell_type": "code",
   "execution_count": 3,
   "metadata": {},
   "outputs": [],
   "source": [
    "contraction_mapping = {\"ain't\": \"is not\", \"aren't\": \"are not\",\"can't\": \"cannot\", \"'cause\": \"because\", \"could've\": \"could have\", \"couldn't\": \"could not\",\n",
    "\n",
    "                           \"didn't\": \"did not\", \"doesn't\": \"does not\", \"don't\": \"do not\", \"hadn't\": \"had not\", \"hasn't\": \"has not\", \"haven't\": \"have not\",\n",
    "\n",
    "                           \"he'd\": \"he would\",\"he'll\": \"he will\", \"he's\": \"he is\", \"how'd\": \"how did\", \"how'd'y\": \"how do you\", \"how'll\": \"how will\", \"how's\": \"how is\",\n",
    "\n",
    "                           \"I'd\": \"I would\", \"I'd've\": \"I would have\", \"I'll\": \"I will\", \"I'll've\": \"I will have\",\"I'm\": \"I am\", \"I've\": \"I have\", \"i'd\": \"i would\",\n",
    "\n",
    "                           \"i'd've\": \"i would have\", \"i'll\": \"i will\",  \"i'll've\": \"i will have\",\"i'm\": \"i am\", \"i've\": \"i have\", \"isn't\": \"is not\", \"it'd\": \"it would\",\n",
    "\n",
    "                           \"it'd've\": \"it would have\", \"it'll\": \"it will\", \"it'll've\": \"it will have\",\"it's\": \"it is\", \"let's\": \"let us\", \"ma'am\": \"madam\",\n",
    "\n",
    "                           \"mayn't\": \"may not\", \"might've\": \"might have\",\"mightn't\": \"might not\",\"mightn't've\": \"might not have\", \"must've\": \"must have\",\n",
    "\n",
    "                           \"mustn't\": \"must not\", \"mustn't've\": \"must not have\", \"needn't\": \"need not\", \"needn't've\": \"need not have\",\"o'clock\": \"of the clock\",\n",
    "\n",
    "                           \"oughtn't\": \"ought not\", \"oughtn't've\": \"ought not have\", \"shan't\": \"shall not\", \"sha'n't\": \"shall not\", \"shan't've\": \"shall not have\",\n",
    "\n",
    "                           \"she'd\": \"she would\", \"she'd've\": \"she would have\", \"she'll\": \"she will\", \"she'll've\": \"she will have\", \"she's\": \"she is\",\n",
    "\n",
    "                           \"should've\": \"should have\", \"shouldn't\": \"should not\", \"shouldn't've\": \"should not have\", \"so've\": \"so have\",\"so's\": \"so as\",\n",
    "\n",
    "                           \"this's\": \"this is\",\"that'd\": \"that would\", \"that'd've\": \"that would have\", \"that's\": \"that is\", \"there'd\": \"there would\",\n",
    "\n",
    "                           \"there'd've\": \"there would have\", \"there's\": \"there is\", \"here's\": \"here is\",\"they'd\": \"they would\", \"they'd've\": \"they would have\",\n",
    "\n",
    "                           \"they'll\": \"they will\", \"they'll've\": \"they will have\", \"they're\": \"they are\", \"they've\": \"they have\", \"to've\": \"to have\",\n",
    "\n",
    "                           \"wasn't\": \"was not\", \"we'd\": \"we would\", \"we'd've\": \"we would have\", \"we'll\": \"we will\", \"we'll've\": \"we will have\", \"we're\": \"we are\",\n",
    "\n",
    "                           \"we've\": \"we have\", \"weren't\": \"were not\", \"what'll\": \"what will\", \"what'll've\": \"what will have\", \"what're\": \"what are\",\n",
    "\n",
    "                           \"what's\": \"what is\", \"what've\": \"what have\", \"when's\": \"when is\", \"when've\": \"when have\", \"where'd\": \"where did\", \"where's\": \"where is\",\n",
    "\n",
    "                           \"where've\": \"where have\", \"who'll\": \"who will\", \"who'll've\": \"who will have\", \"who's\": \"who is\", \"who've\": \"who have\",\n",
    "\n",
    "                           \"why's\": \"why is\", \"why've\": \"why have\", \"will've\": \"will have\", \"won't\": \"will not\", \"won't've\": \"will not have\",\n",
    "\n",
    "                           \"would've\": \"would have\", \"wouldn't\": \"would not\", \"wouldn't've\": \"would not have\", \"y'all\": \"you all\",\n",
    "\n",
    "                           \"y'all'd\": \"you all would\",\"y'all'd've\": \"you all would have\",\"y'all're\": \"you all are\",\"y'all've\": \"you all have\",\n",
    "\n",
    "                           \"you'd\": \"you would\", \"you'd've\": \"you would have\", \"you'll\": \"you will\", \"you'll've\": \"you will have\",\n",
    "\n",
    "                           \"you're\": \"you are\", \"you've\": \"you have\"}"
   ]
  },
  {
   "cell_type": "code",
   "execution_count": 4,
   "metadata": {},
   "outputs": [
    {
     "data": {
      "text/html": [
       "<div>\n",
       "<style scoped>\n",
       "    .dataframe tbody tr th:only-of-type {\n",
       "        vertical-align: middle;\n",
       "    }\n",
       "\n",
       "    .dataframe tbody tr th {\n",
       "        vertical-align: top;\n",
       "    }\n",
       "\n",
       "    .dataframe thead th {\n",
       "        text-align: right;\n",
       "    }\n",
       "</style>\n",
       "<table border=\"1\" class=\"dataframe\">\n",
       "  <thead>\n",
       "    <tr style=\"text-align: right;\">\n",
       "      <th></th>\n",
       "      <th>Text</th>\n",
       "      <th>Summary</th>\n",
       "    </tr>\n",
       "  </thead>\n",
       "  <tbody>\n",
       "    <tr>\n",
       "      <th>0</th>\n",
       "      <td>I have bought several of the Vitality canned dog food products and have found them all to be of good quality. The product looks more like a stew than a processed meat and it smells better. My Labr...</td>\n",
       "      <td>Good Quality Dog Food</td>\n",
       "    </tr>\n",
       "    <tr>\n",
       "      <th>1</th>\n",
       "      <td>Product arrived labeled as Jumbo Salted Peanuts...the peanuts were actually small sized unsalted. Not sure if this was an error or if the vendor intended to represent the product as \"Jumbo\".</td>\n",
       "      <td>Not as Advertised</td>\n",
       "    </tr>\n",
       "    <tr>\n",
       "      <th>2</th>\n",
       "      <td>This is a confection that has been around a few centuries.  It is a light, pillowy citrus gelatin with nuts - in this case Filberts. And it is cut into tiny squares and then liberally coated with ...</td>\n",
       "      <td>\"Delight\" says it all</td>\n",
       "    </tr>\n",
       "    <tr>\n",
       "      <th>3</th>\n",
       "      <td>If you are looking for the secret ingredient in Robitussin I believe I have found it.  I got this in addition to the Root Beer Extract I ordered (which was good) and made some cherry soda.  The fl...</td>\n",
       "      <td>Cough Medicine</td>\n",
       "    </tr>\n",
       "    <tr>\n",
       "      <th>4</th>\n",
       "      <td>Great taffy at a great price.  There was a wide assortment of yummy taffy.  Delivery was very quick.  If your a taffy lover, this is a deal.</td>\n",
       "      <td>Great taffy</td>\n",
       "    </tr>\n",
       "  </tbody>\n",
       "</table>\n",
       "</div>"
      ],
      "text/plain": [
       "                                                                                                                                                                                                      Text  \\\n",
       "0  I have bought several of the Vitality canned dog food products and have found them all to be of good quality. The product looks more like a stew than a processed meat and it smells better. My Labr...   \n",
       "1           Product arrived labeled as Jumbo Salted Peanuts...the peanuts were actually small sized unsalted. Not sure if this was an error or if the vendor intended to represent the product as \"Jumbo\".   \n",
       "2  This is a confection that has been around a few centuries.  It is a light, pillowy citrus gelatin with nuts - in this case Filberts. And it is cut into tiny squares and then liberally coated with ...   \n",
       "3  If you are looking for the secret ingredient in Robitussin I believe I have found it.  I got this in addition to the Root Beer Extract I ordered (which was good) and made some cherry soda.  The fl...   \n",
       "4                                                             Great taffy at a great price.  There was a wide assortment of yummy taffy.  Delivery was very quick.  If your a taffy lover, this is a deal.   \n",
       "\n",
       "                 Summary  \n",
       "0  Good Quality Dog Food  \n",
       "1      Not as Advertised  \n",
       "2  \"Delight\" says it all  \n",
       "3         Cough Medicine  \n",
       "4            Great taffy  "
      ]
     },
     "execution_count": 4,
     "metadata": {},
     "output_type": "execute_result"
    }
   ],
   "source": [
    "# data=data.rename(columns = {'article': 'Text', 'title': 'Summary'})\n",
    "data.head()"
   ]
  },
  {
   "cell_type": "code",
   "execution_count": 5,
   "metadata": {},
   "outputs": [],
   "source": [
    "stop_words = set(stopwords.words('english')) \n",
    "def text_cleaner(text):\n",
    "    newString = text.lower()\n",
    "    newString = BeautifulSoup(newString, exclude_encodings=\"lxml\").text # removes html/xml taggs\n",
    "    newString = re.sub(r'\\([^)]*\\)', '', newString)\n",
    "    newString = re.sub('\"','', newString)\n",
    "    newString = ' '.join([contraction_mapping[t] if t in contraction_mapping else t for t in newString.split(\" \")])    \n",
    "    newString = re.sub(r\"'s\\b\",\"\",newString)\n",
    "    newString = re.sub(\"[^a-zA-Z]\", \" \", newString) \n",
    "    tokens = [w for w in newString.split() if not w in stop_words]\n",
    "    long_words=[]\n",
    "    for i in tokens:\n",
    "        if len(i)>=3:                  #removing short word\n",
    "            long_words.append(i)   \n",
    "    return (\" \".join(long_words)).strip()\n",
    "\n",
    "cleaned_text = []\n",
    "for t in data['Text']:\n",
    "    cleaned_text.append(text_cleaner(t))"
   ]
  },
  {
   "cell_type": "code",
   "execution_count": 6,
   "metadata": {},
   "outputs": [],
   "source": [
    "def summary_cleaner(text):\n",
    "    newString = re.sub('\"','', text)\n",
    "    newString = ' '.join([contraction_mapping[t] if t in contraction_mapping else t for t in newString.split(\" \")])    \n",
    "    newString = re.sub(r\"'s\\b\",\"\",newString)\n",
    "    newString = re.sub(\"[^a-zA-Z]\", \" \", newString)\n",
    "    newString = newString.lower()\n",
    "    tokens=newString.split()\n",
    "    newString=''\n",
    "    for i in tokens:\n",
    "        if len(i)>1:                                 \n",
    "            newString=newString+i+' '  \n",
    "    return newString\n",
    "\n",
    "#Call the above function\n",
    "cleaned_summary = []\n",
    "for t in data['Summary']:\n",
    "    cleaned_summary.append(summary_cleaner(t))\n",
    "\n",
    "data['cleaned_text']=cleaned_text\n",
    "data['cleaned_summary']=cleaned_summary\n",
    "data['cleaned_summary'].replace('', np.nan, inplace=True)\n",
    "data.dropna(axis=0,inplace=True)"
   ]
  },
  {
   "cell_type": "code",
   "execution_count": 7,
   "metadata": {},
   "outputs": [
    {
     "name": "stdout",
     "output_type": "stream",
     "text": [
      "Review: bought several vitality canned dog food products found good quality product looks like stew processed meat smells better labrador finicky appreciates product better\n",
      "Summary: good quality dog food \n",
      "\n",
      "Review: product arrived labeled jumbo salted peanuts peanuts actually small sized unsalted sure error vendor intended represent product jumbo\n",
      "Summary: not as advertised \n",
      "\n"
     ]
    }
   ],
   "source": [
    "for i in range(2):\n",
    "    print(\"Review:\",data['cleaned_text'][i])\n",
    "    print(\"Summary:\",data['cleaned_summary'][i])\n",
    "    print()"
   ]
  },
  {
   "cell_type": "code",
   "execution_count": 8,
   "metadata": {},
   "outputs": [
    {
     "data": {
      "image/png": "[encoded data removed]",
      "text/plain": [
       "<Figure size 432x288 with 2 Axes>"
      ]
     },
     "metadata": {
      "needs_background": "light"
     },
     "output_type": "display_data"
    }
   ],
   "source": [
    "text_word_count = []\n",
    "summary_word_count = []\n",
    "\n",
    "# populate the lists with sentence lengths\n",
    "for i in data['cleaned_text']:\n",
    "      text_word_count.append(len(i.split()))\n",
    "\n",
    "for i in data['cleaned_summary']:\n",
    "      summary_word_count.append(len(i.split()))\n",
    "\n",
    "length_df = pd.DataFrame({'text':text_word_count, 'summary':summary_word_count})\n",
    "length_df.hist(bins = 30)\n",
    "plt.show()"
   ]
  },
  {
   "cell_type": "code",
   "execution_count": 9,
   "metadata": {},
   "outputs": [],
   "source": [
    "max_len_text=30\n",
    "max_len_summary=8"
   ]
  },
  {
   "cell_type": "code",
   "execution_count": 10,
   "metadata": {},
   "outputs": [],
   "source": [
    "cleaned_text =np.array(data['cleaned_text'])\n",
    "cleaned_summary=np.array(data['cleaned_summary'])\n",
    "\n",
    "short_text=[]\n",
    "short_summary=[]\n",
    "\n",
    "for i in range(len(cleaned_text)):\n",
    "    if(len(cleaned_summary[i].split())<=max_len_summary and len(cleaned_text[i].split())<=max_len_text):\n",
    "        short_text.append(cleaned_text[i])\n",
    "        short_summary.append(cleaned_summary[i])\n",
    "        \n",
    "df=pd.DataFrame({'text':short_text,'summary':short_summary})"
   ]
  },
  {
   "cell_type": "code",
   "execution_count": 11,
   "metadata": {},
   "outputs": [
    {
     "data": {
      "text/html": [
       "<div>\n",
       "<style scoped>\n",
       "    .dataframe tbody tr th:only-of-type {\n",
       "        vertical-align: middle;\n",
       "    }\n",
       "\n",
       "    .dataframe tbody tr th {\n",
       "        vertical-align: top;\n",
       "    }\n",
       "\n",
       "    .dataframe thead th {\n",
       "        text-align: right;\n",
       "    }\n",
       "</style>\n",
       "<table border=\"1\" class=\"dataframe\">\n",
       "  <thead>\n",
       "    <tr style=\"text-align: right;\">\n",
       "      <th></th>\n",
       "      <th>text</th>\n",
       "      <th>summary</th>\n",
       "    </tr>\n",
       "  </thead>\n",
       "  <tbody>\n",
       "    <tr>\n",
       "      <th>0</th>\n",
       "      <td>bought several vitality canned dog food products found good quality product looks like stew processed meat smells better labrador finicky appreciates product better</td>\n",
       "      <td>sostok good quality dog food  eostok</td>\n",
       "    </tr>\n",
       "    <tr>\n",
       "      <th>1</th>\n",
       "      <td>product arrived labeled jumbo salted peanuts peanuts actually small sized unsalted sure error vendor intended represent product jumbo</td>\n",
       "      <td>sostok not as advertised  eostok</td>\n",
       "    </tr>\n",
       "    <tr>\n",
       "      <th>2</th>\n",
       "      <td>looking secret ingredient robitussin believe found got addition root beer extract ordered made cherry soda flavor medicinal</td>\n",
       "      <td>sostok cough medicine  eostok</td>\n",
       "    </tr>\n",
       "    <tr>\n",
       "      <th>3</th>\n",
       "      <td>great taffy great price wide assortment yummy taffy delivery quick taffy lover deal</td>\n",
       "      <td>sostok great taffy  eostok</td>\n",
       "    </tr>\n",
       "    <tr>\n",
       "      <th>4</th>\n",
       "      <td>saltwater taffy great flavors soft chewy candy individually wrapped well none candies stuck together happen expensive version fralinger would highly recommend candy served beach themed party every...</td>\n",
       "      <td>sostok great just as good as the expensive brands  eostok</td>\n",
       "    </tr>\n",
       "    <tr>\n",
       "      <th>...</th>\n",
       "      <td>...</td>\n",
       "      <td>...</td>\n",
       "    </tr>\n",
       "    <tr>\n",
       "      <th>5086</th>\n",
       "      <td>senseo pods getting harder find especially paris vanilla caramel flavor happy find amazon good price especially subscription price</td>\n",
       "      <td>sostok good coffee for good price  eostok</td>\n",
       "    </tr>\n",
       "    <tr>\n",
       "      <th>5087</th>\n",
       "      <td>far great way order favorite coffee become really hard find local stores amazon even cheaper previously paid arrived quickly waiting day next shipment</td>\n",
       "      <td>sostok great coffee great price  eostok</td>\n",
       "    </tr>\n",
       "    <tr>\n",
       "      <th>5088</th>\n",
       "      <td>coffee smell taste great recommend senseo vienna still packages paris nobody wanna drink guess throw away</td>\n",
       "      <td>sostok smells and tastes funny  eostok</td>\n",
       "    </tr>\n",
       "    <tr>\n",
       "      <th>5089</th>\n",
       "      <td>tried brands french vanilla coffee best highly recommend</td>\n",
       "      <td>sostok best of the best  eostok</td>\n",
       "    </tr>\n",
       "    <tr>\n",
       "      <th>5090</th>\n",
       "      <td>nice flavor great aroma brewing everyone always jealous brew work</td>\n",
       "      <td>sostok nice quick cup of coffee  eostok</td>\n",
       "    </tr>\n",
       "  </tbody>\n",
       "</table>\n",
       "<p>5091 rows × 2 columns</p>\n",
       "</div>"
      ],
      "text/plain": [
       "                                                                                                                                                                                                         text  \\\n",
       "0                                        bought several vitality canned dog food products found good quality product looks like stew processed meat smells better labrador finicky appreciates product better   \n",
       "1                                                                       product arrived labeled jumbo salted peanuts peanuts actually small sized unsalted sure error vendor intended represent product jumbo   \n",
       "2                                                                                 looking secret ingredient robitussin believe found got addition root beer extract ordered made cherry soda flavor medicinal   \n",
       "3                                                                                                                         great taffy great price wide assortment yummy taffy delivery quick taffy lover deal   \n",
       "4     saltwater taffy great flavors soft chewy candy individually wrapped well none candies stuck together happen expensive version fralinger would highly recommend candy served beach themed party every...   \n",
       "...                                                                                                                                                                                                       ...   \n",
       "5086                                                                       senseo pods getting harder find especially paris vanilla caramel flavor happy find amazon good price especially subscription price   \n",
       "5087                                                   far great way order favorite coffee become really hard find local stores amazon even cheaper previously paid arrived quickly waiting day next shipment   \n",
       "5088                                                                                                coffee smell taste great recommend senseo vienna still packages paris nobody wanna drink guess throw away   \n",
       "5089                                                                                                                                                 tried brands french vanilla coffee best highly recommend   \n",
       "5090                                                                                                                                        nice flavor great aroma brewing everyone always jealous brew work   \n",
       "\n",
       "                                                        summary  \n",
       "0                          sostok good quality dog food  eostok  \n",
       "1                              sostok not as advertised  eostok  \n",
       "2                                 sostok cough medicine  eostok  \n",
       "3                                    sostok great taffy  eostok  \n",
       "4     sostok great just as good as the expensive brands  eostok  \n",
       "...                                                         ...  \n",
       "5086                  sostok good coffee for good price  eostok  \n",
       "5087                    sostok great coffee great price  eostok  \n",
       "5088                     sostok smells and tastes funny  eostok  \n",
       "5089                            sostok best of the best  eostok  \n",
       "5090                    sostok nice quick cup of coffee  eostok  \n",
       "\n",
       "[5091 rows x 2 columns]"
      ]
     },
     "execution_count": 11,
     "metadata": {},
     "output_type": "execute_result"
    }
   ],
   "source": [
    "# Apply start of sentence/ end of sentence tokens to summary, used for \n",
    "df['summary'] = df['summary'].apply(lambda x : 'sostok '+ x + ' eostok')\n",
    "df"
   ]
  },
  {
   "cell_type": "markdown",
   "metadata": {},
   "source": [
    "# Version 1: Preprocessing"
   ]
  },
  {
   "cell_type": "code",
   "execution_count": 12,
   "metadata": {},
   "outputs": [],
   "source": [
    "from sklearn.model_selection import train_test_split\n",
    "x_tr,x_val,y_tr,y_val=train_test_split(np.array(df['text']),np.array(df['summary']),test_size=0.2)"
   ]
  },
  {
   "cell_type": "code",
   "execution_count": 13,
   "metadata": {},
   "outputs": [
    {
     "data": {
      "text/plain": [
       "array(['sostok stuffed baked potatoes  eostok',\n",
       "       'sostok love it so tasty  eostok', 'sostok delicious  eostok',\n",
       "       'sostok sweet as honey  eostok',\n",
       "       'sostok delicious and additive  eostok',\n",
       "       'sostok fishy little devils  eostok',\n",
       "       'sostok nature logic  eostok', 'sostok nasty  eostok',\n",
       "       'sostok hearty oatmeal  eostok',\n",
       "       'sostok not like the picture  eostok'], dtype=object)"
      ]
     },
     "execution_count": 13,
     "metadata": {},
     "output_type": "execute_result"
    }
   ],
   "source": [
    "y_val[0:10]"
   ]
  },
  {
   "cell_type": "markdown",
   "metadata": {},
   "source": [
    "## X: Text tokenizer"
   ]
  },
  {
   "cell_type": "code",
   "execution_count": 14,
   "metadata": {},
   "outputs": [
    {
     "name": "stdout",
     "output_type": "stream",
     "text": [
      "% of rare words in vocabulary: 69.03760189324217\n",
      "Total Coverage of rare words: 9.992517515815251\n"
     ]
    }
   ],
   "source": [
    "#prepare a tokenizer for reviews on training data\n",
    "x_tokenizer = Tokenizer()\n",
    "x_tokenizer.fit_on_texts(list(x_tr))\n",
    "\n",
    "thresh=4 # threshold = 4. Word whose count is below 4 is considered as a rare word\n",
    "cnt=0\n",
    "tot_cnt=0\n",
    "freq=0\n",
    "tot_freq=0\n",
    "\n",
    "for key,value in x_tokenizer.word_counts.items():\n",
    "    tot_cnt=tot_cnt+1\n",
    "    tot_freq=tot_freq+value\n",
    "    if(value<thresh):\n",
    "        cnt=cnt+1\n",
    "        freq=freq+value\n",
    "    \n",
    "print(\"% of rare words in vocabulary:\",(cnt/tot_cnt)*100)\n",
    "print(\"Total Coverage of rare words:\",(freq/tot_freq)*100)"
   ]
  },
  {
   "cell_type": "code",
   "execution_count": 15,
   "metadata": {},
   "outputs": [
    {
     "data": {
      "text/plain": [
       "2355"
      ]
     },
     "execution_count": 15,
     "metadata": {},
     "output_type": "execute_result"
    }
   ],
   "source": [
    "tot_cnt-cnt"
   ]
  },
  {
   "cell_type": "code",
   "execution_count": 16,
   "metadata": {},
   "outputs": [
    {
     "data": {
      "text/plain": [
       "2356"
      ]
     },
     "execution_count": 16,
     "metadata": {},
     "output_type": "execute_result"
    }
   ],
   "source": [
    "#prepare a tokenizer for reviews on training data\n",
    "x_tokenizer = Tokenizer(num_words=tot_cnt-cnt) # for the vocabulary\n",
    "x_tokenizer.fit_on_texts(list(x_tr))\n",
    "\n",
    "#convert text sequences into integer sequences\n",
    "x_tr_seq    =   x_tokenizer.texts_to_sequences(x_tr) \n",
    "x_val_seq   =   x_tokenizer.texts_to_sequences(x_val)\n",
    "\n",
    "#padding zero upto maximum length\n",
    "x_tr    =   pad_sequences(x_tr_seq,  maxlen=max_len_text, padding='post')\n",
    "x_val   =   pad_sequences(x_val_seq, maxlen=max_len_text, padding='post')\n",
    "\n",
    "#size of vocabulary ( +1 for padding token)\n",
    "x_voc   =  x_tokenizer.num_words + 1\n",
    "x_voc"
   ]
  },
  {
   "cell_type": "code",
   "execution_count": 17,
   "metadata": {},
   "outputs": [
    {
     "data": {
      "text/plain": [
       "array([[ 431,  508,   16, ...,    0,    0,    0],\n",
       "       [   5,   45,   31, ...,    0,    0,    0],\n",
       "       [  31,  280,   20, ...,    0,    0,    0],\n",
       "       ...,\n",
       "       [ 308, 1561,  189, ...,    0,    0,    0],\n",
       "       [   1, 1293,   14, ...,    0,    0,    0],\n",
       "       [ 161,   47,    2, ...,    0,    0,    0]])"
      ]
     },
     "execution_count": 17,
     "metadata": {},
     "output_type": "execute_result"
    }
   ],
   "source": [
    "x_tr"
   ]
  },
  {
   "cell_type": "code",
   "execution_count": 18,
   "metadata": {},
   "outputs": [
    {
     "data": {
      "text/plain": [
       "(4072, 30)"
      ]
     },
     "execution_count": 18,
     "metadata": {},
     "output_type": "execute_result"
    }
   ],
   "source": [
    "x_tr.shape"
   ]
  },
  {
   "cell_type": "markdown",
   "metadata": {},
   "source": [
    "## Y: Summary Tokenizer"
   ]
  },
  {
   "cell_type": "code",
   "execution_count": 19,
   "metadata": {},
   "outputs": [
    {
     "name": "stdout",
     "output_type": "stream",
     "text": [
      "% of rare words in vocabulary: 85.56061232933388\n",
      "Total Coverage of rare words: 15.838844331879368\n"
     ]
    }
   ],
   "source": [
    "#prepare a tokenizer for reviews on training data\n",
    "y_tokenizer = Tokenizer()   \n",
    "y_tokenizer.fit_on_texts(list(y_tr))\n",
    "\n",
    "thresh=6 # threshold = 6. Word whose count is below 6 is considered as a rare word, since summaries are less.\n",
    "cnt=0\n",
    "tot_cnt=0\n",
    "freq=0\n",
    "tot_freq=0\n",
    "\n",
    "for key,value in y_tokenizer.word_counts.items():\n",
    "    tot_cnt=tot_cnt+1\n",
    "    tot_freq=tot_freq+value\n",
    "    if(value<thresh):\n",
    "        cnt=cnt+1\n",
    "        freq=freq+value\n",
    "    \n",
    "print(\"% of rare words in vocabulary:\",(cnt/tot_cnt)*100)\n",
    "print(\"Total Coverage of rare words:\",(freq/tot_freq)*100)"
   ]
  },
  {
   "cell_type": "code",
   "execution_count": 20,
   "metadata": {},
   "outputs": [
    {
     "data": {
      "text/plain": [
       "349"
      ]
     },
     "execution_count": 20,
     "metadata": {},
     "output_type": "execute_result"
    }
   ],
   "source": [
    "tot_cnt-cnt"
   ]
  },
  {
   "cell_type": "code",
   "execution_count": 21,
   "metadata": {},
   "outputs": [
    {
     "data": {
      "text/plain": [
       "350"
      ]
     },
     "execution_count": 21,
     "metadata": {},
     "output_type": "execute_result"
    }
   ],
   "source": [
    "#prepare a tokenizer for reviews on training data\n",
    "y_tokenizer = Tokenizer(num_words=tot_cnt-cnt) \n",
    "y_tokenizer.fit_on_texts(list(y_tr))\n",
    "\n",
    "#convert text sequences into integer sequences\n",
    "y_tr_seq    =   y_tokenizer.texts_to_sequences(y_tr) \n",
    "y_val_seq   =   y_tokenizer.texts_to_sequences(y_val) \n",
    "\n",
    "#padding zero upto maximum length\n",
    "y_tr    =   pad_sequences(y_tr_seq, maxlen=max_len_summary, padding='post')\n",
    "y_val   =   pad_sequences(y_val_seq, maxlen=max_len_summary, padding='post')\n",
    "\n",
    "#size of vocabulary\n",
    "y_voc  =   y_tokenizer.num_words +1\n",
    "y_voc"
   ]
  },
  {
   "cell_type": "code",
   "execution_count": 22,
   "metadata": {},
   "outputs": [
    {
     "data": {
      "text/plain": [
       "0"
      ]
     },
     "execution_count": 22,
     "metadata": {},
     "output_type": "execute_result"
    }
   ],
   "source": [
    "y_tokenizer.word_counts['sostok']-len(y_tr) # should be 0, check if there are any sostok's in the word list. "
   ]
  },
  {
   "cell_type": "code",
   "execution_count": 23,
   "metadata": {},
   "outputs": [],
   "source": [
    "ind=[]\n",
    "for i in range(len(y_tr)):\n",
    "    cnt=0\n",
    "    for j in y_tr[i]:\n",
    "        if j!=0:\n",
    "            cnt=cnt+1\n",
    "    if(cnt==2):\n",
    "        ind.append(i)\n",
    "\n",
    "y_tr=np.delete(y_tr,ind, axis=0)\n",
    "x_tr=np.delete(x_tr,ind, axis=0)"
   ]
  },
  {
   "cell_type": "code",
   "execution_count": 24,
   "metadata": {},
   "outputs": [],
   "source": [
    "ind=[]\n",
    "for i in range(len(y_val)):\n",
    "    cnt=0\n",
    "    for j in y_val[i]:\n",
    "        if j!=0:\n",
    "            cnt=cnt+1\n",
    "    if(cnt==2):\n",
    "        ind.append(i)\n",
    "\n",
    "y_val=np.delete(y_val,ind, axis=0)\n",
    "x_val=np.delete(x_val,ind, axis=0)"
   ]
  },
  {
   "cell_type": "markdown",
   "metadata": {},
   "source": [
    "# Version 2: Preprocessing,\n",
    "uses a smaller VOCAB_SIZE instead of finding the \"right\" number of words.\n",
    "\n",
    "trains using all data instead of train/validation. Gives lower loss results."
   ]
  },
  {
   "cell_type": "code",
   "execution_count": 25,
   "metadata": {},
   "outputs": [],
   "source": [
    "# # np.array(df['text']),np.array(df['summary']),test_size=0.2\n",
    "# VOCAB_SIZE=999\n",
    "\n",
    "# # Text\n",
    "# text_tokenizer = Tokenizer(num_words=VOCAB_SIZE) # for the vocabulary\n",
    "# text_tokenizer.fit_on_texts(list(df.text))\n",
    "# text_sequences=text_tokenizer.texts_to_sequences(list(df.text))\n",
    "# text_word_index=text_tokenizer.word_index\n",
    "\n",
    "# text_word_index_vocab={}\n",
    "# counter = 0\n",
    "# for word in text_word_index.keys():\n",
    "#     if text_word_index[word] == 0:\n",
    "#         print(\"found 0!\")\n",
    "#         break\n",
    "#     if text_word_index[word] > VOCAB_SIZE:\n",
    "#         continue\n",
    "#     else:\n",
    "#         text_word_index_vocab[word] = text_word_index[word]\n",
    "#         counter += 1\n",
    "# print(counter)\n",
    "\n",
    "# # Summaries\n",
    "# sum_tokenizer = Tokenizer(num_words=VOCAB_SIZE) # for the vocabulary\n",
    "# sum_tokenizer.fit_on_texts(list(df.summary))\n",
    "# sum_word_index=sum_tokenizer.word_index\n",
    "\n",
    "# sum_word_index_vocab={}\n",
    "# counter = 0\n",
    "# for word in sum_word_index.keys():\n",
    "#     if sum_word_index[word] == 0:\n",
    "#         print(\"found 0!\")\n",
    "#         break\n",
    "#     if sum_word_index[word] > VOCAB_SIZE:\n",
    "#         continue\n",
    "#     else:\n",
    "#         sum_word_index_vocab[word] = sum_word_index[word]\n",
    "#         counter += 1\n",
    "# print(counter)\n",
    "# # should produce counter=VOCAB_SIZE=299 twice. "
   ]
  },
  {
   "cell_type": "code",
   "execution_count": 26,
   "metadata": {},
   "outputs": [],
   "source": [
    "# from itertools import islice\n",
    "# dict(islice(sum_word_index_vocab.items(), 10))"
   ]
  },
  {
   "cell_type": "markdown",
   "metadata": {},
   "source": [
    "## Pad sequences"
   ]
  },
  {
   "cell_type": "code",
   "execution_count": 27,
   "metadata": {},
   "outputs": [],
   "source": [
    "# from keras.preprocessing.sequence import pad_sequences\n",
    "# max_len_text=30\n",
    "# max_len_summary=8\n",
    "# MAX_LEN=20\n",
    "# text_sequences=text_tokenizer.texts_to_sequences(list(df.text))\n",
    "# sum_sequences=sum_tokenizer.texts_to_sequences(list(df.summary))\n",
    "\n",
    "# pad_text_sequences = pad_sequences(text_sequences, maxlen=MAX_LEN, padding='post', truncating='post')\n",
    "# pad_sum_sequences = pad_sequences(sum_sequences, maxlen=MAX_LEN, padding='post', truncating='post')\n",
    "# print(len(text_sequences[1]), len(pad_text_sequences[1]))\n",
    "# print(pad_text_sequences.shape)\n",
    "# pad_text_sequences"
   ]
  },
  {
   "cell_type": "markdown",
   "metadata": {},
   "source": [
    "## GloVe embeddings"
   ]
  },
  {
   "cell_type": "code",
   "execution_count": 28,
   "metadata": {},
   "outputs": [
    {
     "name": "stdout",
     "output_type": "stream",
     "text": [
      "Found 400000 word vectors.\n",
      "Creating embeddings_index took 37.3 seconds.\n"
     ]
    }
   ],
   "source": [
    "from load_glove_embeddings import load_glove_embeddings # local function from .py file\n",
    "glove_dimension = 200\n",
    "import time\n",
    "timer_start = time.time()\n",
    "# word2index, embedding_matrix = load_glove_embeddings('Data/word_embeddings/glove.6B.'+str(glove_dimension)+'d.txt', embedding_dim=glove_dimension, include_empty_char=False)\n",
    "word2index, embedding_matrix = load_glove_embeddings('../Data/word_embeddings/glove.6B.'+str(glove_dimension)+'d.txt', embedding_dim=glove_dimension, include_empty_char=False)\n",
    "\n",
    "print('Found %s word vectors.' % len(word2index))\n",
    "print(\"Creating embeddings_index took\", round(time.time() - timer_start, 1), \"seconds.\")\n",
    "del timer_start"
   ]
  },
  {
   "cell_type": "code",
   "execution_count": 29,
   "metadata": {},
   "outputs": [
    {
     "data": {
      "text/plain": [
       "array([[-0.071549  ,  0.093459  ,  0.023738  , ...,  0.33616999,\n",
       "         0.030591  ,  0.25577   ],\n",
       "       [ 0.17651001,  0.29207999, -0.0020768 , ..., -0.20773999,\n",
       "        -0.23188999, -0.10814   ],\n",
       "       [ 0.12289   ,  0.58037001, -0.069635  , ..., -0.039174  ,\n",
       "        -0.16236   , -0.096652  ],\n",
       "       ...,\n",
       "       [ 0.17931999, -0.22      ,  0.080188  , ..., -0.26853999,\n",
       "        -0.51296997, -0.40487   ],\n",
       "       [-0.44606999,  0.025024  ,  0.10755   , ..., -0.19955   ,\n",
       "        -0.17528   , -0.31097001],\n",
       "       [-0.51112998, -0.47518   ,  0.22871   , ..., -0.0057218 ,\n",
       "         0.16466001, -0.39074001]])"
      ]
     },
     "execution_count": 29,
     "metadata": {},
     "output_type": "execute_result"
    }
   ],
   "source": [
    "embedding_matrix"
   ]
  },
  {
   "cell_type": "code",
   "execution_count": 30,
   "metadata": {},
   "outputs": [
    {
     "data": {
      "text/plain": [
       "[('the', 0),\n",
       " (',', 1),\n",
       " ('.', 2),\n",
       " ('of', 3),\n",
       " ('to', 4),\n",
       " ('and', 5),\n",
       " ('in', 6),\n",
       " ('a', 7),\n",
       " ('\"', 8),\n",
       " (\"'s\", 9)]"
      ]
     },
     "execution_count": 30,
     "metadata": {},
     "output_type": "execute_result"
    }
   ],
   "source": [
    "from itertools import islice\n",
    "list(islice(word2index.items(), 10))"
   ]
  },
  {
   "cell_type": "code",
   "execution_count": 31,
   "metadata": {},
   "outputs": [],
   "source": [
    "def embedding_matrix_creater(embedding_dimention, word_index): \n",
    "    \"\"\"\n",
    "    Uses GloVe as a global word embedding. \n",
    "    \n",
    "    embedding_dimention: usually in the title of glove.6D.'embedding_dimention', in this notebook use 50. \n",
    "    word_index: the input word embeddings\n",
    "    \n",
    "    returns: a local embedding matrix, to be input as weights [embedding] for the constructor\n",
    "        for keras' Embedding object. \n",
    "    \"\"\"\n",
    "    local_embedding_matrix = np.zeros((len(word_index) + 1, embedding_dimention))\n",
    "    for word, i in word_index.items():\n",
    "        embedding_vector = word2index.get(word) # from cell above, from glove.\n",
    "        if embedding_vector is not None:\n",
    "          # words not found in embedding index will be all-zeros.\n",
    "            local_embedding_matrix[i] = embedding_vector\n",
    "    return local_embedding_matrix"
   ]
  },
  {
   "cell_type": "code",
   "execution_count": 32,
   "metadata": {},
   "outputs": [
    {
     "name": "stdout",
     "output_type": "stream",
     "text": [
      "(2357, 200)\n",
      "(351, 200)\n"
     ]
    }
   ],
   "source": [
    "from tensorflow.keras.layers import Embedding\n",
    "text_embedding_matrix = embedding_matrix_creater(glove_dimension, \n",
    "        word_index=dict(islice(x_tokenizer.word_index.items(), x_tokenizer.num_words+1)))\n",
    "print(text_embedding_matrix.shape)\n",
    "\n",
    "sum_embedding_matrix = embedding_matrix_creater(glove_dimension, \n",
    "        word_index=dict(islice(y_tokenizer.word_index.items(), y_tokenizer.num_words+1)))\n",
    "print(sum_embedding_matrix.shape)\n",
    "\n",
    "encoder_embedding_layer = Embedding(input_dim = text_embedding_matrix.shape[0], # vocab size\n",
    "                                    output_dim = text_embedding_matrix.shape[1], # embedding dimension\n",
    "                                    input_length = max_len_text, # sequence length\n",
    "                                    weights = [text_embedding_matrix],\n",
    "                                    trainable = False) # False because these embeddings have already been trained. \n",
    "\n",
    "decoder_embedding_layer = Embedding(input_dim = sum_embedding_matrix.shape[0],\n",
    "                                    output_dim = sum_embedding_matrix.shape[1],\n",
    "                                    input_length = max_len_summary,\n",
    "                                    weights = [sum_embedding_matrix],\n",
    "                                    trainable = False) # False because these embeddings have already been trained. "
   ]
  },
  {
   "cell_type": "code",
   "execution_count": 33,
   "metadata": {},
   "outputs": [],
   "source": [
    "# from tensorflow.keras.layers import Embedding\n",
    "# text_embedding_matrix = embedding_matrix_creater(glove_dimension, \n",
    "#         word_index=text_word_index_vocab)\n",
    "# print(text_embedding_matrix.shape)\n",
    "\n",
    "# sum_embedding_matrix = embedding_matrix_creater(glove_dimension, \n",
    "#         word_index=sum_word_index_vocab)\n",
    "# print(sum_embedding_matrix.shape)\n",
    "\n",
    "# encoder_embedding_layer = Embedding(input_dim = text_embedding_matrix.shape[0], # vocab size\n",
    "#                                     output_dim = text_embedding_matrix.shape[1], # embedding dimension\n",
    "#                                     input_length = MAX_LEN, # sequence length\n",
    "#                                     weights = [text_embedding_matrix],\n",
    "#                                     trainable = False) # False because these embeddings have already been trained. \n",
    "\n",
    "# decoder_embedding_layer = Embedding(input_dim = sum_embedding_matrix.shape[0],\n",
    "#                                     output_dim = sum_embedding_matrix.shape[1],\n",
    "#                                     input_length = MAX_LEN,\n",
    "#                                     weights = [sum_embedding_matrix],\n",
    "#                                     trainable = False) # False because these embeddings have already been trained. "
   ]
  },
  {
   "cell_type": "code",
   "execution_count": 34,
   "metadata": {},
   "outputs": [],
   "source": [
    "# sum_embedding_matrix"
   ]
  },
  {
   "cell_type": "code",
   "execution_count": 35,
   "metadata": {},
   "outputs": [],
   "source": [
    "# text_embedding_matrix"
   ]
  },
  {
   "cell_type": "markdown",
   "metadata": {},
   "source": [
    "## Base model, inference doesn't need to be compiled, this does. "
   ]
  },
  {
   "cell_type": "code",
   "execution_count": 36,
   "metadata": {},
   "outputs": [
    {
     "data": {
      "image/png": "[encoded data removed]",
      "text/plain": [
       "<IPython.core.display.Image object>"
      ]
     },
     "execution_count": 36,
     "metadata": {},
     "output_type": "execute_result"
    }
   ],
   "source": [
    "\"\"\"\n",
    "Bidirectional LSTM: Others Inspired Encoder-Decoder-seq2seq\n",
    "\"\"\"\n",
    "from tensorflow.keras.layers import Input, LSTM, Embedding, Dropout,  Dense, Activation,Add, Concatenate, TimeDistributed, Bidirectional\n",
    "from tensorflow.keras.models import Model\n",
    "from tensorflow.keras.callbacks import EarlyStopping\n",
    "# MAX_LEN = 20\n",
    "HIDDEN_UNITS=200\n",
    "encoder_inputs = Input(shape=(max_len_text,), dtype='int32', name='encoder_inputs')\n",
    "encoder_embedding = encoder_embedding_layer(encoder_inputs)\n",
    "encoder_LSTM = LSTM(HIDDEN_UNITS, return_state=True)\n",
    "encoder_LSTM_R = LSTM(HIDDEN_UNITS, return_state=True, go_backwards=True)\n",
    "encoder_outputs_R, state_h_R, state_c_R = encoder_LSTM_R(encoder_embedding)\n",
    "encoder_outputs, state_h, state_c = encoder_LSTM(encoder_embedding)\n",
    "\n",
    "final_h = Add()([state_h, state_h_R])\n",
    "final_c = Add()([state_c, state_c_R])\n",
    "encoder_states = [final_h, final_c]\n",
    "\n",
    "\"\"\"\n",
    "decoder\n",
    "\"\"\"\n",
    "decoder_inputs = Input(shape=(None,), dtype='int32', name='decoder_inputs') # may be either (max_len_summary,) or (None,)\n",
    "decoder_embedding = decoder_embedding_layer(decoder_inputs)\n",
    "decoder_LSTM = LSTM(HIDDEN_UNITS, return_sequences=True, return_state=True)\n",
    "decoder_outputs, _, _ = decoder_LSTM(decoder_embedding, initial_state=encoder_states) \n",
    "decoder_dense = Dense(sum_embedding_matrix.shape[0]-1, activation='linear') # sum_embedding_matrix.shape[0] -1 = VOCAB_SIZE\n",
    "decoder_outputs = decoder_dense(decoder_outputs)\n",
    "\n",
    "model= Model(inputs=[encoder_inputs,decoder_inputs], outputs=decoder_outputs)\n",
    "# plot the model\n",
    "import os\n",
    "os.environ[\"PATH\"] += os.pathsep + 'C:/Program Files (x86)/Graphviz2.38/bin/'\n",
    "import tensorflow as tf\n",
    "tf.keras.utils.plot_model(model, to_file='model.png', show_shapes=True)"
   ]
  },
  {
   "cell_type": "code",
   "execution_count": 37,
   "metadata": {},
   "outputs": [
    {
     "data": {
      "text/plain": [
       "<tf.Tensor 'embedding/Identity:0' shape=(None, 30, 200) dtype=float32>"
      ]
     },
     "execution_count": 37,
     "metadata": {},
     "output_type": "execute_result"
    }
   ],
   "source": [
    "encoder_embedding"
   ]
  },
  {
   "cell_type": "code",
   "execution_count": 38,
   "metadata": {},
   "outputs": [
    {
     "data": {
      "text/plain": [
       "<tf.Tensor 'embedding_1/Identity:0' shape=(None, None, 200) dtype=float32>"
      ]
     },
     "execution_count": 38,
     "metadata": {},
     "output_type": "execute_result"
    }
   ],
   "source": [
    "decoder_embedding"
   ]
  },
  {
   "cell_type": "markdown",
   "metadata": {},
   "source": [
    "## Compile + Train Model"
   ]
  },
  {
   "cell_type": "markdown",
   "metadata": {},
   "source": [
    "# NEW"
   ]
  },
  {
   "cell_type": "code",
   "execution_count": 39,
   "metadata": {},
   "outputs": [],
   "source": [
    "# num_samples = len(pad_sum_sequences)\n",
    "# decoder_output_data = np.zeros((num_samples, MAX_LEN, VOCAB_SIZE), dtype=\"int32\")"
   ]
  },
  {
   "cell_type": "code",
   "execution_count": 40,
   "metadata": {},
   "outputs": [],
   "source": [
    "# for i, seqs in enumerate(pad_sum_sequences):\n",
    "#     for j, seq in enumerate(seqs):\n",
    "#         if j > 0:\n",
    "#             decoder_output_data[i][j][seq] = 1"
   ]
  },
  {
   "cell_type": "code",
   "execution_count": 41,
   "metadata": {},
   "outputs": [],
   "source": [
    "# from sklearn.model_selection import train_test_split\n",
    "# art_train, art_test, sum_train, sum_test = train_test_split(pad_text_sequences, pad_sum_sequences, test_size=0.2)\n",
    "# # X_train, X_test, y_train, y_test"
   ]
  },
  {
   "cell_type": "code",
   "execution_count": 42,
   "metadata": {},
   "outputs": [],
   "source": [
    "# train_num = art_train.shape[0]\n",
    "# train_num"
   ]
  },
  {
   "cell_type": "code",
   "execution_count": 43,
   "metadata": {},
   "outputs": [],
   "source": [
    "# target_train = decoder_output_data[:train_num]\n",
    "# target_test = decoder_output_data[train_num:]\n",
    "# target_train.shape"
   ]
  },
  {
   "cell_type": "code",
   "execution_count": 44,
   "metadata": {},
   "outputs": [],
   "source": [
    "# from tensorflow.keras.optimizers import RMSprop\n",
    "# rmsprop = RMSprop(lr=0.01, clipnorm=1.)\n",
    "# model.compile(loss='mse', optimizer=rmsprop, metrics=[\"accuracy\"])"
   ]
  },
  {
   "cell_type": "code",
   "execution_count": 45,
   "metadata": {},
   "outputs": [],
   "source": [
    "# target_train.shape"
   ]
  },
  {
   "cell_type": "code",
   "execution_count": 46,
   "metadata": {},
   "outputs": [],
   "source": [
    "# history = model.fit([art_train, sum_train], \n",
    "#                      target_train, \n",
    "#                      epochs=1, # will implement early stopping, see callbacks. \n",
    "#                      batch_size=128,\n",
    "# #                      callbacks=[EarlyStopping(monitor='val_loss', mode='min', verbose=1)],\n",
    "#                      validation_data=([art_test, sum_test], target_test))"
   ]
  },
  {
   "cell_type": "code",
   "execution_count": 47,
   "metadata": {},
   "outputs": [],
   "source": [
    "# # model.compile(optimizer='rmsprop', loss='sparse_categorical_crossentropy')\n",
    "# from tensorflow.keras.optimizers import RMSprop\n",
    "# rmsprop = RMSprop(lr=0.01, clipnorm=1.)\n",
    "# model.compile(loss='mse', optimizer=rmsprop, metrics=[\"accuracy\"])\n",
    "# # es = EarlyStopping(monitor='val_loss', mode='min', verbose=1,patience=2)\n",
    "# history=model.fit([x_tr,y_tr[:,:-1]], \n",
    "#                   y_tr.reshape(y_tr.shape[0],y_tr.shape[1], 1)[:,1:],\n",
    "#                   epochs=10,\n",
    "# #                   callbacks=[es],\n",
    "#                   batch_size=32, \n",
    "#                   validation_data=([x_val,y_val[:,:-1]], y_val.reshape(y_val.shape[0],y_val.shape[1], 1)[:,1:]))"
   ]
  },
  {
   "cell_type": "code",
   "execution_count": 48,
   "metadata": {},
   "outputs": [],
   "source": [
    "# plt.figure(figsize=(10, 6))\n",
    "# plt.plot(history.history['loss'])\n",
    "# plt.plot(history.history['val_loss'])\n",
    "# plt.title('model loss')\n",
    "# plt.ylabel('loss')\n",
    "# plt.xlabel('epoch')\n",
    "# plt.legend(['train', 'test'], loc='upper left')\n",
    "# plt.show()"
   ]
  },
  {
   "cell_type": "code",
   "execution_count": 49,
   "metadata": {},
   "outputs": [
    {
     "name": "stdout",
     "output_type": "stream",
     "text": [
      "Train on 3738 samples, validate on 924 samples\n",
      "Epoch 1/15\n",
      "3738/3738 [==============================] - 15s 4ms/sample - loss: 6.2207 - val_loss: 5.2489\n",
      "Epoch 2/15\n",
      "3738/3738 [==============================] - 10s 3ms/sample - loss: 4.9932 - val_loss: 3.3043\n",
      "Epoch 3/15\n",
      "3738/3738 [==============================] - 10s 3ms/sample - loss: 3.6656 - val_loss: 3.3029\n",
      "Epoch 4/15\n",
      "3738/3738 [==============================] - 10s 3ms/sample - loss: 3.8572 - val_loss: 3.4136\n",
      "Epoch 5/15\n",
      "3738/3738 [==============================] - 10s 3ms/sample - loss: 3.6959 - val_loss: 3.4804\n",
      "Epoch 00005: early stopping\n"
     ]
    }
   ],
   "source": [
    "# model.compile(optimizer=\"adam\", loss=\"categorical_crossentropy\", metrics=[\"accuracy\"])\n",
    "model.compile(optimizer='rmsprop', loss='sparse_categorical_crossentropy')\n",
    "es = EarlyStopping(monitor='val_loss', mode='min', verbose=1,patience=2)\n",
    "history=model.fit([x_tr,y_tr[:,:]],\n",
    "                  y_tr.reshape(y_tr.shape[0],y_tr.shape[1], 1)[:,:],\n",
    "                  epochs=15,\n",
    "                  callbacks=[es],\n",
    "                  batch_size=64,\n",
    "                  validation_data=([x_val,y_val[:,:]],\n",
    "                            y_val.reshape(y_val.shape[0],y_val.shape[1], 1)[:,:]))"
   ]
  },
  {
   "cell_type": "markdown",
   "metadata": {},
   "source": [
    "## Inference Model. The loss above is very high."
   ]
  },
  {
   "cell_type": "code",
   "execution_count": 50,
   "metadata": {},
   "outputs": [
    {
     "data": {
      "image/png": "[encoded data removed]",
      "text/plain": [
       "<IPython.core.display.Image object>"
      ]
     },
     "execution_count": 50,
     "metadata": {},
     "output_type": "execute_result"
    }
   ],
   "source": [
    "# define encoder inference model\n",
    "encoder_model = Model(inputs=encoder_inputs, outputs=[encoder_outputs, state_h, state_c])\n",
    "tf.keras.utils.plot_model(encoder_model, to_file='encoder_model_bi.png', show_shapes=True)"
   ]
  },
  {
   "cell_type": "code",
   "execution_count": 51,
   "metadata": {},
   "outputs": [
    {
     "data": {
      "text/plain": [
       "<tf.Tensor 'embedding_1/Identity:0' shape=(None, None, 200) dtype=float32>"
      ]
     },
     "execution_count": 51,
     "metadata": {},
     "output_type": "execute_result"
    }
   ],
   "source": [
    "decoder_embedding"
   ]
  },
  {
   "cell_type": "code",
   "execution_count": 52,
   "metadata": {},
   "outputs": [
    {
     "data": {
      "image/png": "[encoded data removed]",
      "text/plain": [
       "<IPython.core.display.Image object>"
      ]
     },
     "execution_count": 52,
     "metadata": {},
     "output_type": "execute_result"
    }
   ],
   "source": [
    "# define decoder inference model\n",
    "decoder_state_input_h = Input(shape=(HIDDEN_UNITS,), name='dec_h')\n",
    "decoder_state_input_c = Input(shape=(HIDDEN_UNITS,), name='dec_c')\n",
    "decoder_hidden_state_input = Input(shape=(None,HIDDEN_UNITS), name='dec_hidden_state') # encoder output\n",
    "\n",
    "decoder_outputs, state_h, state_c = decoder_LSTM(decoder_embedding, \n",
    "                                initial_state=[decoder_state_input_h, decoder_state_input_c])\n",
    "decoder_outputs = decoder_dense(decoder_outputs)\n",
    "decoder_model = Model(\n",
    "    [decoder_inputs] + [decoder_hidden_state_input,decoder_state_input_h,decoder_state_input_c], \n",
    "    [decoder_outputs] + [state_h, state_c])\n",
    "tf.keras.utils.plot_model(decoder_model, to_file='decoder_model_bi.png', show_shapes=True)"
   ]
  },
  {
   "cell_type": "code",
   "execution_count": 53,
   "metadata": {},
   "outputs": [],
   "source": [
    "# reverse_target_word_index=sum_tokenizer.index_word\n",
    "# reverse_source_word_index=text_tokenizer.index_word \n",
    "# target_word_index=sum_tokenizer.word_index"
   ]
  },
  {
   "cell_type": "code",
   "execution_count": 54,
   "metadata": {},
   "outputs": [],
   "source": [
    "reverse_target_word_index=y_tokenizer.index_word\n",
    "reverse_source_word_index=x_tokenizer.index_word\n",
    "target_word_index=y_tokenizer.word_index"
   ]
  },
  {
   "cell_type": "code",
   "execution_count": 55,
   "metadata": {},
   "outputs": [],
   "source": [
    "def seq2summary(input_seq):\n",
    "    newString=''\n",
    "    for i in input_seq:\n",
    "        if((i!=0 and i!=target_word_index['sostok']) and i!=target_word_index['eostok']):\n",
    "            newString=newString+reverse_target_word_index[i]+' '\n",
    "    return newString\n",
    "\n",
    "def seq2text(input_seq):\n",
    "    newString=''\n",
    "    for i in input_seq:\n",
    "        if(i!=0):\n",
    "            newString=newString+reverse_source_word_index[i]+' '\n",
    "    return newString"
   ]
  },
  {
   "cell_type": "code",
   "execution_count": 56,
   "metadata": {},
   "outputs": [],
   "source": [
    "def decode_sequence(input_seq):\n",
    "    # Encode the input as state vectors.\n",
    "    print('input_seq:', input_seq)\n",
    "    print('input_seq.shape:', input_seq.shape)\n",
    "    e_out, e_h, e_c = encoder_model.predict(input_seq)\n",
    "    e_out=e_out.reshape(1,1,HIDDEN_UNITS)\n",
    "    print('e_out:', e_out[0][0][0])\n",
    "    print('e_h:', e_h[0][0])\n",
    "    print('e_c:', e_c[0][0])\n",
    "    \n",
    "    # Generate empty target sequence of length 1.\n",
    "    target_seq = np.zeros((1,1))\n",
    "    \n",
    "    # Chose the 'start' word as the first word of the target sequence\n",
    "    target_seq[0,0] = target_word_index['sostok']\n",
    "    # works fine\n",
    "    print('target_seq.shape:', target_seq.shape)\n",
    "    stop_condition = False\n",
    "    decoded_sentence = ''\n",
    "    while not stop_condition:\n",
    "        output_tokens, h, c = decoder_model.predict([target_seq] + [e_out, e_h, e_c])\n",
    "    \n",
    "        # Sample a token\n",
    "        sampled_token_index = np.argmax(output_tokens[0, -1, :])\n",
    "#         print(sampled_token_index)\n",
    "#         if sampled_token_index != 0: # loops here too many times, shouldn't have an index of 0, but consistently does. \n",
    "        sampled_token = reverse_target_word_index[sampled_token_index]\n",
    "        \n",
    "        if(sampled_token!='eostok'):\n",
    "            decoded_sentence += ' '+sampled_token\n",
    "\n",
    "        # Exit condition: either hit max length or find stop word.\n",
    "        if (sampled_token == 'eostok' or len(decoded_sentence.split()) >= (max_len_summary-1)):\n",
    "            stop_condition = True\n",
    "\n",
    "        # Update the target sequence (of length 1).\n",
    "        target_seq = np.zeros((1,1))\n",
    "        target_seq[0, 0] = sampled_token_index\n",
    "        \n",
    "        # Update internal states\n",
    "        e_h, e_c = h, c\n",
    "\n",
    "    return decoded_sentence"
   ]
  },
  {
   "cell_type": "code",
   "execution_count": 57,
   "metadata": {},
   "outputs": [
    {
     "name": "stdout",
     "output_type": "stream",
     "text": [
      "Review: love mix favorite tried reason deal get boxes walmart less dollars heard places seriously pricing states \n",
      "Original summary: love this \n",
      "\n",
      "input_seq: [[   5   45   31   20  362  222   15  275  960  154  865  705 1572  734\n",
      "  1573  961    0    0    0    0    0    0    0    0    0    0    0    0\n",
      "     0    0]]\n",
      "input_seq.shape: (1, 30)\n",
      "e_out: -0.47406146\n",
      "e_h: -0.47406146\n",
      "e_c: -1.5441551\n",
      "target_seq.shape: (1, 1)\n",
      "Predicted summary:  roast waffle waffle waffle waffle waffle waffle\n",
      "________________________________________________________\n",
      "\n",
      "\n",
      "Review: favorite coffees tried smooth flavorful without flavored coffee definite treat anytime day \n",
      "Original summary: great brew \n",
      "\n",
      "input_seq: [[  31  280   20  128  286   75  134    4 1750  181  962   99    0    0\n",
      "     0    0    0    0    0    0    0    0    0    0    0    0    0    0\n",
      "     0    0]]\n",
      "input_seq.shape: (1, 30)\n",
      "e_out: -0.4363849\n",
      "e_h: -0.4363849\n",
      "e_c: -1.2802211\n",
      "target_seq.shape: (1, 1)\n",
      "Predicted summary:  roast bed waffle waffle waffle waffle waffle\n",
      "________________________________________________________\n",
      "\n",
      "\n",
      "Review: wife loves cups first say arrived month earlier stated excellent convenience able use coffee throw away little cups afterwards fantastic clean excellent \n",
      "Original summary: nothing \n",
      "\n",
      "input_seq: [[ 350   39   57   82  150  133  319 1297 1201   64  570  173   17    4\n",
      "   658  227   23   57 2005  309  393   64    0    0    0    0    0    0\n",
      "     0    0]]\n",
      "input_seq.shape: (1, 30)\n",
      "e_out: -0.52223015\n",
      "e_h: -0.52223015\n",
      "e_c: -1.7962997\n",
      "target_seq.shape: (1, 1)\n",
      "Predicted summary:  will waffle waffle waffle waffle waffle waffle\n",
      "________________________________________________________\n",
      "\n",
      "\n",
      "Review: love hardly notice aftertaste sweetener agree others like buy \n",
      "Original summary: grove cocoa cups \n",
      "\n",
      "input_seq: [[   5 1112  903  382  637  812  229    3   13    0    0    0    0    0\n",
      "     0    0    0    0    0    0    0    0    0    0    0    0    0    0\n",
      "     0    0]]\n",
      "input_seq.shape: (1, 30)\n",
      "e_out: -0.40758052\n",
      "e_h: -0.40758052\n",
      "e_c: -1.1121216\n",
      "target_seq.shape: (1, 1)\n",
      "Predicted summary:  roast bed bed best best best best\n",
      "________________________________________________________\n",
      "\n",
      "\n",
      "Review: good product fast delivery follow hot drinking time day buy \n",
      "Original summary: very hot \n",
      "\n",
      "input_seq: [[   2    6  167  276 1037   33  261   25   99   13    0    0    0    0\n",
      "     0    0    0    0    0    0    0    0    0    0    0    0    0    0\n",
      "     0    0]]\n",
      "input_seq.shape: (1, 30)\n",
      "e_out: -0.41709772\n",
      "e_h: -0.41709772\n",
      "e_c: -1.1638484\n",
      "target_seq.shape: (1, 1)\n",
      "Predicted summary:  roast bed waffle best waffle best best\n",
      "________________________________________________________\n",
      "\n",
      "\n",
      "Review: spice mix taste favorite restaurant stews use much smells perfect meat bean stews \n",
      "Original summary: taste at home \n",
      "\n",
      "input_seq: [[ 406   45    7   31  813 1751   17   22  433   50  601  659 1751    0\n",
      "     0    0    0    0    0    0    0    0    0    0    0    0    0    0\n",
      "     0    0]]\n",
      "input_seq.shape: (1, 30)\n",
      "e_out: -0.4459387\n",
      "e_h: -0.4459387\n",
      "e_c: -1.3438702\n",
      "target_seq.shape: (1, 1)\n",
      "Predicted summary:  roast bed waffle waffle waffle waffle waffle\n",
      "________________________________________________________\n",
      "\n",
      "\n",
      "Review: month old son fan yummy first bite garden flavor new favorite thick almost creamy perfect baby likes food texture always happy bring cup tray \n",
      "Original summary: yum \n",
      "\n",
      "input_seq: [[ 319  100  182  302  281   82  472 1574    8  201   31  735  213  387\n",
      "    50  202  250   29  242   69  126 1038   26 2006    0    0    0    0\n",
      "     0    0]]\n",
      "input_seq.shape: (1, 30)\n",
      "e_out: -0.53222245\n",
      "e_h: -0.53222245\n",
      "e_c: -1.7441335\n",
      "target_seq.shape: (1, 1)\n",
      "Predicted summary:  will waffle waffle waffle waffle waffle waffle\n",
      "________________________________________________________\n",
      "\n",
      "\n",
      "Review: much watery tastes much like tasteless hot cocoa one gets machine receiving box reading list ingredients decided order product definitely worth money \n",
      "Original summary: not good \n",
      "\n",
      "input_seq: [[  22  638   42   22    3 1113   33  130    9  571  351 1575   61  774\n",
      "   660  185  388   36    6   79  107  186    0    0    0    0    0    0\n",
      "     0    0]]\n",
      "input_seq.shape: (1, 30)\n",
      "e_out: -0.52223015\n",
      "e_h: -0.52223015\n",
      "e_c: -1.7962997\n",
      "target_seq.shape: (1, 1)\n",
      "Predicted summary:  will waffle waffle waffle waffle waffle waffle\n",
      "________________________________________________________\n",
      "\n",
      "\n",
      "Review: white bread thing probably like one like white breads really full bodied white breads otherwise always choose whole grains one full bodied particular flavor interesting \n",
      "Original summary: if you like white bread \n",
      "\n",
      "input_seq: [[ 262  303  228  269    3    9    3  262 1752   12  158  572  262 1752\n",
      "   573   69  736  119 1298    9  158  572  602    8  963    0    0    0\n",
      "     0    0]]\n",
      "input_seq.shape: (1, 30)\n",
      "e_out: -0.53341526\n",
      "e_h: -0.53341526\n",
      "e_c: -1.6816201\n",
      "target_seq.shape: (1, 1)\n",
      "Predicted summary:  will waffle waffle waffle waffle waffle waffle\n",
      "________________________________________________________\n",
      "\n",
      "\n",
      "Review: pleased price product shipping fast like back grocery store thanks amazon \n",
      "Original summary: excellent price and great food \n",
      "\n",
      "input_seq: [[287  14   6 102 167   3 207 168  58 223  21   0   0   0   0   0   0   0\n",
      "    0   0   0   0   0   0   0   0   0   0   0   0]]\n",
      "input_seq.shape: (1, 30)\n",
      "e_out: -0.42673913\n",
      "e_h: -0.42673913\n",
      "e_c: -1.2199937\n",
      "target_seq.shape: (1, 1)\n",
      "Predicted summary:  roast bed waffle waffle best waffle best\n",
      "________________________________________________________\n",
      "\n",
      "\n",
      "Review: cannot say biscuits made mix taste good regular wheat said gluten free foods bad either \n",
      "Original summary: pretty good \n",
      "\n",
      "input_seq: [[ 48 150 509  55  45   7   2  71 394 255 104  46 288  95 304   0   0   0\n",
      "    0   0   0   0   0   0   0   0   0   0   0   0]]\n",
      "input_seq.shape: (1, 30)\n",
      "e_out: -0.46470112\n",
      "e_h: -0.46470112\n",
      "e_c: -1.4772495\n",
      "target_seq.shape: (1, 1)\n",
      "Predicted summary:  roast waffle waffle waffle waffle waffle waffle\n",
      "________________________________________________________\n",
      "\n",
      "\n",
      "Review: love chips eaten alone since crisp tasty dip every one introduced chips loves expiration date months ordering bags come near going stale \n",
      "Original summary: great \n",
      "\n",
      "input_seq: [[   5   19  512  776   87  473   63  904   70    9 1753   19   39  683\n",
      "   550  330  162  131  219 1114  203  533    0    0    0    0    0    0\n",
      "     0    0]]\n",
      "input_seq.shape: (1, 30)\n",
      "e_out: -0.52223015\n",
      "e_h: -0.52223015\n",
      "e_c: -1.7962997\n",
      "target_seq.shape: (1, 1)\n",
      "Predicted summary:  will waffle waffle waffle waffle waffle waffle\n",
      "________________________________________________________\n",
      "\n",
      "\n",
      "Review: melitta rich product delicious treat comparable coffees much higher price plus decaffeinated version flavour highly recommended \n",
      "Original summary: excellent quality and value \n",
      "\n",
      "input_seq: [[ 964  208    6   28  181 2007  280   22  574   14  320 1407  421 1299\n",
      "    96  310    0    0    0    0    0    0    0    0    0    0    0    0\n",
      "     0    0]]\n",
      "input_seq.shape: (1, 30)\n",
      "e_out: -0.47406146\n",
      "e_h: -0.47406146\n",
      "e_c: -1.5441551\n",
      "target_seq.shape: (1, 1)\n",
      "Predicted summary:  roast waffle waffle waffle waffle waffle waffle\n",
      "________________________________________________________\n",
      "\n",
      "\n",
      "Review: tomatoes perfect italian recipes full flavor acidic italian always best choice italian cooking \n",
      "Original summary: great \n",
      "\n",
      "input_seq: [[777  50 965 603 158   8 966 965  69  11 369 965 408   0   0   0   0   0\n",
      "    0   0   0   0   0   0   0   0   0   0   0   0]]\n",
      "input_seq.shape: (1, 30)\n",
      "e_out: -0.4459387\n",
      "e_h: -0.4459387\n",
      "e_c: -1.3438702\n",
      "target_seq.shape: (1, 1)\n",
      "Predicted summary:  roast bed waffle waffle waffle waffle waffle\n",
      "________________________________________________________\n",
      "\n",
      "\n",
      "Review: hot chocolate tastes like hot sugar water pinch coco although even sugary taste weak flavor artificial sweetener sucralose consistency watery bland made cup directions box recommend product \n",
      "Original summary: tastes like hot sugar water \n",
      "\n",
      "input_seq: [[  33   30   42    3   33   59   88 1754 1115  370   43 1116    7  331\n",
      "     8  363  637 1755  510  638  706   55   26 1117   61   34    6    0\n",
      "     0    0]]\n",
      "input_seq.shape: (1, 30)\n",
      "e_out: -0.5283502\n",
      "e_h: -0.5283502\n",
      "e_c: -1.5223527\n",
      "target_seq.shape: (1, 1)\n",
      "Predicted summary:  will waffle waffle waffle waffle waffle waffle\n",
      "________________________________________________________\n",
      "\n",
      "\n",
      "Review: recently started eating vegetarian meals product organic solid get ton water like get store bought tofu happy quality fast delivery \n",
      "Original summary: great product \n",
      "\n",
      "input_seq: [[ 513  446  163 1408  967    6  117 1409   15 2010   88    3   15   58\n",
      "    40  576  126   73  167  276    0    0    0    0    0    0    0    0\n",
      "     0    0]]\n",
      "input_seq.shape: (1, 30)\n",
      "e_out: -0.50968856\n",
      "e_h: -0.50968856\n",
      "e_c: -1.7601575\n",
      "target_seq.shape: (1, 1)\n",
      "Predicted summary:  will waffle waffle waffle waffle waffle waffle\n",
      "________________________________________________________\n",
      "\n",
      "\n",
      "Review: product perfect puppy regular healthy vet pleased know picked product instead regular store brand natural puppy loves \n",
      "Original summary: perfect \n",
      "\n",
      "input_seq: [[   6   50 1039   71   83 1040  287  101 1041    6  256   71   58   72\n",
      "   187 1039   39    0    0    0    0    0    0    0    0    0    0    0\n",
      "     0    0]]\n",
      "input_seq.shape: (1, 30)\n",
      "e_out: -0.48351964\n",
      "e_h: -0.48351964\n",
      "e_c: -1.6087\n",
      "target_seq.shape: (1, 1)\n"
     ]
    },
    {
     "name": "stdout",
     "output_type": "stream",
     "text": [
      "Predicted summary:  roast waffle waffle waffle waffle waffle waffle\n",
      "________________________________________________________\n",
      "\n",
      "\n",
      "Review: product arrived labeled jumbo salted peanuts peanuts actually small sized unsalted sure vendor product jumbo \n",
      "Original summary: not as \n",
      "\n",
      "input_seq: [[   6  133 2011 1578 1410  778  778  178  122  814 2012  106  968    6\n",
      "  1578    0    0    0    0    0    0    0    0    0    0    0    0    0\n",
      "     0    0]]\n",
      "input_seq.shape: (1, 30)\n",
      "e_out: -0.46470127\n",
      "e_h: -0.46470127\n",
      "e_c: -1.4772507\n",
      "target_seq.shape: (1, 1)\n",
      "Predicted summary:  roast waffle waffle waffle waffle waffle waffle\n",
      "________________________________________________________\n",
      "\n",
      "\n",
      "Review: great flavor makes great cup coffee fine cup coffee feel like much flavored coffee puck great flavor coffee \n",
      "Original summary: great flavor coffee \n",
      "\n",
      "input_seq: [[  1   8  66   1  26   4 238  26   4 220   3  22 134   4 323   1   8   4\n",
      "    0   0   0   0   0   0   0   0   0   0   0   0]]\n",
      "input_seq.shape: (1, 30)\n",
      "e_out: -0.49294332\n",
      "e_h: -0.49294332\n",
      "e_c: -1.6683286\n",
      "target_seq.shape: (1, 1)\n",
      "Predicted summary:  roast waffle waffle waffle waffle waffle waffle\n",
      "________________________________________________________\n",
      "\n",
      "\n"
     ]
    }
   ],
   "source": [
    "for i in range(1,20):\n",
    "    print(\"Review:\",seq2text(x_tr[i]))\n",
    "    print(\"Original summary:\",seq2summary(y_tr[i]))\n",
    "    print()\n",
    "    print(\"Predicted summary:\",decode_sequence(x_tr[i].reshape(1,max_len_text)))\n",
    "    print(\"________________________________________________________\")\n",
    "    print(\"\\n\")"
   ]
  },
  {
   "cell_type": "markdown",
   "metadata": {},
   "source": [
    "# The inference encoder doesn't work^ (e_out etc. are relatively the same for each input)\n",
    "# The inference decoder may work, but cant be tested since the encoder doesn't work"
   ]
  },
  {
   "cell_type": "code",
   "execution_count": null,
   "metadata": {},
   "outputs": [],
   "source": []
  }
 ],
 "metadata": {
  "kernelspec": {
   "display_name": "Python 3",
   "language": "python",
   "name": "python3"
  },
  "language_info": {
   "codemirror_mode": {
    "name": "ipython",
    "version": 3
   },
   "file_extension": ".py",
   "mimetype": "text/x-python",
   "name": "python",
   "nbconvert_exporter": "python",
   "pygments_lexer": "ipython3",
   "version": "3.7.3"
  }
 },
 "nbformat": 4,
 "nbformat_minor": 2
}
