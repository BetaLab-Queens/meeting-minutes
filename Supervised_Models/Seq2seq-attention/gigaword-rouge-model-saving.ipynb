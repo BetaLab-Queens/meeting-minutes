{
 "cells": [
  {
   "cell_type": "code",
   "execution_count": 1,
   "metadata": {},
   "outputs": [
    {
     "name": "stderr",
     "output_type": "stream",
     "text": [
      "Using TensorFlow backend.\n"
     ]
    }
   ],
   "source": [
    "import numpy as np  \n",
    "import pandas as pd \n",
    "import re           \n",
    "import os\n",
    "from bs4 import BeautifulSoup \n",
    "from keras.preprocessing.text import Tokenizer \n",
    "from keras.preprocessing.sequence import pad_sequences\n",
    "from nltk.corpus import stopwords   \n",
    "from tensorflow.keras.layers import Input, LSTM, Embedding, Dense, Concatenate, TimeDistributed, Bidirectional\n",
    "from tensorflow.keras.models import Model\n",
    "from tensorflow.keras.callbacks import EarlyStopping\n",
    "import warnings\n",
    "pd.set_option(\"display.max_colwidth\", 200)\n",
    "warnings.filterwarnings(\"ignore\")\n",
    "import nltk"
   ]
  },
  {
   "cell_type": "code",
   "execution_count": 2,
   "metadata": {},
   "outputs": [
    {
     "data": {
      "text/html": [
       "<div>\n",
       "<style scoped>\n",
       "    .dataframe tbody tr th:only-of-type {\n",
       "        vertical-align: middle;\n",
       "    }\n",
       "\n",
       "    .dataframe tbody tr th {\n",
       "        vertical-align: top;\n",
       "    }\n",
       "\n",
       "    .dataframe thead th {\n",
       "        text-align: right;\n",
       "    }\n",
       "</style>\n",
       "<table border=\"1\" class=\"dataframe\">\n",
       "  <thead>\n",
       "    <tr style=\"text-align: right;\">\n",
       "      <th></th>\n",
       "      <th>Text</th>\n",
       "      <th>Summary</th>\n",
       "    </tr>\n",
       "  </thead>\n",
       "  <tbody>\n",
       "    <tr>\n",
       "      <th>0</th>\n",
       "      <td>this weekend 's group of eight summit in russia may be one of the last chances for the international community to revive stalled world trade talks , prime minister tony blair said wednesday .</td>\n",
       "      <td>britain 's blair says g-# summit may be one of last chances to revive wto talks</td>\n",
       "    </tr>\n",
       "    <tr>\n",
       "      <th>1</th>\n",
       "      <td>one of india 's biggest christian groups tuesday demanded revocation of a death sentence on a ##-year-old boy for insulting islam in pakistan .</td>\n",
       "      <td>indian christian group protests pakistani court ruling</td>\n",
       "    </tr>\n",
       "    <tr>\n",
       "      <th>2</th>\n",
       "      <td>the internet boom is bringing sweeping demographic changes to silicon valley , according to an annual report card for the region , which shows that the number of nonwhite residents surpassed white...</td>\n",
       "      <td>influx of new immigrants found in silicon valley</td>\n",
       "    </tr>\n",
       "    <tr>\n",
       "      <th>3</th>\n",
       "      <td>india 's parliament reopened monday to consider the national budget as opposition parties planned a united attack on the government for failing to control hindu hard-liners who want to build a tem...</td>\n",
       "      <td>budget session of indian parliament opens on a stormy note</td>\n",
       "    </tr>\n",
       "    <tr>\n",
       "      <th>4</th>\n",
       "      <td>taiwan 's small and medium-sized exporters that sign up for or renew &lt;unk&gt; website memberships will be offered discounted dun &amp;amp; bradstreet -lrb- &lt;unk&gt; -rrb- accreditation , the taiwan external...</td>\n",
       "      <td>new &lt;unk&gt; members offered discounted &lt;unk&gt; logos</td>\n",
       "    </tr>\n",
       "    <tr>\n",
       "      <th>...</th>\n",
       "      <td>...</td>\n",
       "      <td>...</td>\n",
       "    </tr>\n",
       "    <tr>\n",
       "      <th>995</th>\n",
       "      <td>a german pop star made a tearful courtroom apology monday for keeping her hiv status a secret from her sexual partners , before being confronted by an ex-lover who contracted the virus .</td>\n",
       "      <td>tearful german pop star confesses in hiv trial</td>\n",
       "    </tr>\n",
       "    <tr>\n",
       "      <th>996</th>\n",
       "      <td>portugal 's government is in talks with trade unions about introducing labor reforms it regards as vital to ease the country 's financial crisis .</td>\n",
       "      <td>portugal eyes labor reforms to ease economic woes</td>\n",
       "    </tr>\n",
       "    <tr>\n",
       "      <th>997</th>\n",
       "      <td>hong kong shares ended modestly lower monday , with the blue-chip hang seng index down ##.## points , or #.# percent , to ##,###.## , after trading between ##,###.## and ##,###.## points during th...</td>\n",
       "      <td>hong kong shares end down jan. ##</td>\n",
       "    </tr>\n",
       "    <tr>\n",
       "      <th>998</th>\n",
       "      <td>china 's military now possesses most of the sophisticated weapon systems found in the arsenals of developed western nations , the country 's defense minister said in comments published monday .</td>\n",
       "      <td>china says military arsenal comparable with west</td>\n",
       "    </tr>\n",
       "    <tr>\n",
       "      <th>999</th>\n",
       "      <td>the spanish state budget posted a july surplus of ###.# billion pesetas -lrb- #.# billion dollars -rrb- , up ##.# percent from the previous july , the economics ministry announced on tuesday .</td>\n",
       "      <td>spanish budget surplus up sharply in july year on year</td>\n",
       "    </tr>\n",
       "  </tbody>\n",
       "</table>\n",
       "<p>1000 rows × 2 columns</p>\n",
       "</div>"
      ],
      "text/plain": [
       "                                                                                                                                                                                                        Text  \\\n",
       "0            this weekend 's group of eight summit in russia may be one of the last chances for the international community to revive stalled world trade talks , prime minister tony blair said wednesday .   \n",
       "1                                                            one of india 's biggest christian groups tuesday demanded revocation of a death sentence on a ##-year-old boy for insulting islam in pakistan .   \n",
       "2    the internet boom is bringing sweeping demographic changes to silicon valley , according to an annual report card for the region , which shows that the number of nonwhite residents surpassed white...   \n",
       "3    india 's parliament reopened monday to consider the national budget as opposition parties planned a united attack on the government for failing to control hindu hard-liners who want to build a tem...   \n",
       "4    taiwan 's small and medium-sized exporters that sign up for or renew <unk> website memberships will be offered discounted dun &amp; bradstreet -lrb- <unk> -rrb- accreditation , the taiwan external...   \n",
       "..                                                                                                                                                                                                       ...   \n",
       "995               a german pop star made a tearful courtroom apology monday for keeping her hiv status a secret from her sexual partners , before being confronted by an ex-lover who contracted the virus .   \n",
       "996                                                       portugal 's government is in talks with trade unions about introducing labor reforms it regards as vital to ease the country 's financial crisis .   \n",
       "997  hong kong shares ended modestly lower monday , with the blue-chip hang seng index down ##.## points , or #.# percent , to ##,###.## , after trading between ##,###.## and ##,###.## points during th...   \n",
       "998        china 's military now possesses most of the sophisticated weapon systems found in the arsenals of developed western nations , the country 's defense minister said in comments published monday .   \n",
       "999         the spanish state budget posted a july surplus of ###.# billion pesetas -lrb- #.# billion dollars -rrb- , up ##.# percent from the previous july , the economics ministry announced on tuesday .   \n",
       "\n",
       "                                                                             Summary  \n",
       "0    britain 's blair says g-# summit may be one of last chances to revive wto talks  \n",
       "1                             indian christian group protests pakistani court ruling  \n",
       "2                                   influx of new immigrants found in silicon valley  \n",
       "3                         budget session of indian parliament opens on a stormy note  \n",
       "4                                   new <unk> members offered discounted <unk> logos  \n",
       "..                                                                               ...  \n",
       "995                                   tearful german pop star confesses in hiv trial  \n",
       "996                                portugal eyes labor reforms to ease economic woes  \n",
       "997                                                hong kong shares end down jan. ##  \n",
       "998                                 china says military arsenal comparable with west  \n",
       "999                           spanish budget surplus up sharply in july year on year  \n",
       "\n",
       "[1000 rows x 2 columns]"
      ]
     },
     "execution_count": 2,
     "metadata": {},
     "output_type": "execute_result"
    }
   ],
   "source": [
    "# data=pd.read_csv(\"..\\\\Data\\\\model_training\\\\100000_samples_Reviews.csv\")\n",
    "data=pd.read_csv(\"..\\\\..\\\\Data\\\\model_training\\\\100000_samples_giga.csv\", nrows=1000)\n",
    "data[['Text','Summary']]"
   ]
  },
  {
   "cell_type": "code",
   "execution_count": 3,
   "metadata": {},
   "outputs": [
    {
     "data": {
      "text/html": [
       "<div>\n",
       "<style scoped>\n",
       "    .dataframe tbody tr th:only-of-type {\n",
       "        vertical-align: middle;\n",
       "    }\n",
       "\n",
       "    .dataframe tbody tr th {\n",
       "        vertical-align: top;\n",
       "    }\n",
       "\n",
       "    .dataframe thead th {\n",
       "        text-align: right;\n",
       "    }\n",
       "</style>\n",
       "<table border=\"1\" class=\"dataframe\">\n",
       "  <thead>\n",
       "    <tr style=\"text-align: right;\">\n",
       "      <th></th>\n",
       "      <th>Text</th>\n",
       "      <th>Summary</th>\n",
       "    </tr>\n",
       "  </thead>\n",
       "  <tbody>\n",
       "    <tr>\n",
       "      <th>0</th>\n",
       "      <td>this weekend 's group of eight summit in russia may be one of the last chances for the international community to revive stalled world trade talks , prime minister tony blair said wednesday .</td>\n",
       "      <td>britain 's blair says g-# summit may be one of last chances to revive wto talks</td>\n",
       "    </tr>\n",
       "    <tr>\n",
       "      <th>1</th>\n",
       "      <td>one of india 's biggest christian groups tuesday demanded revocation of a death sentence on a ##-year-old boy for insulting islam in pakistan .</td>\n",
       "      <td>indian christian group protests pakistani court ruling</td>\n",
       "    </tr>\n",
       "    <tr>\n",
       "      <th>2</th>\n",
       "      <td>the internet boom is bringing sweeping demographic changes to silicon valley , according to an annual report card for the region , which shows that the number of nonwhite residents surpassed white...</td>\n",
       "      <td>influx of new immigrants found in silicon valley</td>\n",
       "    </tr>\n",
       "    <tr>\n",
       "      <th>3</th>\n",
       "      <td>india 's parliament reopened monday to consider the national budget as opposition parties planned a united attack on the government for failing to control hindu hard-liners who want to build a tem...</td>\n",
       "      <td>budget session of indian parliament opens on a stormy note</td>\n",
       "    </tr>\n",
       "    <tr>\n",
       "      <th>4</th>\n",
       "      <td>taiwan 's small and medium-sized exporters that sign up for or renew &lt;unk&gt; website memberships will be offered discounted dun &amp;amp; bradstreet -lrb- &lt;unk&gt; -rrb- accreditation , the taiwan external...</td>\n",
       "      <td>new &lt;unk&gt; members offered discounted &lt;unk&gt; logos</td>\n",
       "    </tr>\n",
       "    <tr>\n",
       "      <th>...</th>\n",
       "      <td>...</td>\n",
       "      <td>...</td>\n",
       "    </tr>\n",
       "    <tr>\n",
       "      <th>995</th>\n",
       "      <td>a german pop star made a tearful courtroom apology monday for keeping her hiv status a secret from her sexual partners , before being confronted by an ex-lover who contracted the virus .</td>\n",
       "      <td>tearful german pop star confesses in hiv trial</td>\n",
       "    </tr>\n",
       "    <tr>\n",
       "      <th>996</th>\n",
       "      <td>portugal 's government is in talks with trade unions about introducing labor reforms it regards as vital to ease the country 's financial crisis .</td>\n",
       "      <td>portugal eyes labor reforms to ease economic woes</td>\n",
       "    </tr>\n",
       "    <tr>\n",
       "      <th>997</th>\n",
       "      <td>hong kong shares ended modestly lower monday , with the blue-chip hang seng index down ##.## points , or #.# percent , to ##,###.## , after trading between ##,###.## and ##,###.## points during th...</td>\n",
       "      <td>hong kong shares end down jan. ##</td>\n",
       "    </tr>\n",
       "    <tr>\n",
       "      <th>998</th>\n",
       "      <td>china 's military now possesses most of the sophisticated weapon systems found in the arsenals of developed western nations , the country 's defense minister said in comments published monday .</td>\n",
       "      <td>china says military arsenal comparable with west</td>\n",
       "    </tr>\n",
       "    <tr>\n",
       "      <th>999</th>\n",
       "      <td>the spanish state budget posted a july surplus of ###.# billion pesetas -lrb- #.# billion dollars -rrb- , up ##.# percent from the previous july , the economics ministry announced on tuesday .</td>\n",
       "      <td>spanish budget surplus up sharply in july year on year</td>\n",
       "    </tr>\n",
       "  </tbody>\n",
       "</table>\n",
       "<p>1000 rows × 2 columns</p>\n",
       "</div>"
      ],
      "text/plain": [
       "                                                                                                                                                                                                        Text  \\\n",
       "0            this weekend 's group of eight summit in russia may be one of the last chances for the international community to revive stalled world trade talks , prime minister tony blair said wednesday .   \n",
       "1                                                            one of india 's biggest christian groups tuesday demanded revocation of a death sentence on a ##-year-old boy for insulting islam in pakistan .   \n",
       "2    the internet boom is bringing sweeping demographic changes to silicon valley , according to an annual report card for the region , which shows that the number of nonwhite residents surpassed white...   \n",
       "3    india 's parliament reopened monday to consider the national budget as opposition parties planned a united attack on the government for failing to control hindu hard-liners who want to build a tem...   \n",
       "4    taiwan 's small and medium-sized exporters that sign up for or renew <unk> website memberships will be offered discounted dun &amp; bradstreet -lrb- <unk> -rrb- accreditation , the taiwan external...   \n",
       "..                                                                                                                                                                                                       ...   \n",
       "995               a german pop star made a tearful courtroom apology monday for keeping her hiv status a secret from her sexual partners , before being confronted by an ex-lover who contracted the virus .   \n",
       "996                                                       portugal 's government is in talks with trade unions about introducing labor reforms it regards as vital to ease the country 's financial crisis .   \n",
       "997  hong kong shares ended modestly lower monday , with the blue-chip hang seng index down ##.## points , or #.# percent , to ##,###.## , after trading between ##,###.## and ##,###.## points during th...   \n",
       "998        china 's military now possesses most of the sophisticated weapon systems found in the arsenals of developed western nations , the country 's defense minister said in comments published monday .   \n",
       "999         the spanish state budget posted a july surplus of ###.# billion pesetas -lrb- #.# billion dollars -rrb- , up ##.# percent from the previous july , the economics ministry announced on tuesday .   \n",
       "\n",
       "                                                                             Summary  \n",
       "0    britain 's blair says g-# summit may be one of last chances to revive wto talks  \n",
       "1                             indian christian group protests pakistani court ruling  \n",
       "2                                   influx of new immigrants found in silicon valley  \n",
       "3                         budget session of indian parliament opens on a stormy note  \n",
       "4                                   new <unk> members offered discounted <unk> logos  \n",
       "..                                                                               ...  \n",
       "995                                   tearful german pop star confesses in hiv trial  \n",
       "996                                portugal eyes labor reforms to ease economic woes  \n",
       "997                                                hong kong shares end down jan. ##  \n",
       "998                                 china says military arsenal comparable with west  \n",
       "999                           spanish budget surplus up sharply in july year on year  \n",
       "\n",
       "[1000 rows x 2 columns]"
      ]
     },
     "execution_count": 3,
     "metadata": {},
     "output_type": "execute_result"
    }
   ],
   "source": [
    "data.drop_duplicates(subset=['Text'],inplace=True)  #dropping duplicates\n",
    "data.dropna(axis=0,inplace=True)\n",
    "data"
   ]
  },
  {
   "cell_type": "code",
   "execution_count": 4,
   "metadata": {},
   "outputs": [],
   "source": [
    "contraction_mapping = {\"ain't\": \"is not\", \"aren't\": \"are not\",\"can't\": \"cannot\", \"'cause\": \"because\", \"could've\": \"could have\", \"couldn't\": \"could not\",\n",
    "\n",
    "                           \"didn't\": \"did not\", \"doesn't\": \"does not\", \"don't\": \"do not\", \"hadn't\": \"had not\", \"hasn't\": \"has not\", \"haven't\": \"have not\",\n",
    "\n",
    "                           \"he'd\": \"he would\",\"he'll\": \"he will\", \"he's\": \"he is\", \"how'd\": \"how did\", \"how'd'y\": \"how do you\", \"how'll\": \"how will\", \"how's\": \"how is\",\n",
    "\n",
    "                           \"I'd\": \"I would\", \"I'd've\": \"I would have\", \"I'll\": \"I will\", \"I'll've\": \"I will have\",\"I'm\": \"I am\", \"I've\": \"I have\", \"i'd\": \"i would\",\n",
    "\n",
    "                           \"i'd've\": \"i would have\", \"i'll\": \"i will\",  \"i'll've\": \"i will have\",\"i'm\": \"i am\", \"i've\": \"i have\", \"isn't\": \"is not\", \"it'd\": \"it would\",\n",
    "\n",
    "                           \"it'd've\": \"it would have\", \"it'll\": \"it will\", \"it'll've\": \"it will have\",\"it's\": \"it is\", \"let's\": \"let us\", \"ma'am\": \"madam\",\n",
    "\n",
    "                           \"mayn't\": \"may not\", \"might've\": \"might have\",\"mightn't\": \"might not\",\"mightn't've\": \"might not have\", \"must've\": \"must have\",\n",
    "\n",
    "                           \"mustn't\": \"must not\", \"mustn't've\": \"must not have\", \"needn't\": \"need not\", \"needn't've\": \"need not have\",\"o'clock\": \"of the clock\",\n",
    "\n",
    "                           \"oughtn't\": \"ought not\", \"oughtn't've\": \"ought not have\", \"shan't\": \"shall not\", \"sha'n't\": \"shall not\", \"shan't've\": \"shall not have\",\n",
    "\n",
    "                           \"she'd\": \"she would\", \"she'd've\": \"she would have\", \"she'll\": \"she will\", \"she'll've\": \"she will have\", \"she's\": \"she is\",\n",
    "\n",
    "                           \"should've\": \"should have\", \"shouldn't\": \"should not\", \"shouldn't've\": \"should not have\", \"so've\": \"so have\",\"so's\": \"so as\",\n",
    "\n",
    "                           \"this's\": \"this is\",\"that'd\": \"that would\", \"that'd've\": \"that would have\", \"that's\": \"that is\", \"there'd\": \"there would\",\n",
    "\n",
    "                           \"there'd've\": \"there would have\", \"there's\": \"there is\", \"here's\": \"here is\",\"they'd\": \"they would\", \"they'd've\": \"they would have\",\n",
    "\n",
    "                           \"they'll\": \"they will\", \"they'll've\": \"they will have\", \"they're\": \"they are\", \"they've\": \"they have\", \"to've\": \"to have\",\n",
    "\n",
    "                           \"wasn't\": \"was not\", \"we'd\": \"we would\", \"we'd've\": \"we would have\", \"we'll\": \"we will\", \"we'll've\": \"we will have\", \"we're\": \"we are\",\n",
    "\n",
    "                           \"we've\": \"we have\", \"weren't\": \"were not\", \"what'll\": \"what will\", \"what'll've\": \"what will have\", \"what're\": \"what are\",\n",
    "\n",
    "                           \"what's\": \"what is\", \"what've\": \"what have\", \"when's\": \"when is\", \"when've\": \"when have\", \"where'd\": \"where did\", \"where's\": \"where is\",\n",
    "\n",
    "                           \"where've\": \"where have\", \"who'll\": \"who will\", \"who'll've\": \"who will have\", \"who's\": \"who is\", \"who've\": \"who have\",\n",
    "\n",
    "                           \"why's\": \"why is\", \"why've\": \"why have\", \"will've\": \"will have\", \"won't\": \"will not\", \"won't've\": \"will not have\",\n",
    "\n",
    "                           \"would've\": \"would have\", \"wouldn't\": \"would not\", \"wouldn't've\": \"would not have\", \"y'all\": \"you all\",\n",
    "\n",
    "                           \"y'all'd\": \"you all would\",\"y'all'd've\": \"you all would have\",\"y'all're\": \"you all are\",\"y'all've\": \"you all have\",\n",
    "\n",
    "                           \"you'd\": \"you would\", \"you'd've\": \"you would have\", \"you'll\": \"you will\", \"you'll've\": \"you will have\",\n",
    "\n",
    "                           \"you're\": \"you are\", \"you've\": \"you have\"}"
   ]
  },
  {
   "cell_type": "code",
   "execution_count": 5,
   "metadata": {},
   "outputs": [
    {
     "name": "stderr",
     "output_type": "stream",
     "text": [
      "[nltk_data] Downloading package stopwords to\n",
      "[nltk_data]     C:\\Users\\R-k-l\\AppData\\Roaming\\nltk_data...\n",
      "[nltk_data]   Package stopwords is already up-to-date!\n"
     ]
    }
   ],
   "source": [
    "nltk.download('stopwords')\n",
    "stop_words = set(stopwords.words('english')) \n",
    "def text_cleaner(text):\n",
    "    newString = text.lower()\n",
    "    newString = BeautifulSoup(newString, exclude_encodings=\"lxml\").text # removes html/xml taggs\n",
    "    newString = re.sub(r'\\([^)]*\\)', '', newString)\n",
    "    newString = re.sub('\"','', newString)\n",
    "    newString = ' '.join([contraction_mapping[t] if t in contraction_mapping else t for t in newString.split(\" \")])    \n",
    "    newString = re.sub(r\"'s\\b\",\"\",newString)\n",
    "    newString = re.sub(\"[^a-zA-Z]\", \" \", newString) \n",
    "    tokens = [w for w in newString.split() if not w in stop_words]\n",
    "    long_words=[]\n",
    "    for i in tokens:\n",
    "        if len(i)>=3:                  #removing short word\n",
    "            long_words.append(i)   \n",
    "    return (\" \".join(long_words)).strip()\n",
    "\n",
    "cleaned_text = []\n",
    "for t in data['Text']:\n",
    "    cleaned_text.append(text_cleaner(t))"
   ]
  },
  {
   "cell_type": "code",
   "execution_count": 6,
   "metadata": {},
   "outputs": [],
   "source": [
    "def summary_cleaner(text):\n",
    "    newString = re.sub('\"','', text)\n",
    "    newString = ' '.join([contraction_mapping[t] if t in contraction_mapping else t for t in newString.split(\" \")])    \n",
    "    newString = re.sub(r\"'s\\b\",\"\",newString)\n",
    "    newString = re.sub(\"[^a-zA-Z]\", \" \", newString)\n",
    "    newString = newString.lower()\n",
    "    tokens=newString.split()\n",
    "    newString=''\n",
    "    for i in tokens:\n",
    "        if len(i)>1:                                 \n",
    "            newString=newString+i+' '  \n",
    "    return newString\n",
    "\n",
    "#Call the above function\n",
    "cleaned_summary = []\n",
    "for t in data['Summary']:\n",
    "    cleaned_summary.append(summary_cleaner(t))\n",
    "\n",
    "data['cleaned_text']=cleaned_text\n",
    "data['cleaned_summary']=cleaned_summary\n",
    "data['cleaned_summary'].replace('', np.nan, inplace=True)\n",
    "data.dropna(axis=0,inplace=True)"
   ]
  },
  {
   "cell_type": "code",
   "execution_count": 7,
   "metadata": {},
   "outputs": [],
   "source": [
    "data['cleaned_summary'] = data['cleaned_summary'].apply(lambda x : '_START_ '+ x + ' _END_')"
   ]
  },
  {
   "cell_type": "code",
   "execution_count": 8,
   "metadata": {},
   "outputs": [
    {
     "name": "stdout",
     "output_type": "stream",
     "text": [
      "Review: weekend group eight summit russia may one last chances international community revive stalled world trade talks prime minister tony blair said wednesday\n",
      "Summary: _START_ britain blair says summit may be one of last chances to revive wto talks  _END_\n",
      "\n",
      "\n",
      "Review: one india biggest christian groups tuesday demanded revocation death sentence year old boy insulting islam pakistan\n",
      "Summary: _START_ indian christian group protests pakistani court ruling  _END_\n",
      "\n",
      "\n",
      "Review: internet boom bringing sweeping demographic changes silicon valley according annual report card region shows number nonwhite residents surpassed whites first time\n",
      "Summary: _START_ influx of new immigrants found in silicon valley  _END_\n",
      "\n",
      "\n",
      "Review: india parliament reopened monday consider national budget opposition parties planned united attack government failing control hindu hard liners want build temple disputed site demolished mosque\n",
      "Summary: _START_ budget session of indian parliament opens on stormy note  _END_\n",
      "\n",
      "\n",
      "Review: taiwan small medium sized exporters sign renew website memberships offered discounted dun bradstreet lrb rrb accreditation taiwan external trade development council lrb taitra rrb said monday\n",
      "Summary: _START_ new unk members offered discounted unk logos  _END_\n",
      "\n",
      "\n"
     ]
    }
   ],
   "source": [
    "for i in range(5):\n",
    "    print(\"Review:\",data['cleaned_text'][i])\n",
    "    print(\"Summary:\",data['cleaned_summary'][i])\n",
    "    print(\"\\n\")"
   ]
  },
  {
   "cell_type": "code",
   "execution_count": 12,
   "metadata": {},
   "outputs": [
    {
     "data": {
      "image/png": "[encoded data removed]",
      "text/plain": [
       "<Figure size 432x288 with 2 Axes>"
      ]
     },
     "metadata": {
      "needs_background": "light"
     },
     "output_type": "display_data"
    }
   ],
   "source": [
    "import matplotlib.pyplot as plt\n",
    "%matplotlib inline\n",
    "text_word_count = []\n",
    "summary_word_count = []\n",
    "for i in data['cleaned_text']:\n",
    "      text_word_count.append(len(i.split()))\n",
    "\n",
    "for i in data['cleaned_summary']:\n",
    "      summary_word_count.append(len(i.split()))\n",
    "\n",
    "length_df = pd.DataFrame({'text':text_word_count, 'summary':summary_word_count})\n",
    "length_df.hist(bins = 30)\n",
    "plt.show()"
   ]
  },
  {
   "cell_type": "code",
   "execution_count": 13,
   "metadata": {},
   "outputs": [],
   "source": [
    "max_len_text=30\n",
    "max_len_summary=15\n",
    "from sklearn.model_selection import train_test_split\n",
    "x_tr,x_val,y_tr,y_val=train_test_split(data['cleaned_text'],data['cleaned_summary'],test_size=0.1,random_state=0,shuffle=True)"
   ]
  },
  {
   "cell_type": "code",
   "execution_count": 14,
   "metadata": {
    "scrolled": true
   },
   "outputs": [
    {
     "data": {
      "text/plain": [
       "'blue chip share prices fell wall street week amid continued interest rate jitters recovered somewhat friday report showing modest job creation september'"
      ]
     },
     "execution_count": 14,
     "metadata": {},
     "output_type": "execute_result"
    }
   ],
   "source": [
    "x_tr.iloc[0]"
   ]
  },
  {
   "cell_type": "code",
   "execution_count": 15,
   "metadata": {},
   "outputs": [
    {
     "data": {
      "text/plain": [
       "'_START_ wall street slides on good economic news  _END_'"
      ]
     },
     "execution_count": 15,
     "metadata": {},
     "output_type": "execute_result"
    }
   ],
   "source": [
    "y_tr.iloc[0]"
   ]
  },
  {
   "cell_type": "code",
   "execution_count": 16,
   "metadata": {},
   "outputs": [
    {
     "name": "stdout",
     "output_type": "stream",
     "text": [
      "x_tr[0] sequences: [565, 935, 268, 88, 226, 452, 453, 41, 171, 454, 455, 203, 2324, 1364, 2325, 5, 172, 708, 1365, 936, 709, 566]\n",
      "x_tr[0] padded sequences: [ 565  935  268   88  226  452  453   41  171  454  455  203 2324 1364\n",
      " 2325    5  172  708 1365  936  709  566    0    0    0    0    0    0\n",
      "    0    0]\n",
      "x_voc_size: 5741\n"
     ]
    }
   ],
   "source": [
    "#prepare a tokenizer for reviews on training data\n",
    "x_tokenizer = Tokenizer()\n",
    "x_tokenizer.fit_on_texts(list(x_tr))\n",
    "\n",
    "#convert text sequences into integer sequences\n",
    "x_tr    =   x_tokenizer.texts_to_sequences(x_tr) \n",
    "x_val   =   x_tokenizer.texts_to_sequences(x_val)\n",
    "print('x_tr[0] sequences:',x_tr[0])\n",
    "#padding zero upto maximum length\n",
    "x_tr    =   pad_sequences(x_tr,  maxlen=max_len_text, padding='post') \n",
    "x_val   =   pad_sequences(x_val, maxlen=max_len_text, padding='post')\n",
    "print('x_tr[0] padded sequences:', x_tr[0])\n",
    "\n",
    "x_voc_size   =  len(x_tokenizer.word_index) +1\n",
    "print('x_voc_size:',x_voc_size)"
   ]
  },
  {
   "cell_type": "code",
   "execution_count": 17,
   "metadata": {},
   "outputs": [
    {
     "name": "stdout",
     "output_type": "stream",
     "text": [
      "y_tr[0] sequences: [2, 181, 250, 1006, 7, 564, 366, 45, 1]\n",
      "y_tr[0] padded sequences: [   2  181  250 1006    7  564  366   45    1    0    0    0    0    0\n",
      "    0]\n",
      "y_voc_size: 3047\n"
     ]
    }
   ],
   "source": [
    "#preparing a tokenizer for summary on training data\n",
    "y_tokenizer = Tokenizer()\n",
    "y_tokenizer.fit_on_texts(list(y_tr))\n",
    "\n",
    "#convert summary sequences into integer sequences\n",
    "y_tr    =   y_tokenizer.texts_to_sequences(y_tr) \n",
    "y_val   =   y_tokenizer.texts_to_sequences(y_val) \n",
    "print('y_tr[0] sequences:', y_tr[0])\n",
    "\n",
    "#padding zero upto maximum length\n",
    "y_tr    =   pad_sequences(y_tr, maxlen=max_len_summary, padding='post')\n",
    "y_val   =   pad_sequences(y_val, maxlen=max_len_summary, padding='post')\n",
    "print('y_tr[0] padded sequences:', y_tr[0])\n",
    "\n",
    "y_voc_size  =   len(y_tokenizer.word_index) +1\n",
    "print('y_voc_size:',y_voc_size)"
   ]
  },
  {
   "cell_type": "code",
   "execution_count": 18,
   "metadata": {},
   "outputs": [
    {
     "name": "stdout",
     "output_type": "stream",
     "text": [
      "Found 400000 word vectors.\n"
     ]
    }
   ],
   "source": [
    "glove_dir='..\\\\..\\\\Data\\\\word_embeddings'\n",
    "glove_dimension=200\n",
    "embeddings_index = {}\n",
    "with open(os.path.join(glove_dir, 'glove.6B.'+str(glove_dimension)+'d.txt'), encoding=\"utf8\") as f:\n",
    "    for line in f:\n",
    "        values = line.split()\n",
    "        word = values[0]\n",
    "        coefs = np.asarray(values[1:], dtype='float32')\n",
    "        embeddings_index[word] = coefs\n",
    "    f.close()\n",
    "\n",
    "print('Found %s word vectors.' % len(embeddings_index))"
   ]
  },
  {
   "cell_type": "code",
   "execution_count": 19,
   "metadata": {},
   "outputs": [
    {
     "data": {
      "text/plain": [
       "[('the',\n",
       "  array([-7.1549e-02,  9.3459e-02,  2.3738e-02, -9.0339e-02,  5.6123e-02,\n",
       "          3.2547e-01, -3.9796e-01, -9.2139e-02,  6.1181e-02, -1.8950e-01,\n",
       "          1.3061e-01,  1.4349e-01,  1.1479e-02,  3.8158e-01,  5.4030e-01,\n",
       "         -1.4088e-01,  2.4315e-01,  2.3036e-01, -5.5339e-01,  4.8154e-02,\n",
       "          4.5662e-01,  3.2338e+00,  2.0199e-02,  4.9019e-02, -1.4132e-02,\n",
       "          7.6017e-02, -1.1527e-01,  2.0060e-01, -7.7657e-02,  2.4328e-01,\n",
       "          1.6368e-01, -3.4118e-01, -6.6070e-02,  1.0152e-01,  3.8232e-02,\n",
       "         -1.7668e-01, -8.8153e-01, -3.3895e-01, -3.5481e-02, -5.5095e-01,\n",
       "         -1.6899e-02, -4.3982e-01,  3.9004e-02,  4.0447e-01, -2.5880e-01,\n",
       "          6.4594e-01,  2.6641e-01,  2.8009e-01, -2.4625e-02,  6.3302e-01,\n",
       "         -3.1700e-01,  1.0271e-01,  3.0886e-01,  9.7792e-02, -3.8227e-01,\n",
       "          8.6552e-02,  4.7075e-02,  2.3511e-01, -3.2127e-01, -2.8538e-01,\n",
       "          1.6670e-01, -4.9707e-03, -6.2714e-01, -2.4904e-01,  2.9713e-01,\n",
       "          1.4379e-01, -1.2325e-01, -5.8178e-02, -1.0290e-03, -8.2126e-02,\n",
       "          3.6935e-01, -5.8442e-04,  3.4286e-01,  2.8426e-01, -6.8599e-02,\n",
       "          6.5747e-01, -2.9087e-02,  1.6184e-01,  7.3672e-02, -3.0343e-01,\n",
       "          9.5733e-02, -5.2860e-01, -2.2898e-01,  6.4079e-02,  1.5218e-02,\n",
       "          3.4921e-01, -4.3960e-01, -4.3983e-01,  7.7515e-01, -8.7767e-01,\n",
       "         -8.7504e-02,  3.9598e-01,  6.2362e-01, -2.6211e-01, -3.0539e-01,\n",
       "         -2.2964e-02,  3.0567e-01,  6.7660e-02,  1.5383e-01, -1.1211e-01,\n",
       "         -9.1540e-02,  8.2562e-02,  1.6897e-01, -3.2952e-02, -2.8775e-01,\n",
       "         -2.2320e-01, -9.0426e-02,  1.2407e+00, -1.8244e-01, -7.5219e-03,\n",
       "         -4.1388e-02, -1.1083e-02,  7.8186e-02,  3.8511e-01,  2.3334e-01,\n",
       "          1.4414e-01, -9.1070e-04, -2.6388e-01, -2.0481e-01,  1.0099e-01,\n",
       "          1.4076e-01,  2.8834e-01, -4.5429e-02,  3.7247e-01,  1.3645e-01,\n",
       "         -6.7457e-01,  2.2786e-01,  1.2599e-01,  2.9091e-02,  3.0428e-02,\n",
       "         -1.3028e-01,  1.9408e-01,  4.9014e-01, -3.9121e-01, -7.5952e-02,\n",
       "          7.4731e-02,  1.8902e-01, -1.6922e-01, -2.6019e-01, -3.9771e-02,\n",
       "         -2.4153e-01,  1.0875e-01,  3.0434e-01,  3.6009e-02,  1.4264e+00,\n",
       "          1.2759e-01, -7.3811e-02, -2.0418e-01,  8.0016e-03,  1.5381e-01,\n",
       "          2.0223e-01,  2.8274e-01,  9.6206e-02, -3.3634e-01,  5.0983e-01,\n",
       "          3.2625e-01, -2.6535e-01,  3.7400e-01, -3.0388e-01, -4.0033e-01,\n",
       "         -4.2910e-02, -6.7897e-02, -2.9332e-01,  1.0978e-01, -4.5365e-02,\n",
       "          2.3222e-01, -3.1134e-01, -2.8983e-01, -6.6687e-01,  5.3097e-01,\n",
       "          1.9461e-01,  3.6670e-01,  2.6185e-01, -6.5187e-01,  1.0266e-01,\n",
       "          1.1363e-01, -1.2953e-01, -6.8246e-01, -1.8751e-01,  1.4760e-01,\n",
       "          1.0765e+00, -2.2908e-01, -9.3435e-03, -2.0651e-01, -3.5225e-01,\n",
       "         -2.6720e-01, -3.4307e-03,  2.5906e-01,  2.1759e-01,  6.6158e-01,\n",
       "          1.2180e-01,  1.9957e-01, -2.0303e-01,  3.4474e-01, -2.4328e-01,\n",
       "          1.3139e-01, -8.8767e-03,  3.3617e-01,  3.0591e-02,  2.5577e-01],\n",
       "        dtype=float32))]"
      ]
     },
     "execution_count": 19,
     "metadata": {},
     "output_type": "execute_result"
    }
   ],
   "source": [
    "from itertools import islice\n",
    "list(islice(embeddings_index.items(), 1))"
   ]
  },
  {
   "cell_type": "code",
   "execution_count": 20,
   "metadata": {},
   "outputs": [
    {
     "name": "stdout",
     "output_type": "stream",
     "text": [
      "True\n",
      "5740\n"
     ]
    },
    {
     "data": {
      "text/plain": [
       "[('said', 1), ('tuesday', 2), ('thursday', 3), ('wednesday', 4)]"
      ]
     },
     "execution_count": 20,
     "metadata": {},
     "output_type": "execute_result"
    }
   ],
   "source": [
    "print(x_voc_size == len(x_tokenizer.word_index)+1)\n",
    "word_index = x_tokenizer.word_index\n",
    "print(len(word_index))\n",
    "list(islice(word_index.items(), 4))"
   ]
  },
  {
   "cell_type": "code",
   "execution_count": 21,
   "metadata": {},
   "outputs": [
    {
     "data": {
      "text/plain": [
       "(5741, 200)"
      ]
     },
     "execution_count": 21,
     "metadata": {},
     "output_type": "execute_result"
    }
   ],
   "source": [
    "# vocab_size_to_keep = 30000\n",
    "# word_index_subset = list(islice(word_index.items(), vocab_size_to_keep))\n",
    "embedding_matrix = np.zeros((len(word_index) + 1, glove_dimension))\n",
    "for word, i in word_index.items():\n",
    "    embedding_vector = embeddings_index.get(word)\n",
    "    if embedding_vector is not None:\n",
    "        embedding_matrix[i] = embedding_vector\n",
    "embedding_matrix.shape"
   ]
  },
  {
   "cell_type": "code",
   "execution_count": 22,
   "metadata": {},
   "outputs": [
    {
     "data": {
      "text/plain": [
       "array([[ 0.        ,  0.        ,  0.        , ...,  0.        ,\n",
       "         0.        ,  0.        ],\n",
       "       [-0.13569   ,  0.14029001,  0.0041988 , ...,  0.0087948 ,\n",
       "        -0.13017   , -0.25626001],\n",
       "       [-0.51305997,  0.84114999, -0.29861999, ..., -0.34676   ,\n",
       "        -0.12711   ,  0.070432  ],\n",
       "       ...,\n",
       "       [-0.68154001, -0.21574999, -0.23094   , ...,  0.40803   ,\n",
       "        -0.27726999,  0.53696001],\n",
       "       [-0.41299999,  0.66299999,  0.1503    , ...,  0.72470999,\n",
       "         0.44069999,  0.16667999],\n",
       "       [-0.27706   ,  0.11976   , -0.11074   , ..., -0.35699999,\n",
       "        -0.057221  , -0.46768999]])"
      ]
     },
     "execution_count": 22,
     "metadata": {},
     "output_type": "execute_result"
    }
   ],
   "source": [
    "# list(islice(embedding_matrix.items(), 4))\n",
    "embedding_matrix"
   ]
  },
  {
   "cell_type": "code",
   "execution_count": 36,
   "metadata": {},
   "outputs": [
    {
     "name": "stdout",
     "output_type": "stream",
     "text": [
      "Model: \"model\"\n",
      "__________________________________________________________________________________________________\n",
      "Layer (type)                    Output Shape         Param #     Connected to                     \n",
      "==================================================================================================\n",
      "input_1 (InputLayer)            [(None, 30)]         0                                            \n",
      "__________________________________________________________________________________________________\n",
      "embedding (Embedding)           (None, 30, 200)      1148200     input_1[0][0]                    \n",
      "__________________________________________________________________________________________________\n",
      "lstm (LSTM)                     [(None, 30, 400), (N 961600      embedding[0][0]                  \n",
      "__________________________________________________________________________________________________\n",
      "input_2 (InputLayer)            [(None, None)]       0                                            \n",
      "__________________________________________________________________________________________________\n",
      "lstm_1 (LSTM)                   [(None, 30, 400), (N 1281600     lstm[0][0]                       \n",
      "__________________________________________________________________________________________________\n",
      "embedding_1 (Embedding)         (None, None, 200)    1148200     input_2[0][0]                    \n",
      "__________________________________________________________________________________________________\n",
      "lstm_2 (LSTM)                   [(None, 30, 400), (N 1281600     lstm_1[0][0]                     \n",
      "__________________________________________________________________________________________________\n",
      "lstm_3 (LSTM)                   [(None, None, 400),  961600      embedding_1[0][0]                \n",
      "                                                                 lstm_2[0][1]                     \n",
      "                                                                 lstm_2[0][2]                     \n",
      "__________________________________________________________________________________________________\n",
      "attention_layer (AttentionLayer ((None, None, 400),  320400      lstm_2[0][0]                     \n",
      "                                                                 lstm_3[0][0]                     \n",
      "__________________________________________________________________________________________________\n",
      "concat_layer (Concatenate)      (None, None, 800)    0           lstm_3[0][0]                     \n",
      "                                                                 attention_layer[0][0]            \n",
      "__________________________________________________________________________________________________\n",
      "time_distributed (TimeDistribut (None, None, 3047)   2440647     concat_layer[0][0]               \n",
      "==================================================================================================\n",
      "Total params: 9,543,847\n",
      "Trainable params: 7,247,447\n",
      "Non-trainable params: 2,296,400\n",
      "__________________________________________________________________________________________________\n"
     ]
    },
    {
     "data": {
      "image/png": "[encoded data removed]",
      "text/plain": [
       "<IPython.core.display.Image object>"
      ]
     },
     "execution_count": 36,
     "metadata": {},
     "output_type": "execute_result"
    }
   ],
   "source": [
    "from attention import AttentionLayer\n",
    "from keras import backend as K\n",
    "K.clear_session()\n",
    "latent_dim = 400\n",
    "\n",
    "# Encoder \n",
    "encoder_inputs = Input(shape=(max_len_text,))\n",
    "enc_emb = Embedding(x_voc_size, glove_dimension, \n",
    "                    weights=[embedding_matrix],input_length=max_len_text, trainable=False)(encoder_inputs) \n",
    "\n",
    "#LSTM 1 \n",
    "encoder_lstm1 = LSTM(latent_dim,return_sequences=True,return_state=True) \n",
    "encoder_output1, state_h1, state_c1 = encoder_lstm1(enc_emb) \n",
    "\n",
    "#LSTM 2 \n",
    "encoder_lstm2 = LSTM(latent_dim,return_sequences=True,return_state=True) \n",
    "encoder_output2, state_h2, state_c2 = encoder_lstm2(encoder_output1) \n",
    "\n",
    "#LSTM 3 \n",
    "encoder_lstm3=LSTM(latent_dim, return_state=True, return_sequences=True) \n",
    "encoder_outputs, state_h, state_c= encoder_lstm3(encoder_output2) \n",
    "\n",
    "# Set up the decoder. \n",
    "decoder_inputs = Input(shape=(None,)) \n",
    "dec_emb_layer = Embedding(x_voc_size, glove_dimension, \n",
    "                          weights=[embedding_matrix],input_length=max_len_text, trainable=False) \n",
    "\n",
    "dec_emb = dec_emb_layer(decoder_inputs) \n",
    "\n",
    "#LSTM using encoder_states as initial state\n",
    "decoder_lstm = LSTM(latent_dim, return_sequences=True, return_state=True) \n",
    "decoder_outputs,decoder_fwd_state, decoder_back_state = decoder_lstm(dec_emb,initial_state=[state_h, state_c]) \n",
    "\n",
    "#Attention Layer\n",
    "attn_layer = AttentionLayer(name='attention_layer') \n",
    "attn_out, attn_states = attn_layer([encoder_outputs, decoder_outputs]) \n",
    "\n",
    "# Concat attention output and decoder LSTM output \n",
    "decoder_concat_input = Concatenate(axis=-1, name='concat_layer')([decoder_outputs, attn_out])\n",
    "\n",
    "#Dense layer\n",
    "decoder_dense = TimeDistributed(Dense(y_voc_size, activation='softmax'))\n",
    "decoder_outputs = decoder_dense(decoder_concat_input)\n",
    "\n",
    "# Define the model\n",
    "model = Model([encoder_inputs, decoder_inputs], decoder_outputs)\n",
    "model.summary()\n",
    "# plot the model\n",
    "import os\n",
    "os.environ[\"PATH\"] += os.pathsep + 'C:/Program Files (x86)/Graphviz2.38/bin/'\n",
    "import tensorflow as tf\n",
    "tf.keras.utils.plot_model(model, to_file='model.png', show_shapes=True)"
   ]
  },
  {
   "cell_type": "markdown",
   "metadata": {},
   "source": [
    "## If the model needs to be trained again,"
   ]
  },
  {
   "cell_type": "code",
   "execution_count": 37,
   "metadata": {},
   "outputs": [
    {
     "name": "stdout",
     "output_type": "stream",
     "text": [
      "Train on 900 samples, validate on 100 samples\n",
      "Epoch 1/20\n",
      "900/900 [==============================] - 76s 84ms/sample - loss: 5.8590 - val_loss: 3.2924\n",
      "Epoch 2/20\n",
      "900/900 [==============================] - 46s 51ms/sample - loss: 4.5036 - val_loss: 3.2209\n",
      "Epoch 3/20\n",
      "900/900 [==============================] - 49s 55ms/sample - loss: 4.3933 - val_loss: 3.4276\n",
      "Epoch 00003: early stopping\n"
     ]
    }
   ],
   "source": [
    "model.compile(optimizer='rmsprop', loss='sparse_categorical_crossentropy')\n",
    "es = EarlyStopping(monitor='val_loss', mode='min', verbose=1)\n",
    "history=model.fit([x_tr,y_tr[:,:-1]], \n",
    "                  y_tr.reshape(y_tr.shape[0],y_tr.shape[1], 1)[:,1:],\n",
    "                  epochs=20,\n",
    "                  callbacks=[es],\n",
    "                  batch_size=128,\n",
    "                  validation_data=([x_val,y_val[:,:-1]],\n",
    "                  y_val.reshape(y_val.shape[0],y_val.shape[1], 1)[:,1:]))"
   ]
  },
  {
   "cell_type": "code",
   "execution_count": 39,
   "metadata": {},
   "outputs": [
    {
     "data": {
      "image/png": "[encoded data removed]",
      "text/plain": [
       "<Figure size 432x288 with 1 Axes>"
      ]
     },
     "metadata": {
      "needs_background": "light"
     },
     "output_type": "display_data"
    }
   ],
   "source": [
    "from matplotlib import pyplot \n",
    "pyplot.plot(history.history['loss'], label='train') \n",
    "pyplot.plot(history.history['val_loss'], label='test') \n",
    "pyplot.legend() \n",
    "pyplot.show()"
   ]
  },
  {
   "cell_type": "markdown",
   "metadata": {},
   "source": [
    "## Once trained well (100,000+ samples with many epochs), save model WEIGHTS into a .h5 file to use for later. H5 files are in the .gitignore due to their size. "
   ]
  },
  {
   "cell_type": "code",
   "execution_count": 38,
   "metadata": {},
   "outputs": [
    {
     "name": "stdout",
     "output_type": "stream",
     "text": [
      "Saved model to disk\n"
     ]
    }
   ],
   "source": [
    "# serialize weights to HDF5\n",
    "model.save_weights(\"model_gigaword.h5\")\n",
    "print(\"Saved model to disk\")"
   ]
  },
  {
   "cell_type": "code",
   "execution_count": 40,
   "metadata": {},
   "outputs": [],
   "source": [
    "model.load_weights('model.h5')"
   ]
  },
  {
   "cell_type": "code",
   "execution_count": 41,
   "metadata": {},
   "outputs": [],
   "source": [
    "reverse_target_word_index=y_tokenizer.index_word \n",
    "reverse_source_word_index=x_tokenizer.index_word \n",
    "target_word_index=y_tokenizer.word_index"
   ]
  },
  {
   "cell_type": "code",
   "execution_count": 42,
   "metadata": {},
   "outputs": [
    {
     "data": {
      "image/png": "[encoded data removed]",
      "text/plain": [
       "<IPython.core.display.Image object>"
      ]
     },
     "execution_count": 42,
     "metadata": {},
     "output_type": "execute_result"
    }
   ],
   "source": [
    "# encoder inference\n",
    "encoder_model = Model(inputs=encoder_inputs,outputs=[encoder_outputs, state_h, state_c])\n",
    "tf.keras.utils.plot_model(encoder_model, to_file='model.png', show_shapes=True)"
   ]
  },
  {
   "cell_type": "code",
   "execution_count": 43,
   "metadata": {},
   "outputs": [
    {
     "data": {
      "image/png": "[encoded data removed]",
      "text/plain": [
       "<IPython.core.display.Image object>"
      ]
     },
     "execution_count": 43,
     "metadata": {},
     "output_type": "execute_result"
    }
   ],
   "source": [
    "# decoder inference\n",
    "# Below tensors will hold the states of the previous time step\n",
    "decoder_state_input_h = Input(shape=(latent_dim,))\n",
    "decoder_state_input_c = Input(shape=(latent_dim,))\n",
    "decoder_hidden_state_input = Input(shape=(max_len_text,latent_dim))\n",
    "\n",
    "# Get the embeddings of the decoder sequence\n",
    "dec_emb2= dec_emb_layer(decoder_inputs)\n",
    "\n",
    "# To predict the next word in the sequence, set the initial states to the states from the previous time step\n",
    "decoder_outputs2, state_h2, state_c2 = decoder_lstm(dec_emb2, initial_state=[decoder_state_input_h, decoder_state_input_c])\n",
    "\n",
    "#attention inference\n",
    "attn_out_inf, attn_states_inf = attn_layer([decoder_hidden_state_input, decoder_outputs2])\n",
    "decoder_inf_concat = Concatenate(axis=-1, name='concat')([decoder_outputs2, attn_out_inf])\n",
    "\n",
    "# A dense softmax layer to generate prob dist. over the target vocabulary\n",
    "decoder_outputs2 = decoder_dense(decoder_inf_concat)\n",
    "\n",
    "# Final decoder model\n",
    "decoder_model = Model(\n",
    "[decoder_inputs] + [decoder_hidden_state_input,decoder_state_input_h, decoder_state_input_c],\n",
    "[decoder_outputs2] + [state_h2, state_c2])\n",
    "tf.keras.utils.plot_model(decoder_model, to_file='model.png', show_shapes=True)"
   ]
  },
  {
   "cell_type": "code",
   "execution_count": 44,
   "metadata": {},
   "outputs": [],
   "source": [
    "def decode_sequence(input_seq):\n",
    "    # Encode the input as state vectors.\n",
    "    e_out, e_h, e_c = encoder_model.predict(input_seq)\n",
    "    # print('input_seq: {}, e_out: {} '.format(input_seq,e_out))\n",
    "    # Generate empty target sequence of length 1.\n",
    "    target_seq = np.zeros((1,1))\n",
    "\n",
    "    # Chose the 'start' word as the first word of the target sequence\n",
    "    target_seq[0, 0] = target_word_index['start']\n",
    "\n",
    "    stop_condition = False\n",
    "    decoded_sentence = ''\n",
    "    while not stop_condition:\n",
    "        output_tokens, h, c = decoder_model.predict([target_seq] + [e_out, e_h, e_c])\n",
    "\n",
    "        # Sample a token\n",
    "        sampled_token_index = np.argmax(output_tokens[0, -1, :])\n",
    "        sampled_token = reverse_target_word_index[sampled_token_index]\n",
    "        # print(\"sampled_token:\",sampled_token)\n",
    "        if(sampled_token!='end'):\n",
    "            decoded_sentence += ' '+sampled_token\n",
    "\n",
    "            # Exit condition: either hit max length or find stop word.\n",
    "        if (sampled_token == 'end' or len(decoded_sentence.split()) >= (max_len_summary-1)):\n",
    "                stop_condition = True\n",
    "\n",
    "        # Update the target sequence (of length 1).\n",
    "        target_seq = np.zeros((1,1))\n",
    "        target_seq[0, 0] = sampled_token_index\n",
    "        # stop_condition = True\n",
    "        # Update internal states\n",
    "        e_h, e_c = h, c\n",
    "\n",
    "    return decoded_sentence"
   ]
  },
  {
   "cell_type": "code",
   "execution_count": 45,
   "metadata": {},
   "outputs": [],
   "source": [
    "def seq2summary(input_seq):\n",
    "    newString=''\n",
    "    for i in input_seq:\n",
    "        if((i!=0 and i!=target_word_index['start']) and i!=target_word_index['end']):\n",
    "            newString=newString+reverse_target_word_index[i]+' '\n",
    "    return newString\n",
    "\n",
    "def seq2text(input_seq):\n",
    "    newString=''\n",
    "    for i in input_seq:\n",
    "        if(i!=0):\n",
    "            newString=newString+reverse_source_word_index[i]+' '\n",
    "    return newString"
   ]
  },
  {
   "cell_type": "code",
   "execution_count": 46,
   "metadata": {
    "scrolled": false
   },
   "outputs": [
    {
     "name": "stdout",
     "output_type": "stream",
     "text": [
      "Review: hopes ice hockey season could still tuesday even though national hockey league board rejected latest contract proposal hours talks \n",
      "Original summary: to final contract offer \n",
      "Predicted summary:  of of of in in\n",
      "\n",
      "\n",
      "Review: bomb exploded outdoor concert belarus capital early friday morning injuring dozens three second device found later area according authorities \n",
      "Original summary: blast at injures dozens in \n",
      "Predicted summary:  of of of in in\n",
      "\n",
      "\n",
      "Review: another opening day near red sox fans certain knows heat owners \n",
      "Original summary: opening \n",
      "Predicted summary:  of of of in in\n",
      "\n",
      "\n",
      "Review: one thing certain democratic presidential john tap sen john running win points business community \n",
      "Original summary: plays better consumer than corporate leaders \n",
      "Predicted summary:  of of of in in\n",
      "\n",
      "\n",
      "Review: cote ivoire requested united nations increase presence country additional unit peacekeepers burkina faso security ahead country presidential elections world body said tuesday \n",
      "Original summary: cote ivoire requests more un peacekeepers ahead of presidential elections \n",
      "Predicted summary:  of of of in in\n",
      "\n",
      "\n",
      "Review: canadian run saturday auto parts company conservative financial \n",
      "Original summary: canadian parts big on horse racing looking \n",
      "Predicted summary:  of of of in in\n",
      "\n",
      "\n",
      "Review: ibm corp built across line adding new momentum standard far gained acceptance \n",
      "Original summary: ibm more built in \n",
      "Predicted summary:  of of of in in\n",
      "\n",
      "\n",
      "Review: eight iranian banned two sport testing positive doping state run television reported tuesday \n",
      "Original summary: nine coach banned from sport over doping \n",
      "Predicted summary:  of of of in in\n",
      "\n",
      "\n",
      "Review: london stocks plummeted friday share index gave points percent end points \n",
      "Original summary: london stocks percent \n",
      "Predicted summary:  of of of in in\n",
      "\n",
      "\n",
      "Review: attorney cheryl says work free \n",
      "Original summary: lawyers offer free service \n",
      "Predicted summary:  of of of in in\n",
      "\n",
      "\n",
      "Review: relations strengthen future hanoi continues along economic reform sen john prisoner war said thursday \n",
      "Original summary: on vietnam relations during first visit back in two years \n",
      "Predicted summary:  of of of in in\n",
      "\n",
      "\n",
      "Review: minister foreign affairs take responsibility diplomatic relations taiwan chad although believes ministry damage incident ministry official said monday \n",
      "Original summary: has damage from cutting of unk ties \n",
      "Predicted summary:  of of of in in\n",
      "\n",
      "\n",
      "Review: winds charged electricity speed across sun per hour lrb hour rrb announced wednesday \n",
      "Original summary: unk winds \n",
      "Predicted summary:  of of of in in\n",
      "\n",
      "\n",
      "Review: czech prime minister designate sunday said would present cabinet line friday raising prospect end three month political elections \n",
      "Original summary: czech pm says will name cabinet on friday \n",
      "Predicted summary:  of of of in in\n",
      "\n",
      "\n",
      "Review: said wanted come boston celtics quite ready \n",
      "Original summary: help but there no big \n",
      "Predicted summary:  of of of in in\n",
      "\n",
      "\n",
      "Review: prime minister thursday said priority georgia foreign policy relations russia news agency reported \n",
      "Original summary: georgia to relations with russia \n",
      "Predicted summary:  of of of in in\n",
      "\n",
      "\n",
      "Review: hong kong unemployment rate rate period february dropped percent percent government spokesman said today \n",
      "Original summary: hk unemployment rate drops \n",
      "Predicted summary:  of of of in in\n",
      "\n",
      "\n",
      "Review: commissioner tuesday romania new law restricting possibility romanian children \n",
      "Original summary: eu unk romania on new law \n",
      "Predicted summary:  of of of in in\n",
      "\n",
      "\n",
      "Review: europe needs efforts tackle current financial crisis commission president said wednesday major banking bailout balance \n",
      "Original summary: eu calls for global to credit crisis \n",
      "Predicted summary:  of of of in in\n",
      "\n",
      "\n",
      "Review: leaders ruling league main opposition bangladesh party lrb rrb started talks tuesday end parliament start winter session \n",
      "Original summary: bangladesh government opposition talks to parliament \n",
      "Predicted summary:  of of of in in\n",
      "\n",
      "\n"
     ]
    }
   ],
   "source": [
    "for i in range(20):\n",
    "    print(\"Review:\",seq2text(x_val[i]))\n",
    "    print(\"Original summary:\",seq2summary(y_val[i]))\n",
    "    print(\"Predicted summary:\",decode_sequence(x_val[i].reshape(1,max_len_text)))\n",
    "    print(\"\\n\")"
   ]
  },
  {
   "cell_type": "markdown",
   "metadata": {},
   "source": [
    "# Rouge scores"
   ]
  },
  {
   "cell_type": "code",
   "execution_count": 47,
   "metadata": {},
   "outputs": [],
   "source": [
    "from __future__ import division\n",
    "from itertools import chain\n",
    "\n",
    "\n",
    "def get_unigram_count(tokens):\n",
    "    count_dict = dict()\n",
    "    for t in tokens:\n",
    "        if t in count_dict:\n",
    "            count_dict[t] += 1\n",
    "        else:\n",
    "            count_dict[t] = 1\n",
    "\n",
    "    return count_dict\n",
    "\n",
    "\n",
    "class Rouge:\n",
    "    beta = 1\n",
    "\n",
    "    @staticmethod\n",
    "    def my_lcs_grid(x, y):\n",
    "        n = len(x)\n",
    "        m = len(y)\n",
    "\n",
    "        table = [[0 for i in range(m + 1)] for j in range(n + 1)]\n",
    "\n",
    "        for j in range(m + 1):\n",
    "            for i in range(n + 1):\n",
    "                if i == 0 or j == 0:\n",
    "                    cell = (0, 'e')\n",
    "                elif x[i - 1] == y[j - 1]:\n",
    "                    cell = (table[i - 1][j - 1][0] + 1, '\\\\')\n",
    "                else:\n",
    "                    over = table[i - 1][j][0]\n",
    "                    left = table[i][j - 1][0]\n",
    "\n",
    "                    if left < over:\n",
    "                        cell = (over, '^')\n",
    "                    else:\n",
    "                        cell = (left, '<')\n",
    "\n",
    "                table[i][j] = cell\n",
    "\n",
    "        return table\n",
    "\n",
    "    @staticmethod\n",
    "    def my_lcs(x, y, mask_x):\n",
    "        table = Rouge.my_lcs_grid(x, y)\n",
    "        i = len(x)\n",
    "        j = len(y)\n",
    "\n",
    "        while i > 0 and j > 0:\n",
    "            move = table[i][j][1]\n",
    "            if move == '\\\\':\n",
    "                mask_x[i - 1] = 1\n",
    "                i -= 1\n",
    "                j -= 1\n",
    "            elif move == '^':\n",
    "                i -= 1\n",
    "            elif move == '<':\n",
    "                j -= 1\n",
    "\n",
    "        return mask_x\n",
    "\n",
    "    @staticmethod\n",
    "    def rouge_l(cand_sents, ref_sents):\n",
    "        lcs_scores = 0.0\n",
    "        cand_unigrams = get_unigram_count(chain(*cand_sents))\n",
    "        ref_unigrams = get_unigram_count(chain(*ref_sents))\n",
    "        for cand_sent in cand_sents:\n",
    "            cand_token_mask = [0 for t in cand_sent]\n",
    "            cand_len = len(cand_sent)\n",
    "            for ref_sent in ref_sents:\n",
    "                # aligns = []\n",
    "                # Rouge.lcs(ref_sent, cand_sent, aligns)\n",
    "                Rouge.my_lcs(cand_sent, ref_sent, cand_token_mask)\n",
    "\n",
    "                # for i in aligns:\n",
    "                #     ref_token_mask[i] = 1\n",
    "            # lcs = []\n",
    "            cur_lcs_score = 0.0\n",
    "            for i in range(cand_len):\n",
    "                if cand_token_mask[i]:\n",
    "                    token = cand_sent[i]\n",
    "                    if cand_unigrams[token] > 0 and ref_unigrams[token] > 0:\n",
    "                        cand_unigrams[token] -= 1\n",
    "                        ref_unigrams[token] -= 1\n",
    "                        cur_lcs_score += 1\n",
    "\n",
    "                        # lcs.append(token)\n",
    "\n",
    "            # print ' '.join(lcs)\n",
    "\n",
    "            lcs_scores += cur_lcs_score\n",
    "\n",
    "        # print \"lcs_scores: %d\" % lcs_scores\n",
    "        ref_words_count = sum(len(s) for s in ref_sents)\n",
    "        # print \"ref_words_count: %d\" % ref_words_count\n",
    "        cand_words_count = sum(len(s) for s in cand_sents)\n",
    "        # print \"cand_words_count: %d\" % cand_words_count\n",
    "\n",
    "        precision = lcs_scores / cand_words_count\n",
    "        recall = lcs_scores / ref_words_count\n",
    "        f_score = (1 + Rouge.beta ** 2) * precision * recall / (recall +\n",
    "                                                                Rouge.beta ** 2 * precision + 1e-7) + 1e-6  # prevent underflow\n",
    "        return precision, recall, f_score"
   ]
  },
  {
   "cell_type": "code",
   "execution_count": null,
   "metadata": {},
   "outputs": [],
   "source": [
    "r = Rouge()\n",
    "\n",
    "system_generated_summary = ogSum\n",
    "manual_summmary = predSum\n",
    "\n",
    "[precision, recall, f_score] = r.rouge_l([system_generated_summary], [manual_summmary])\n",
    "\n",
    "print(\"Precision is :\"+str(precision)+\"\\nRecall is :\"+str(recall)+\"\\nF Score is :\"+str(f_score))\n",
    "\n",
    "sum_F=sum_F+f_score\n",
    "avg_F=sum_F/count\n",
    "\n",
    "print(\"Sum of ROUGE Score: \",sum_F)\n",
    "print(\"Average ROUGE Score = \", avg_F)\n",
    "\n",
    "print(\"Count: \",count)"
   ]
  }
 ],
 "metadata": {
  "kernelspec": {
   "display_name": "Python 3",
   "language": "python",
   "name": "python3"
  },
  "language_info": {
   "codemirror_mode": {
    "name": "ipython",
    "version": 3
   },
   "file_extension": ".py",
   "mimetype": "text/x-python",
   "name": "python",
   "nbconvert_exporter": "python",
   "pygments_lexer": "ipython3",
   "version": "3.7.3"
  }
 },
 "nbformat": 4,
 "nbformat_minor": 2
}
