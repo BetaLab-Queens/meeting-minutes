{
 "cells": [
  {
   "cell_type": "code",
   "execution_count": 1,
   "metadata": {},
   "outputs": [],
   "source": [
    "import pandas as pd"
   ]
  },
  {
   "cell_type": "code",
   "execution_count": 2,
   "metadata": {},
   "outputs": [],
   "source": [
    "# Change local path, download using the link below. \n",
    "# https://drive.google.com/file/d/0B6N7tANPyVeBNmlSX19Ld2xDU1E/view\n",
    "path='C:/Users/R-k-l/Documents/AA Fouth Year/BetaLab/textfiles/summarycsv/sumdata/train/'\n",
    "df = pd.concat([pd.read_csv(path+'train.article.txt', sep='\\n'), \n",
    "                  pd.read_csv(path+'train.title.txt', sep='\\n')], axis=1)\n",
    "df.columns = ['Text', 'Summary']"
   ]
  },
  {
   "cell_type": "code",
   "execution_count": 3,
   "metadata": {},
   "outputs": [],
   "source": [
    "# join validation sentence pairs together into dataframe\n",
    "val = pd.concat([pd.read_csv(path+'valid.article.filter.txt', sep=\"\\n\"), \n",
    "                  pd.read_csv(path+'valid.title.filter.txt', sep=\"\\n\")], axis=1)\n",
    "val.columns = ['Text', 'Summary']"
   ]
  },
  {
   "cell_type": "code",
   "execution_count": 4,
   "metadata": {},
   "outputs": [
    {
     "data": {
      "text/plain": [
       "(3803956, 189650)"
      ]
     },
     "execution_count": 4,
     "metadata": {},
     "output_type": "execute_result"
    }
   ],
   "source": [
    "len(df), len(val)"
   ]
  },
  {
   "cell_type": "markdown",
   "metadata": {},
   "source": [
    "## Show some sample articles and titles"
   ]
  },
  {
   "cell_type": "code",
   "execution_count": 5,
   "metadata": {},
   "outputs": [
    {
     "data": {
      "text/plain": [
       "'jose mourinho renewed his partnership with portuguese international maniche on wednesday when he completed the loan signing of the ##-year-old midfielder from dynamo moscow .'"
      ]
     },
     "metadata": {},
     "output_type": "display_data"
    },
    {
     "data": {
      "text/plain": [
       "'maniche renews partnership with mourinho'"
      ]
     },
     "metadata": {},
     "output_type": "display_data"
    },
    {
     "name": "stdout",
     "output_type": "stream",
     "text": [
      "______________________\n"
     ]
    },
    {
     "data": {
      "text/plain": [
       "'tottenham sealed a miserable festive period for a toothless manchester city here wednesday with a #-# win thanks to goals from their confident striking duo of ahmed mido and robbie keane .'"
      ]
     },
     "metadata": {},
     "output_type": "display_data"
    },
    {
     "data": {
      "text/plain": [
       "'spurs compound manchester city woes'"
      ]
     },
     "metadata": {},
     "output_type": "display_data"
    },
    {
     "name": "stdout",
     "output_type": "stream",
     "text": [
      "______________________\n"
     ]
    },
    {
     "data": {
      "text/plain": [
       "\"hong kong share prices opened #.## percent higher thursday on follow-through interest in properties after wednesday 's sharp gains on abating interest rate worries , dealers said .\""
      ]
     },
     "metadata": {},
     "output_type": "display_data"
    },
    {
     "data": {
      "text/plain": [
       "'hong kong shares open higher as rate worries ease'"
      ]
     },
     "metadata": {},
     "output_type": "display_data"
    },
    {
     "name": "stdout",
     "output_type": "stream",
     "text": [
      "______________________\n"
     ]
    },
    {
     "data": {
      "text/plain": [
       "'the buffalo bills sacked tom donahoe as president and general manager on wednesday , fulfilling expectations of a shake-up after another failure to make the national football league playoffs .'"
      ]
     },
     "metadata": {},
     "output_type": "display_data"
    },
    {
     "data": {
      "text/plain": [
       "\"nfl 's bills shake up front office\""
      ]
     },
     "metadata": {},
     "output_type": "display_data"
    },
    {
     "name": "stdout",
     "output_type": "stream",
     "text": [
      "______________________\n"
     ]
    },
    {
     "data": {
      "text/plain": [
       "'a top hollywood event promoter is seeking a court order to stop socialite and hotel heiress paris hilton from allegedly harassing him and threatening his life , court documents showed wednesday .'"
      ]
     },
     "metadata": {},
     "output_type": "display_data"
    },
    {
     "data": {
      "text/plain": [
       "'man seeks stay-away order against paris hilton'"
      ]
     },
     "metadata": {},
     "output_type": "display_data"
    },
    {
     "name": "stdout",
     "output_type": "stream",
     "text": [
      "______________________\n"
     ]
    }
   ],
   "source": [
    "import random\n",
    "for i in range(5):\n",
    "    r = random.randint(0,50)\n",
    "    display(val.iloc[r]['Text'])\n",
    "    display(val.iloc[r]['Summary'])\n",
    "    print('______________________')"
   ]
  },
  {
   "cell_type": "markdown",
   "metadata": {},
   "source": [
    "## Export as a .csv file to be used and modeled. "
   ]
  },
  {
   "cell_type": "code",
   "execution_count": 6,
   "metadata": {},
   "outputs": [
    {
     "data": {
      "text/html": [
       "<div>\n",
       "<style scoped>\n",
       "    .dataframe tbody tr th:only-of-type {\n",
       "        vertical-align: middle;\n",
       "    }\n",
       "\n",
       "    .dataframe tbody tr th {\n",
       "        vertical-align: top;\n",
       "    }\n",
       "\n",
       "    .dataframe thead th {\n",
       "        text-align: right;\n",
       "    }\n",
       "</style>\n",
       "<table border=\"1\" class=\"dataframe\">\n",
       "  <thead>\n",
       "    <tr style=\"text-align: right;\">\n",
       "      <th></th>\n",
       "      <th>Text</th>\n",
       "      <th>Summary</th>\n",
       "    </tr>\n",
       "  </thead>\n",
       "  <tbody>\n",
       "    <tr>\n",
       "      <th>1232859</th>\n",
       "      <td>this weekend 's group of eight summit in russi...</td>\n",
       "      <td>britain 's blair says g-# summit may be one of...</td>\n",
       "    </tr>\n",
       "    <tr>\n",
       "      <th>1324260</th>\n",
       "      <td>one of india 's biggest christian groups tuesd...</td>\n",
       "      <td>indian christian group protests pakistani cour...</td>\n",
       "    </tr>\n",
       "    <tr>\n",
       "      <th>2614673</th>\n",
       "      <td>the internet boom is bringing sweeping demogra...</td>\n",
       "      <td>influx of new immigrants found in silicon valley</td>\n",
       "    </tr>\n",
       "    <tr>\n",
       "      <th>2050062</th>\n",
       "      <td>india 's parliament reopened monday to conside...</td>\n",
       "      <td>budget session of indian parliament opens on a...</td>\n",
       "    </tr>\n",
       "    <tr>\n",
       "      <th>2330799</th>\n",
       "      <td>taiwan 's small and medium-sized exporters tha...</td>\n",
       "      <td>new &lt;unk&gt; members offered discounted &lt;unk&gt; logos</td>\n",
       "    </tr>\n",
       "    <tr>\n",
       "      <th>...</th>\n",
       "      <td>...</td>\n",
       "      <td>...</td>\n",
       "    </tr>\n",
       "    <tr>\n",
       "      <th>527251</th>\n",
       "      <td>malaysia 's second biggest cell phone operator...</td>\n",
       "      <td>malaysia 's maxis begins trial #g services</td>\n",
       "    </tr>\n",
       "    <tr>\n",
       "      <th>1025304</th>\n",
       "      <td>a booby trap bomb was planted on the car of an...</td>\n",
       "      <td>second car bomb planted on sinn fein car</td>\n",
       "    </tr>\n",
       "    <tr>\n",
       "      <th>3727181</th>\n",
       "      <td>the death toll of israeli soldiers in an attac...</td>\n",
       "      <td>eight israeli soldiers killed in hezbollah attack</td>\n",
       "    </tr>\n",
       "    <tr>\n",
       "      <th>956575</th>\n",
       "      <td>sporadic fighting between government troops an...</td>\n",
       "      <td>philippine troops muslims rebels each claim up...</td>\n",
       "    </tr>\n",
       "    <tr>\n",
       "      <th>258548</th>\n",
       "      <td>spanish police have busted a gang suspected of...</td>\n",
       "      <td>spanish police bust fake marriage racket detai...</td>\n",
       "    </tr>\n",
       "  </tbody>\n",
       "</table>\n",
       "<p>100000 rows × 2 columns</p>\n",
       "</div>"
      ],
      "text/plain": [
       "                                                      Text  \\\n",
       "1232859  this weekend 's group of eight summit in russi...   \n",
       "1324260  one of india 's biggest christian groups tuesd...   \n",
       "2614673  the internet boom is bringing sweeping demogra...   \n",
       "2050062  india 's parliament reopened monday to conside...   \n",
       "2330799  taiwan 's small and medium-sized exporters tha...   \n",
       "...                                                    ...   \n",
       "527251   malaysia 's second biggest cell phone operator...   \n",
       "1025304  a booby trap bomb was planted on the car of an...   \n",
       "3727181  the death toll of israeli soldiers in an attac...   \n",
       "956575   sporadic fighting between government troops an...   \n",
       "258548   spanish police have busted a gang suspected of...   \n",
       "\n",
       "                                                   Summary  \n",
       "1232859  britain 's blair says g-# summit may be one of...  \n",
       "1324260  indian christian group protests pakistani cour...  \n",
       "2614673   influx of new immigrants found in silicon valley  \n",
       "2050062  budget session of indian parliament opens on a...  \n",
       "2330799   new <unk> members offered discounted <unk> logos  \n",
       "...                                                    ...  \n",
       "527251          malaysia 's maxis begins trial #g services  \n",
       "1025304           second car bomb planted on sinn fein car  \n",
       "3727181  eight israeli soldiers killed in hezbollah attack  \n",
       "956575   philippine troops muslims rebels each claim up...  \n",
       "258548   spanish police bust fake marriage racket detai...  \n",
       "\n",
       "[100000 rows x 2 columns]"
      ]
     },
     "execution_count": 6,
     "metadata": {},
     "output_type": "execute_result"
    }
   ],
   "source": [
    "sample = df.sample(100000)\n",
    "sample"
   ]
  },
  {
   "cell_type": "code",
   "execution_count": 7,
   "metadata": {},
   "outputs": [],
   "source": [
    "path='C:\\\\Users\\\\R-k-l\\\\AppData\\\\Local\\\\Programs\\\\Python\\\\Python37\\\\Scripts\\\\meeting-minutes\\\\Data\\\\model_training\\\\'\n",
    "sample.to_csv(path+'100000_samples_giga.csv', index=None)"
   ]
  },
  {
   "cell_type": "code",
   "execution_count": null,
   "metadata": {},
   "outputs": [],
   "source": []
  }
 ],
 "metadata": {
  "kernelspec": {
   "display_name": "Python 3",
   "language": "python",
   "name": "python3"
  },
  "language_info": {
   "codemirror_mode": {
    "name": "ipython",
    "version": 3
   },
   "file_extension": ".py",
   "mimetype": "text/x-python",
   "name": "python",
   "nbconvert_exporter": "python",
   "pygments_lexer": "ipython3",
   "version": "3.7.3"
  }
 },
 "nbformat": 4,
 "nbformat_minor": 2
}
